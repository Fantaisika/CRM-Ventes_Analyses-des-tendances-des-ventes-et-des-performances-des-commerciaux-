{
 "cells": [
  {
   "cell_type": "markdown",
   "metadata": {},
   "source": [
    "\n",
    "\"Ce projet vise à analyser les données d’opportunités de vente issues d’un système de gestion de la relation client (CRM). L’ensemble des données, provenant de Maven Analytics, contient des informations détaillées sur les opportunités de vente, le potentiel de revenus et les interactions avec les clients, la performance globale des ventes .\""
   ]
  },
  {
   "cell_type": "code",
   "execution_count": 1,
   "metadata": {},
   "outputs": [
    {
     "name": "stdout",
     "output_type": "stream",
     "text": [
      "Requirement already satisfied: pandas in c:\\users\\fanti\\music\\universite paris-sorbonne\\crm_ventes\\env\\lib\\site-packages (2.2.1)\n",
      "Requirement already satisfied: numpy<2,>=1.26.0 in c:\\users\\fanti\\music\\universite paris-sorbonne\\crm_ventes\\env\\lib\\site-packages (from pandas) (1.26.4)\n",
      "Requirement already satisfied: python-dateutil>=2.8.2 in c:\\users\\fanti\\music\\universite paris-sorbonne\\crm_ventes\\env\\lib\\site-packages (from pandas) (2.9.0.post0)\n",
      "Requirement already satisfied: pytz>=2020.1 in c:\\users\\fanti\\music\\universite paris-sorbonne\\crm_ventes\\env\\lib\\site-packages (from pandas) (2024.2)\n",
      "Requirement already satisfied: tzdata>=2022.7 in c:\\users\\fanti\\music\\universite paris-sorbonne\\crm_ventes\\env\\lib\\site-packages (from pandas) (2024.2)\n",
      "Requirement already satisfied: six>=1.5 in c:\\users\\fanti\\music\\universite paris-sorbonne\\crm_ventes\\env\\lib\\site-packages (from python-dateutil>=2.8.2->pandas) (1.17.0)\n",
      "Note: you may need to restart the kernel to use updated packages.\n"
     ]
    },
    {
     "name": "stderr",
     "output_type": "stream",
     "text": [
      "\n",
      "[notice] A new release of pip is available: 24.2 -> 24.3.1\n",
      "[notice] To update, run: python.exe -m pip install --upgrade pip\n"
     ]
    }
   ],
   "source": [
    "pip install pandas "
   ]
  },
  {
   "cell_type": "code",
   "execution_count": 2,
   "metadata": {},
   "outputs": [
    {
     "name": "stdout",
     "output_type": "stream",
     "text": [
      "Requirement already satisfied: numpy in c:\\users\\fanti\\music\\universite paris-sorbonne\\crm_ventes\\env\\lib\\site-packages (1.26.4)Note: you may need to restart the kernel to use updated packages.\n",
      "\n"
     ]
    },
    {
     "name": "stderr",
     "output_type": "stream",
     "text": [
      "\n",
      "[notice] A new release of pip is available: 24.2 -> 24.3.1\n",
      "[notice] To update, run: python.exe -m pip install --upgrade pip\n"
     ]
    }
   ],
   "source": [
    "pip install numpy"
   ]
  },
  {
   "cell_type": "code",
   "execution_count": 3,
   "metadata": {},
   "outputs": [],
   "source": [
    "import pandas as pd\n",
    "\n",
    "import numpy as np"
   ]
  },
  {
   "cell_type": "code",
   "execution_count": 4,
   "metadata": {},
   "outputs": [],
   "source": [
    "accounts_data= pd.read_csv(\"accounts.csv\")"
   ]
  },
  {
   "cell_type": "code",
   "execution_count": 5,
   "metadata": {},
   "outputs": [
    {
     "data": {
      "text/html": [
       "<div>\n",
       "<style scoped>\n",
       "    .dataframe tbody tr th:only-of-type {\n",
       "        vertical-align: middle;\n",
       "    }\n",
       "\n",
       "    .dataframe tbody tr th {\n",
       "        vertical-align: top;\n",
       "    }\n",
       "\n",
       "    .dataframe thead th {\n",
       "        text-align: right;\n",
       "    }\n",
       "</style>\n",
       "<table border=\"1\" class=\"dataframe\">\n",
       "  <thead>\n",
       "    <tr style=\"text-align: right;\">\n",
       "      <th></th>\n",
       "      <th>account</th>\n",
       "      <th>sector</th>\n",
       "      <th>year_established</th>\n",
       "      <th>revenue</th>\n",
       "      <th>employees</th>\n",
       "      <th>office_location</th>\n",
       "      <th>subsidiary_of</th>\n",
       "    </tr>\n",
       "  </thead>\n",
       "  <tbody>\n",
       "    <tr>\n",
       "      <th>0</th>\n",
       "      <td>Acme Corporation</td>\n",
       "      <td>technolgy</td>\n",
       "      <td>1996</td>\n",
       "      <td>1100.04</td>\n",
       "      <td>2822</td>\n",
       "      <td>United States</td>\n",
       "      <td>NaN</td>\n",
       "    </tr>\n",
       "    <tr>\n",
       "      <th>1</th>\n",
       "      <td>Betasoloin</td>\n",
       "      <td>medical</td>\n",
       "      <td>1999</td>\n",
       "      <td>251.41</td>\n",
       "      <td>495</td>\n",
       "      <td>United States</td>\n",
       "      <td>NaN</td>\n",
       "    </tr>\n",
       "    <tr>\n",
       "      <th>2</th>\n",
       "      <td>Betatech</td>\n",
       "      <td>medical</td>\n",
       "      <td>1986</td>\n",
       "      <td>647.18</td>\n",
       "      <td>1185</td>\n",
       "      <td>Kenya</td>\n",
       "      <td>NaN</td>\n",
       "    </tr>\n",
       "    <tr>\n",
       "      <th>3</th>\n",
       "      <td>Bioholding</td>\n",
       "      <td>medical</td>\n",
       "      <td>2012</td>\n",
       "      <td>587.34</td>\n",
       "      <td>1356</td>\n",
       "      <td>Philipines</td>\n",
       "      <td>NaN</td>\n",
       "    </tr>\n",
       "    <tr>\n",
       "      <th>4</th>\n",
       "      <td>Bioplex</td>\n",
       "      <td>medical</td>\n",
       "      <td>1991</td>\n",
       "      <td>326.82</td>\n",
       "      <td>1016</td>\n",
       "      <td>United States</td>\n",
       "      <td>NaN</td>\n",
       "    </tr>\n",
       "    <tr>\n",
       "      <th>5</th>\n",
       "      <td>Blackzim</td>\n",
       "      <td>retail</td>\n",
       "      <td>2009</td>\n",
       "      <td>497.11</td>\n",
       "      <td>1588</td>\n",
       "      <td>United States</td>\n",
       "      <td>NaN</td>\n",
       "    </tr>\n",
       "    <tr>\n",
       "      <th>6</th>\n",
       "      <td>Bluth Company</td>\n",
       "      <td>technolgy</td>\n",
       "      <td>1993</td>\n",
       "      <td>1242.32</td>\n",
       "      <td>3027</td>\n",
       "      <td>United States</td>\n",
       "      <td>Acme Corporation</td>\n",
       "    </tr>\n",
       "    <tr>\n",
       "      <th>7</th>\n",
       "      <td>Bubba Gump</td>\n",
       "      <td>software</td>\n",
       "      <td>2002</td>\n",
       "      <td>987.39</td>\n",
       "      <td>2253</td>\n",
       "      <td>United States</td>\n",
       "      <td>NaN</td>\n",
       "    </tr>\n",
       "    <tr>\n",
       "      <th>8</th>\n",
       "      <td>Cancity</td>\n",
       "      <td>retail</td>\n",
       "      <td>2001</td>\n",
       "      <td>718.62</td>\n",
       "      <td>2448</td>\n",
       "      <td>United States</td>\n",
       "      <td>NaN</td>\n",
       "    </tr>\n",
       "    <tr>\n",
       "      <th>9</th>\n",
       "      <td>Cheers</td>\n",
       "      <td>entertainment</td>\n",
       "      <td>1993</td>\n",
       "      <td>4269.90</td>\n",
       "      <td>6472</td>\n",
       "      <td>United States</td>\n",
       "      <td>Massive Dynamic</td>\n",
       "    </tr>\n",
       "    <tr>\n",
       "      <th>10</th>\n",
       "      <td>Codehow</td>\n",
       "      <td>software</td>\n",
       "      <td>1998</td>\n",
       "      <td>2714.90</td>\n",
       "      <td>2641</td>\n",
       "      <td>United States</td>\n",
       "      <td>Acme Corporation</td>\n",
       "    </tr>\n",
       "    <tr>\n",
       "      <th>11</th>\n",
       "      <td>Condax</td>\n",
       "      <td>medical</td>\n",
       "      <td>2017</td>\n",
       "      <td>4.54</td>\n",
       "      <td>9</td>\n",
       "      <td>United States</td>\n",
       "      <td>NaN</td>\n",
       "    </tr>\n",
       "    <tr>\n",
       "      <th>12</th>\n",
       "      <td>Conecom</td>\n",
       "      <td>technolgy</td>\n",
       "      <td>2005</td>\n",
       "      <td>1520.66</td>\n",
       "      <td>1806</td>\n",
       "      <td>United States</td>\n",
       "      <td>NaN</td>\n",
       "    </tr>\n",
       "    <tr>\n",
       "      <th>13</th>\n",
       "      <td>Dalttechnology</td>\n",
       "      <td>software</td>\n",
       "      <td>2013</td>\n",
       "      <td>98.79</td>\n",
       "      <td>96</td>\n",
       "      <td>United States</td>\n",
       "      <td>Bubba Gump</td>\n",
       "    </tr>\n",
       "    <tr>\n",
       "      <th>14</th>\n",
       "      <td>dambase</td>\n",
       "      <td>marketing</td>\n",
       "      <td>1995</td>\n",
       "      <td>2173.98</td>\n",
       "      <td>2928</td>\n",
       "      <td>United States</td>\n",
       "      <td>Inity</td>\n",
       "    </tr>\n",
       "    <tr>\n",
       "      <th>15</th>\n",
       "      <td>Domzoom</td>\n",
       "      <td>entertainment</td>\n",
       "      <td>1998</td>\n",
       "      <td>217.87</td>\n",
       "      <td>551</td>\n",
       "      <td>United States</td>\n",
       "      <td>NaN</td>\n",
       "    </tr>\n",
       "    <tr>\n",
       "      <th>16</th>\n",
       "      <td>Doncon</td>\n",
       "      <td>technolgy</td>\n",
       "      <td>2010</td>\n",
       "      <td>587.72</td>\n",
       "      <td>1501</td>\n",
       "      <td>United States</td>\n",
       "      <td>NaN</td>\n",
       "    </tr>\n",
       "    <tr>\n",
       "      <th>17</th>\n",
       "      <td>Donquadtech</td>\n",
       "      <td>technolgy</td>\n",
       "      <td>1992</td>\n",
       "      <td>1712.68</td>\n",
       "      <td>3194</td>\n",
       "      <td>United States</td>\n",
       "      <td>Acme Corporation</td>\n",
       "    </tr>\n",
       "    <tr>\n",
       "      <th>18</th>\n",
       "      <td>Dontechi</td>\n",
       "      <td>software</td>\n",
       "      <td>1982</td>\n",
       "      <td>4618.00</td>\n",
       "      <td>10083</td>\n",
       "      <td>United States</td>\n",
       "      <td>NaN</td>\n",
       "    </tr>\n",
       "    <tr>\n",
       "      <th>19</th>\n",
       "      <td>Donware</td>\n",
       "      <td>marketing</td>\n",
       "      <td>1999</td>\n",
       "      <td>1197.44</td>\n",
       "      <td>2570</td>\n",
       "      <td>United States</td>\n",
       "      <td>NaN</td>\n",
       "    </tr>\n",
       "    <tr>\n",
       "      <th>20</th>\n",
       "      <td>Fasehatice</td>\n",
       "      <td>retail</td>\n",
       "      <td>1990</td>\n",
       "      <td>4968.91</td>\n",
       "      <td>7523</td>\n",
       "      <td>United States</td>\n",
       "      <td>NaN</td>\n",
       "    </tr>\n",
       "    <tr>\n",
       "      <th>21</th>\n",
       "      <td>Faxquote</td>\n",
       "      <td>telecommunications</td>\n",
       "      <td>1995</td>\n",
       "      <td>1825.82</td>\n",
       "      <td>5595</td>\n",
       "      <td>United States</td>\n",
       "      <td>Sonron</td>\n",
       "    </tr>\n",
       "    <tr>\n",
       "      <th>22</th>\n",
       "      <td>Finhigh</td>\n",
       "      <td>finance</td>\n",
       "      <td>2006</td>\n",
       "      <td>1102.43</td>\n",
       "      <td>1759</td>\n",
       "      <td>United States</td>\n",
       "      <td>NaN</td>\n",
       "    </tr>\n",
       "    <tr>\n",
       "      <th>23</th>\n",
       "      <td>Finjob</td>\n",
       "      <td>employment</td>\n",
       "      <td>1988</td>\n",
       "      <td>2059.90</td>\n",
       "      <td>3644</td>\n",
       "      <td>United States</td>\n",
       "      <td>NaN</td>\n",
       "    </tr>\n",
       "    <tr>\n",
       "      <th>24</th>\n",
       "      <td>Funholding</td>\n",
       "      <td>finance</td>\n",
       "      <td>1991</td>\n",
       "      <td>2819.50</td>\n",
       "      <td>7227</td>\n",
       "      <td>United States</td>\n",
       "      <td>Golddex</td>\n",
       "    </tr>\n",
       "    <tr>\n",
       "      <th>25</th>\n",
       "      <td>Ganjaflex</td>\n",
       "      <td>retail</td>\n",
       "      <td>1995</td>\n",
       "      <td>5158.71</td>\n",
       "      <td>17479</td>\n",
       "      <td>Japan</td>\n",
       "      <td>NaN</td>\n",
       "    </tr>\n",
       "    <tr>\n",
       "      <th>26</th>\n",
       "      <td>Gekko &amp; Co</td>\n",
       "      <td>retail</td>\n",
       "      <td>1990</td>\n",
       "      <td>2520.83</td>\n",
       "      <td>3502</td>\n",
       "      <td>United States</td>\n",
       "      <td>NaN</td>\n",
       "    </tr>\n",
       "    <tr>\n",
       "      <th>27</th>\n",
       "      <td>Genco Pura Olive Oil Company</td>\n",
       "      <td>retail</td>\n",
       "      <td>2007</td>\n",
       "      <td>894.33</td>\n",
       "      <td>1635</td>\n",
       "      <td>Italy</td>\n",
       "      <td>NaN</td>\n",
       "    </tr>\n",
       "    <tr>\n",
       "      <th>28</th>\n",
       "      <td>Globex Corporation</td>\n",
       "      <td>technolgy</td>\n",
       "      <td>2000</td>\n",
       "      <td>1223.72</td>\n",
       "      <td>2497</td>\n",
       "      <td>Norway</td>\n",
       "      <td>NaN</td>\n",
       "    </tr>\n",
       "    <tr>\n",
       "      <th>29</th>\n",
       "      <td>Gogozoom</td>\n",
       "      <td>telecommunications</td>\n",
       "      <td>2007</td>\n",
       "      <td>86.68</td>\n",
       "      <td>187</td>\n",
       "      <td>United States</td>\n",
       "      <td>Sonron</td>\n",
       "    </tr>\n",
       "    <tr>\n",
       "      <th>30</th>\n",
       "      <td>Golddex</td>\n",
       "      <td>finance</td>\n",
       "      <td>2008</td>\n",
       "      <td>52.50</td>\n",
       "      <td>165</td>\n",
       "      <td>United States</td>\n",
       "      <td>NaN</td>\n",
       "    </tr>\n",
       "    <tr>\n",
       "      <th>31</th>\n",
       "      <td>Goodsilron</td>\n",
       "      <td>marketing</td>\n",
       "      <td>2000</td>\n",
       "      <td>2952.73</td>\n",
       "      <td>5107</td>\n",
       "      <td>United States</td>\n",
       "      <td>NaN</td>\n",
       "    </tr>\n",
       "    <tr>\n",
       "      <th>32</th>\n",
       "      <td>Green-Plus</td>\n",
       "      <td>services</td>\n",
       "      <td>2003</td>\n",
       "      <td>692.19</td>\n",
       "      <td>1922</td>\n",
       "      <td>United States</td>\n",
       "      <td>NaN</td>\n",
       "    </tr>\n",
       "    <tr>\n",
       "      <th>33</th>\n",
       "      <td>Groovestreet</td>\n",
       "      <td>retail</td>\n",
       "      <td>2003</td>\n",
       "      <td>223.80</td>\n",
       "      <td>299</td>\n",
       "      <td>United States</td>\n",
       "      <td>NaN</td>\n",
       "    </tr>\n",
       "    <tr>\n",
       "      <th>34</th>\n",
       "      <td>Hatfan</td>\n",
       "      <td>services</td>\n",
       "      <td>1982</td>\n",
       "      <td>792.46</td>\n",
       "      <td>1299</td>\n",
       "      <td>United States</td>\n",
       "      <td>NaN</td>\n",
       "    </tr>\n",
       "    <tr>\n",
       "      <th>35</th>\n",
       "      <td>Hottechi</td>\n",
       "      <td>technolgy</td>\n",
       "      <td>1997</td>\n",
       "      <td>8170.38</td>\n",
       "      <td>16499</td>\n",
       "      <td>Korea</td>\n",
       "      <td>NaN</td>\n",
       "    </tr>\n",
       "    <tr>\n",
       "      <th>36</th>\n",
       "      <td>Initech</td>\n",
       "      <td>telecommunications</td>\n",
       "      <td>1994</td>\n",
       "      <td>6395.05</td>\n",
       "      <td>20275</td>\n",
       "      <td>United States</td>\n",
       "      <td>NaN</td>\n",
       "    </tr>\n",
       "    <tr>\n",
       "      <th>37</th>\n",
       "      <td>Inity</td>\n",
       "      <td>marketing</td>\n",
       "      <td>1986</td>\n",
       "      <td>2403.58</td>\n",
       "      <td>8801</td>\n",
       "      <td>United States</td>\n",
       "      <td>NaN</td>\n",
       "    </tr>\n",
       "    <tr>\n",
       "      <th>38</th>\n",
       "      <td>Isdom</td>\n",
       "      <td>medical</td>\n",
       "      <td>2002</td>\n",
       "      <td>3178.24</td>\n",
       "      <td>4540</td>\n",
       "      <td>United States</td>\n",
       "      <td>NaN</td>\n",
       "    </tr>\n",
       "    <tr>\n",
       "      <th>39</th>\n",
       "      <td>Iselectrics</td>\n",
       "      <td>technolgy</td>\n",
       "      <td>2011</td>\n",
       "      <td>527.11</td>\n",
       "      <td>1428</td>\n",
       "      <td>United States</td>\n",
       "      <td>Acme Corporation</td>\n",
       "    </tr>\n",
       "    <tr>\n",
       "      <th>40</th>\n",
       "      <td>J-Texon</td>\n",
       "      <td>retail</td>\n",
       "      <td>1989</td>\n",
       "      <td>1388.67</td>\n",
       "      <td>3583</td>\n",
       "      <td>United States</td>\n",
       "      <td>NaN</td>\n",
       "    </tr>\n",
       "    <tr>\n",
       "      <th>41</th>\n",
       "      <td>Kan-code</td>\n",
       "      <td>software</td>\n",
       "      <td>1982</td>\n",
       "      <td>11698.03</td>\n",
       "      <td>34288</td>\n",
       "      <td>United States</td>\n",
       "      <td>NaN</td>\n",
       "    </tr>\n",
       "    <tr>\n",
       "      <th>42</th>\n",
       "      <td>Kinnamplus</td>\n",
       "      <td>retail</td>\n",
       "      <td>2004</td>\n",
       "      <td>702.72</td>\n",
       "      <td>1831</td>\n",
       "      <td>United States</td>\n",
       "      <td>NaN</td>\n",
       "    </tr>\n",
       "    <tr>\n",
       "      <th>43</th>\n",
       "      <td>Konex</td>\n",
       "      <td>technolgy</td>\n",
       "      <td>1980</td>\n",
       "      <td>7708.38</td>\n",
       "      <td>13756</td>\n",
       "      <td>United States</td>\n",
       "      <td>NaN</td>\n",
       "    </tr>\n",
       "    <tr>\n",
       "      <th>44</th>\n",
       "      <td>Konmatfix</td>\n",
       "      <td>marketing</td>\n",
       "      <td>1985</td>\n",
       "      <td>375.43</td>\n",
       "      <td>1190</td>\n",
       "      <td>United States</td>\n",
       "      <td>NaN</td>\n",
       "    </tr>\n",
       "    <tr>\n",
       "      <th>45</th>\n",
       "      <td>Labdrill</td>\n",
       "      <td>medical</td>\n",
       "      <td>1985</td>\n",
       "      <td>2741.37</td>\n",
       "      <td>9226</td>\n",
       "      <td>United States</td>\n",
       "      <td>NaN</td>\n",
       "    </tr>\n",
       "    <tr>\n",
       "      <th>46</th>\n",
       "      <td>Lexiqvolax</td>\n",
       "      <td>medical</td>\n",
       "      <td>2004</td>\n",
       "      <td>1618.89</td>\n",
       "      <td>3889</td>\n",
       "      <td>United States</td>\n",
       "      <td>NaN</td>\n",
       "    </tr>\n",
       "    <tr>\n",
       "      <th>47</th>\n",
       "      <td>Massive Dynamic</td>\n",
       "      <td>entertainment</td>\n",
       "      <td>1989</td>\n",
       "      <td>665.06</td>\n",
       "      <td>1095</td>\n",
       "      <td>United States</td>\n",
       "      <td>NaN</td>\n",
       "    </tr>\n",
       "    <tr>\n",
       "      <th>48</th>\n",
       "      <td>Mathtouch</td>\n",
       "      <td>marketing</td>\n",
       "      <td>1984</td>\n",
       "      <td>3027.46</td>\n",
       "      <td>9516</td>\n",
       "      <td>Jordan</td>\n",
       "      <td>NaN</td>\n",
       "    </tr>\n",
       "    <tr>\n",
       "      <th>49</th>\n",
       "      <td>Nam-zim</td>\n",
       "      <td>services</td>\n",
       "      <td>1987</td>\n",
       "      <td>405.59</td>\n",
       "      <td>1179</td>\n",
       "      <td>Brazil</td>\n",
       "      <td>Warephase</td>\n",
       "    </tr>\n",
       "  </tbody>\n",
       "</table>\n",
       "</div>"
      ],
      "text/plain": [
       "                         account              sector  year_established  \\\n",
       "0               Acme Corporation           technolgy              1996   \n",
       "1                     Betasoloin             medical              1999   \n",
       "2                       Betatech             medical              1986   \n",
       "3                     Bioholding             medical              2012   \n",
       "4                        Bioplex             medical              1991   \n",
       "5                       Blackzim              retail              2009   \n",
       "6                  Bluth Company           technolgy              1993   \n",
       "7                     Bubba Gump            software              2002   \n",
       "8                        Cancity              retail              2001   \n",
       "9                         Cheers       entertainment              1993   \n",
       "10                       Codehow            software              1998   \n",
       "11                        Condax             medical              2017   \n",
       "12                       Conecom           technolgy              2005   \n",
       "13                Dalttechnology            software              2013   \n",
       "14                       dambase           marketing              1995   \n",
       "15                       Domzoom       entertainment              1998   \n",
       "16                        Doncon           technolgy              2010   \n",
       "17                   Donquadtech           technolgy              1992   \n",
       "18                      Dontechi            software              1982   \n",
       "19                       Donware           marketing              1999   \n",
       "20                    Fasehatice              retail              1990   \n",
       "21                      Faxquote  telecommunications              1995   \n",
       "22                       Finhigh             finance              2006   \n",
       "23                        Finjob          employment              1988   \n",
       "24                    Funholding             finance              1991   \n",
       "25                     Ganjaflex              retail              1995   \n",
       "26                    Gekko & Co              retail              1990   \n",
       "27  Genco Pura Olive Oil Company              retail              2007   \n",
       "28            Globex Corporation           technolgy              2000   \n",
       "29                      Gogozoom  telecommunications              2007   \n",
       "30                       Golddex             finance              2008   \n",
       "31                    Goodsilron           marketing              2000   \n",
       "32                    Green-Plus            services              2003   \n",
       "33                  Groovestreet              retail              2003   \n",
       "34                        Hatfan            services              1982   \n",
       "35                      Hottechi           technolgy              1997   \n",
       "36                       Initech  telecommunications              1994   \n",
       "37                         Inity           marketing              1986   \n",
       "38                         Isdom             medical              2002   \n",
       "39                   Iselectrics           technolgy              2011   \n",
       "40                       J-Texon              retail              1989   \n",
       "41                      Kan-code            software              1982   \n",
       "42                    Kinnamplus              retail              2004   \n",
       "43                         Konex           technolgy              1980   \n",
       "44                     Konmatfix           marketing              1985   \n",
       "45                      Labdrill             medical              1985   \n",
       "46                    Lexiqvolax             medical              2004   \n",
       "47               Massive Dynamic       entertainment              1989   \n",
       "48                     Mathtouch           marketing              1984   \n",
       "49                       Nam-zim            services              1987   \n",
       "\n",
       "     revenue  employees office_location     subsidiary_of  \n",
       "0    1100.04       2822   United States               NaN  \n",
       "1     251.41        495   United States               NaN  \n",
       "2     647.18       1185           Kenya               NaN  \n",
       "3     587.34       1356      Philipines               NaN  \n",
       "4     326.82       1016   United States               NaN  \n",
       "5     497.11       1588   United States               NaN  \n",
       "6    1242.32       3027   United States  Acme Corporation  \n",
       "7     987.39       2253   United States               NaN  \n",
       "8     718.62       2448   United States               NaN  \n",
       "9    4269.90       6472   United States   Massive Dynamic  \n",
       "10   2714.90       2641   United States  Acme Corporation  \n",
       "11      4.54          9   United States               NaN  \n",
       "12   1520.66       1806   United States               NaN  \n",
       "13     98.79         96   United States        Bubba Gump  \n",
       "14   2173.98       2928   United States             Inity  \n",
       "15    217.87        551   United States               NaN  \n",
       "16    587.72       1501   United States               NaN  \n",
       "17   1712.68       3194   United States  Acme Corporation  \n",
       "18   4618.00      10083   United States               NaN  \n",
       "19   1197.44       2570   United States               NaN  \n",
       "20   4968.91       7523   United States               NaN  \n",
       "21   1825.82       5595   United States            Sonron  \n",
       "22   1102.43       1759   United States               NaN  \n",
       "23   2059.90       3644   United States               NaN  \n",
       "24   2819.50       7227   United States           Golddex  \n",
       "25   5158.71      17479           Japan               NaN  \n",
       "26   2520.83       3502   United States               NaN  \n",
       "27    894.33       1635           Italy               NaN  \n",
       "28   1223.72       2497          Norway               NaN  \n",
       "29     86.68        187   United States            Sonron  \n",
       "30     52.50        165   United States               NaN  \n",
       "31   2952.73       5107   United States               NaN  \n",
       "32    692.19       1922   United States               NaN  \n",
       "33    223.80        299   United States               NaN  \n",
       "34    792.46       1299   United States               NaN  \n",
       "35   8170.38      16499           Korea               NaN  \n",
       "36   6395.05      20275   United States               NaN  \n",
       "37   2403.58       8801   United States               NaN  \n",
       "38   3178.24       4540   United States               NaN  \n",
       "39    527.11       1428   United States  Acme Corporation  \n",
       "40   1388.67       3583   United States               NaN  \n",
       "41  11698.03      34288   United States               NaN  \n",
       "42    702.72       1831   United States               NaN  \n",
       "43   7708.38      13756   United States               NaN  \n",
       "44    375.43       1190   United States               NaN  \n",
       "45   2741.37       9226   United States               NaN  \n",
       "46   1618.89       3889   United States               NaN  \n",
       "47    665.06       1095   United States               NaN  \n",
       "48   3027.46       9516          Jordan               NaN  \n",
       "49    405.59       1179          Brazil         Warephase  "
      ]
     },
     "execution_count": 5,
     "metadata": {},
     "output_type": "execute_result"
    }
   ],
   "source": [
    "accounts_data.head(50)"
   ]
  },
  {
   "cell_type": "code",
   "execution_count": 6,
   "metadata": {},
   "outputs": [
    {
     "name": "stdout",
     "output_type": "stream",
     "text": [
      "le nombre de lignes dans la base accounts_data est 85 et le nombre de variable est 7\n"
     ]
    }
   ],
   "source": [
    "lignes=accounts_data.shape[0]\n",
    "variables=accounts_data.shape[1]\n",
    "\n",
    "print(f\"le nombre de lignes dans la base accounts_data est {lignes} et le nombre de variable est {variables}\")"
   ]
  },
  {
   "cell_type": "markdown",
   "metadata": {},
   "source": [
    "Exploaration accounts_data"
   ]
  },
  {
   "cell_type": "code",
   "execution_count": 7,
   "metadata": {},
   "outputs": [
    {
     "data": {
      "text/html": [
       "<div>\n",
       "<style scoped>\n",
       "    .dataframe tbody tr th:only-of-type {\n",
       "        vertical-align: middle;\n",
       "    }\n",
       "\n",
       "    .dataframe tbody tr th {\n",
       "        vertical-align: top;\n",
       "    }\n",
       "\n",
       "    .dataframe thead th {\n",
       "        text-align: right;\n",
       "    }\n",
       "</style>\n",
       "<table border=\"1\" class=\"dataframe\">\n",
       "  <thead>\n",
       "    <tr style=\"text-align: right;\">\n",
       "      <th></th>\n",
       "      <th>variables</th>\n",
       "      <th>types</th>\n",
       "      <th>unique_value</th>\n",
       "      <th>Na_counts</th>\n",
       "      <th>Na_percents%</th>\n",
       "      <th>variables_descriptives</th>\n",
       "    </tr>\n",
       "  </thead>\n",
       "  <tbody>\n",
       "    <tr>\n",
       "      <th>0</th>\n",
       "      <td>account</td>\n",
       "      <td>object</td>\n",
       "      <td>85</td>\n",
       "      <td>0</td>\n",
       "      <td>0.00</td>\n",
       "      <td>compte de l'entreprise</td>\n",
       "    </tr>\n",
       "    <tr>\n",
       "      <th>1</th>\n",
       "      <td>sector</td>\n",
       "      <td>object</td>\n",
       "      <td>10</td>\n",
       "      <td>0</td>\n",
       "      <td>0.00</td>\n",
       "      <td>secteurs d'activité de l'entreprise</td>\n",
       "    </tr>\n",
       "    <tr>\n",
       "      <th>2</th>\n",
       "      <td>year_established</td>\n",
       "      <td>int64</td>\n",
       "      <td>35</td>\n",
       "      <td>0</td>\n",
       "      <td>0.00</td>\n",
       "      <td>année de creation de l'entreprise</td>\n",
       "    </tr>\n",
       "    <tr>\n",
       "      <th>3</th>\n",
       "      <td>revenue</td>\n",
       "      <td>float64</td>\n",
       "      <td>85</td>\n",
       "      <td>0</td>\n",
       "      <td>0.00</td>\n",
       "      <td>montant total des revenu générés par l'entreprise</td>\n",
       "    </tr>\n",
       "    <tr>\n",
       "      <th>4</th>\n",
       "      <td>employees</td>\n",
       "      <td>int64</td>\n",
       "      <td>85</td>\n",
       "      <td>0</td>\n",
       "      <td>0.00</td>\n",
       "      <td>le nombre total d'employés travaillant dans l'...</td>\n",
       "    </tr>\n",
       "    <tr>\n",
       "      <th>5</th>\n",
       "      <td>office_location</td>\n",
       "      <td>object</td>\n",
       "      <td>15</td>\n",
       "      <td>0</td>\n",
       "      <td>0.00</td>\n",
       "      <td>la localisation géographique principale du bur...</td>\n",
       "    </tr>\n",
       "    <tr>\n",
       "      <th>6</th>\n",
       "      <td>subsidiary_of</td>\n",
       "      <td>object</td>\n",
       "      <td>7</td>\n",
       "      <td>70</td>\n",
       "      <td>82.35</td>\n",
       "      <td>filiale d'une autre société</td>\n",
       "    </tr>\n",
       "  </tbody>\n",
       "</table>\n",
       "</div>"
      ],
      "text/plain": [
       "          variables    types  unique_value  Na_counts  Na_percents%  \\\n",
       "0           account   object            85          0          0.00   \n",
       "1            sector   object            10          0          0.00   \n",
       "2  year_established    int64            35          0          0.00   \n",
       "3           revenue  float64            85          0          0.00   \n",
       "4         employees    int64            85          0          0.00   \n",
       "5   office_location   object            15          0          0.00   \n",
       "6     subsidiary_of   object             7         70         82.35   \n",
       "\n",
       "                              variables_descriptives  \n",
       "0                            compte de l'entreprise   \n",
       "1                secteurs d'activité de l'entreprise  \n",
       "2                  année de creation de l'entreprise  \n",
       "3  montant total des revenu générés par l'entreprise  \n",
       "4  le nombre total d'employés travaillant dans l'...  \n",
       "5  la localisation géographique principale du bur...  \n",
       "6                        filiale d'une autre société  "
      ]
     },
     "execution_count": 7,
     "metadata": {},
     "output_type": "execute_result"
    }
   ],
   "source": [
    "dictionnaire ={\n",
    "    'account':\"compte de l'entreprise \",\n",
    "    'sector':\"secteurs d'activité de l'entreprise\",\n",
    "    'year_established':\"année de creation de l'entreprise\",\n",
    "    'revenue':\"montant total des revenu générés par l'entreprise\",\n",
    "    'employees':\"le nombre total d'employés travaillant dans l'entreprise\",\n",
    "    'office_location':\"la localisation géographique principale du bureau de l'entreprise\",\n",
    "    'subsidiary_of':\"filiale d'une autre société\"\n",
    "}\n",
    "\n",
    "\n",
    "def info(data):\n",
    "    Information=pd.DataFrame({\n",
    "        'variables':data.columns,\n",
    "        'types':data.dtypes,\n",
    "        'unique_value':data.nunique(),\n",
    "        'Na_counts':data.isna().sum(),\n",
    "        'Na_percents%':data.isna().mean().round(4)*100\n",
    "\n",
    "        \n",
    "    }).reset_index(drop=True)\n",
    "\n",
    "    Information['variables_descriptives']= Information['variables'].map( dictionnaire)\n",
    "\n",
    "    return Information\n",
    "\n",
    "metadonnées1=info(accounts_data)\n",
    "metadonnées1"
   ]
  },
  {
   "cell_type": "code",
   "execution_count": 8,
   "metadata": {},
   "outputs": [],
   "source": [
    "accounts_data[\"subsidiary_of\"]=accounts_data[\"subsidiary_of\"].fillna(\"Indépendant\")\n"
   ]
  },
  {
   "cell_type": "code",
   "execution_count": 9,
   "metadata": {},
   "outputs": [
    {
     "data": {
      "text/html": [
       "<div>\n",
       "<style scoped>\n",
       "    .dataframe tbody tr th:only-of-type {\n",
       "        vertical-align: middle;\n",
       "    }\n",
       "\n",
       "    .dataframe tbody tr th {\n",
       "        vertical-align: top;\n",
       "    }\n",
       "\n",
       "    .dataframe thead th {\n",
       "        text-align: right;\n",
       "    }\n",
       "</style>\n",
       "<table border=\"1\" class=\"dataframe\">\n",
       "  <thead>\n",
       "    <tr style=\"text-align: right;\">\n",
       "      <th></th>\n",
       "      <th>variables</th>\n",
       "      <th>types</th>\n",
       "      <th>unique_value</th>\n",
       "      <th>Na_counts</th>\n",
       "      <th>Na_percents%</th>\n",
       "      <th>variables_descriptives</th>\n",
       "    </tr>\n",
       "  </thead>\n",
       "  <tbody>\n",
       "    <tr>\n",
       "      <th>0</th>\n",
       "      <td>account</td>\n",
       "      <td>object</td>\n",
       "      <td>85</td>\n",
       "      <td>0</td>\n",
       "      <td>0.00</td>\n",
       "      <td>compte de l'entreprise</td>\n",
       "    </tr>\n",
       "    <tr>\n",
       "      <th>1</th>\n",
       "      <td>sector</td>\n",
       "      <td>object</td>\n",
       "      <td>10</td>\n",
       "      <td>0</td>\n",
       "      <td>0.00</td>\n",
       "      <td>secteurs d'activité de l'entreprise</td>\n",
       "    </tr>\n",
       "    <tr>\n",
       "      <th>2</th>\n",
       "      <td>year_established</td>\n",
       "      <td>int64</td>\n",
       "      <td>35</td>\n",
       "      <td>0</td>\n",
       "      <td>0.00</td>\n",
       "      <td>année de creation de l'entreprise</td>\n",
       "    </tr>\n",
       "    <tr>\n",
       "      <th>3</th>\n",
       "      <td>revenue</td>\n",
       "      <td>float64</td>\n",
       "      <td>85</td>\n",
       "      <td>0</td>\n",
       "      <td>0.00</td>\n",
       "      <td>montant total des revenu générés par l'entreprise</td>\n",
       "    </tr>\n",
       "    <tr>\n",
       "      <th>4</th>\n",
       "      <td>employees</td>\n",
       "      <td>int64</td>\n",
       "      <td>85</td>\n",
       "      <td>0</td>\n",
       "      <td>0.00</td>\n",
       "      <td>le nombre total d'employés travaillant dans l'...</td>\n",
       "    </tr>\n",
       "    <tr>\n",
       "      <th>5</th>\n",
       "      <td>office_location</td>\n",
       "      <td>object</td>\n",
       "      <td>15</td>\n",
       "      <td>0</td>\n",
       "      <td>0.00</td>\n",
       "      <td>la localisation géographique principale du bur...</td>\n",
       "    </tr>\n",
       "    <tr>\n",
       "      <th>6</th>\n",
       "      <td>subsidiary_of</td>\n",
       "      <td>object</td>\n",
       "      <td>7</td>\n",
       "      <td>70</td>\n",
       "      <td>82.35</td>\n",
       "      <td>filiale d'une autre société</td>\n",
       "    </tr>\n",
       "  </tbody>\n",
       "</table>\n",
       "</div>"
      ],
      "text/plain": [
       "          variables    types  unique_value  Na_counts  Na_percents%  \\\n",
       "0           account   object            85          0          0.00   \n",
       "1            sector   object            10          0          0.00   \n",
       "2  year_established    int64            35          0          0.00   \n",
       "3           revenue  float64            85          0          0.00   \n",
       "4         employees    int64            85          0          0.00   \n",
       "5   office_location   object            15          0          0.00   \n",
       "6     subsidiary_of   object             7         70         82.35   \n",
       "\n",
       "                              variables_descriptives  \n",
       "0                            compte de l'entreprise   \n",
       "1                secteurs d'activité de l'entreprise  \n",
       "2                  année de creation de l'entreprise  \n",
       "3  montant total des revenu générés par l'entreprise  \n",
       "4  le nombre total d'employés travaillant dans l'...  \n",
       "5  la localisation géographique principale du bur...  \n",
       "6                        filiale d'une autre société  "
      ]
     },
     "execution_count": 9,
     "metadata": {},
     "output_type": "execute_result"
    }
   ],
   "source": [
    "metadonnées1"
   ]
  },
  {
   "cell_type": "code",
   "execution_count": 10,
   "metadata": {},
   "outputs": [
    {
     "data": {
      "text/plain": [
       "array(['Indépendant', 'Acme Corporation', 'Massive Dynamic', 'Bubba Gump',\n",
       "       'Inity', 'Sonron', 'Golddex', 'Warephase'], dtype=object)"
      ]
     },
     "execution_count": 10,
     "metadata": {},
     "output_type": "execute_result"
    }
   ],
   "source": [
    "# affiche tout   les valeurs unique dans la colonne\n",
    "\n",
    "accounts_data[\"subsidiary_of\"].unique()  "
   ]
  },
  {
   "cell_type": "code",
   "execution_count": 11,
   "metadata": {},
   "outputs": [
    {
     "name": "stdout",
     "output_type": "stream",
     "text": [
      "0\n"
     ]
    }
   ],
   "source": [
    "# pour compter le nombre de valeurs manquantes dans la colonne \n",
    "\n",
    "print(accounts_data[\"subsidiary_of\"].isnull().sum())  \n"
   ]
  },
  {
   "cell_type": "code",
   "execution_count": 12,
   "metadata": {},
   "outputs": [
    {
     "name": "stdout",
     "output_type": "stream",
     "text": [
      "subsidiary_of\n",
      "Indépendant         70\n",
      "Acme Corporation     4\n",
      "Sonron               3\n",
      "Bubba Gump           2\n",
      "Inity                2\n",
      "Golddex              2\n",
      "Massive Dynamic      1\n",
      "Warephase            1\n",
      "Name: count, dtype: int64\n"
     ]
    }
   ],
   "source": [
    "# nombre de filiales et des independants , en comptant le nombre de frequence de chaque valeur unique dans la colonne \n",
    "\n",
    "filiales_counts=accounts_data[\"subsidiary_of\"].value_counts()\n",
    "\n",
    "print((filiales_counts))"
   ]
  },
  {
   "cell_type": "code",
   "execution_count": 13,
   "metadata": {},
   "outputs": [
    {
     "data": {
      "application/vnd.plotly.v1+json": {
       "config": {
        "plotlyServerURL": "https://plot.ly"
       },
       "data": [
        {
         "alignmentgroup": "True",
         "hovertemplate": "Type d'entreprise=%{x}<br>Nombre d'entreprises=%{text}<extra></extra>",
         "legendgroup": "",
         "marker": {
          "color": "#636efa",
          "pattern": {
           "shape": ""
          }
         },
         "name": "",
         "offsetgroup": "",
         "orientation": "v",
         "showlegend": false,
         "text": [
          70,
          4,
          3,
          2,
          2,
          2,
          1,
          1
         ],
         "textposition": "outside",
         "type": "bar",
         "x": [
          "Indépendant",
          "Acme Corporation",
          "Sonron",
          "Bubba Gump",
          "Inity",
          "Golddex",
          "Massive Dynamic",
          "Warephase"
         ],
         "xaxis": "x",
         "y": [
          70,
          4,
          3,
          2,
          2,
          2,
          1,
          1
         ],
         "yaxis": "y"
        }
       ],
       "layout": {
        "barmode": "relative",
        "legend": {
         "tracegroupgap": 0
        },
        "template": {
         "data": {
          "bar": [
           {
            "error_x": {
             "color": "#2a3f5f"
            },
            "error_y": {
             "color": "#2a3f5f"
            },
            "marker": {
             "line": {
              "color": "#E5ECF6",
              "width": 0.5
             },
             "pattern": {
              "fillmode": "overlay",
              "size": 10,
              "solidity": 0.2
             }
            },
            "type": "bar"
           }
          ],
          "barpolar": [
           {
            "marker": {
             "line": {
              "color": "#E5ECF6",
              "width": 0.5
             },
             "pattern": {
              "fillmode": "overlay",
              "size": 10,
              "solidity": 0.2
             }
            },
            "type": "barpolar"
           }
          ],
          "carpet": [
           {
            "aaxis": {
             "endlinecolor": "#2a3f5f",
             "gridcolor": "white",
             "linecolor": "white",
             "minorgridcolor": "white",
             "startlinecolor": "#2a3f5f"
            },
            "baxis": {
             "endlinecolor": "#2a3f5f",
             "gridcolor": "white",
             "linecolor": "white",
             "minorgridcolor": "white",
             "startlinecolor": "#2a3f5f"
            },
            "type": "carpet"
           }
          ],
          "choropleth": [
           {
            "colorbar": {
             "outlinewidth": 0,
             "ticks": ""
            },
            "type": "choropleth"
           }
          ],
          "contour": [
           {
            "colorbar": {
             "outlinewidth": 0,
             "ticks": ""
            },
            "colorscale": [
             [
              0,
              "#0d0887"
             ],
             [
              0.1111111111111111,
              "#46039f"
             ],
             [
              0.2222222222222222,
              "#7201a8"
             ],
             [
              0.3333333333333333,
              "#9c179e"
             ],
             [
              0.4444444444444444,
              "#bd3786"
             ],
             [
              0.5555555555555556,
              "#d8576b"
             ],
             [
              0.6666666666666666,
              "#ed7953"
             ],
             [
              0.7777777777777778,
              "#fb9f3a"
             ],
             [
              0.8888888888888888,
              "#fdca26"
             ],
             [
              1,
              "#f0f921"
             ]
            ],
            "type": "contour"
           }
          ],
          "contourcarpet": [
           {
            "colorbar": {
             "outlinewidth": 0,
             "ticks": ""
            },
            "type": "contourcarpet"
           }
          ],
          "heatmap": [
           {
            "colorbar": {
             "outlinewidth": 0,
             "ticks": ""
            },
            "colorscale": [
             [
              0,
              "#0d0887"
             ],
             [
              0.1111111111111111,
              "#46039f"
             ],
             [
              0.2222222222222222,
              "#7201a8"
             ],
             [
              0.3333333333333333,
              "#9c179e"
             ],
             [
              0.4444444444444444,
              "#bd3786"
             ],
             [
              0.5555555555555556,
              "#d8576b"
             ],
             [
              0.6666666666666666,
              "#ed7953"
             ],
             [
              0.7777777777777778,
              "#fb9f3a"
             ],
             [
              0.8888888888888888,
              "#fdca26"
             ],
             [
              1,
              "#f0f921"
             ]
            ],
            "type": "heatmap"
           }
          ],
          "heatmapgl": [
           {
            "colorbar": {
             "outlinewidth": 0,
             "ticks": ""
            },
            "colorscale": [
             [
              0,
              "#0d0887"
             ],
             [
              0.1111111111111111,
              "#46039f"
             ],
             [
              0.2222222222222222,
              "#7201a8"
             ],
             [
              0.3333333333333333,
              "#9c179e"
             ],
             [
              0.4444444444444444,
              "#bd3786"
             ],
             [
              0.5555555555555556,
              "#d8576b"
             ],
             [
              0.6666666666666666,
              "#ed7953"
             ],
             [
              0.7777777777777778,
              "#fb9f3a"
             ],
             [
              0.8888888888888888,
              "#fdca26"
             ],
             [
              1,
              "#f0f921"
             ]
            ],
            "type": "heatmapgl"
           }
          ],
          "histogram": [
           {
            "marker": {
             "pattern": {
              "fillmode": "overlay",
              "size": 10,
              "solidity": 0.2
             }
            },
            "type": "histogram"
           }
          ],
          "histogram2d": [
           {
            "colorbar": {
             "outlinewidth": 0,
             "ticks": ""
            },
            "colorscale": [
             [
              0,
              "#0d0887"
             ],
             [
              0.1111111111111111,
              "#46039f"
             ],
             [
              0.2222222222222222,
              "#7201a8"
             ],
             [
              0.3333333333333333,
              "#9c179e"
             ],
             [
              0.4444444444444444,
              "#bd3786"
             ],
             [
              0.5555555555555556,
              "#d8576b"
             ],
             [
              0.6666666666666666,
              "#ed7953"
             ],
             [
              0.7777777777777778,
              "#fb9f3a"
             ],
             [
              0.8888888888888888,
              "#fdca26"
             ],
             [
              1,
              "#f0f921"
             ]
            ],
            "type": "histogram2d"
           }
          ],
          "histogram2dcontour": [
           {
            "colorbar": {
             "outlinewidth": 0,
             "ticks": ""
            },
            "colorscale": [
             [
              0,
              "#0d0887"
             ],
             [
              0.1111111111111111,
              "#46039f"
             ],
             [
              0.2222222222222222,
              "#7201a8"
             ],
             [
              0.3333333333333333,
              "#9c179e"
             ],
             [
              0.4444444444444444,
              "#bd3786"
             ],
             [
              0.5555555555555556,
              "#d8576b"
             ],
             [
              0.6666666666666666,
              "#ed7953"
             ],
             [
              0.7777777777777778,
              "#fb9f3a"
             ],
             [
              0.8888888888888888,
              "#fdca26"
             ],
             [
              1,
              "#f0f921"
             ]
            ],
            "type": "histogram2dcontour"
           }
          ],
          "mesh3d": [
           {
            "colorbar": {
             "outlinewidth": 0,
             "ticks": ""
            },
            "type": "mesh3d"
           }
          ],
          "parcoords": [
           {
            "line": {
             "colorbar": {
              "outlinewidth": 0,
              "ticks": ""
             }
            },
            "type": "parcoords"
           }
          ],
          "pie": [
           {
            "automargin": true,
            "type": "pie"
           }
          ],
          "scatter": [
           {
            "fillpattern": {
             "fillmode": "overlay",
             "size": 10,
             "solidity": 0.2
            },
            "type": "scatter"
           }
          ],
          "scatter3d": [
           {
            "line": {
             "colorbar": {
              "outlinewidth": 0,
              "ticks": ""
             }
            },
            "marker": {
             "colorbar": {
              "outlinewidth": 0,
              "ticks": ""
             }
            },
            "type": "scatter3d"
           }
          ],
          "scattercarpet": [
           {
            "marker": {
             "colorbar": {
              "outlinewidth": 0,
              "ticks": ""
             }
            },
            "type": "scattercarpet"
           }
          ],
          "scattergeo": [
           {
            "marker": {
             "colorbar": {
              "outlinewidth": 0,
              "ticks": ""
             }
            },
            "type": "scattergeo"
           }
          ],
          "scattergl": [
           {
            "marker": {
             "colorbar": {
              "outlinewidth": 0,
              "ticks": ""
             }
            },
            "type": "scattergl"
           }
          ],
          "scattermapbox": [
           {
            "marker": {
             "colorbar": {
              "outlinewidth": 0,
              "ticks": ""
             }
            },
            "type": "scattermapbox"
           }
          ],
          "scatterpolar": [
           {
            "marker": {
             "colorbar": {
              "outlinewidth": 0,
              "ticks": ""
             }
            },
            "type": "scatterpolar"
           }
          ],
          "scatterpolargl": [
           {
            "marker": {
             "colorbar": {
              "outlinewidth": 0,
              "ticks": ""
             }
            },
            "type": "scatterpolargl"
           }
          ],
          "scatterternary": [
           {
            "marker": {
             "colorbar": {
              "outlinewidth": 0,
              "ticks": ""
             }
            },
            "type": "scatterternary"
           }
          ],
          "surface": [
           {
            "colorbar": {
             "outlinewidth": 0,
             "ticks": ""
            },
            "colorscale": [
             [
              0,
              "#0d0887"
             ],
             [
              0.1111111111111111,
              "#46039f"
             ],
             [
              0.2222222222222222,
              "#7201a8"
             ],
             [
              0.3333333333333333,
              "#9c179e"
             ],
             [
              0.4444444444444444,
              "#bd3786"
             ],
             [
              0.5555555555555556,
              "#d8576b"
             ],
             [
              0.6666666666666666,
              "#ed7953"
             ],
             [
              0.7777777777777778,
              "#fb9f3a"
             ],
             [
              0.8888888888888888,
              "#fdca26"
             ],
             [
              1,
              "#f0f921"
             ]
            ],
            "type": "surface"
           }
          ],
          "table": [
           {
            "cells": {
             "fill": {
              "color": "#EBF0F8"
             },
             "line": {
              "color": "white"
             }
            },
            "header": {
             "fill": {
              "color": "#C8D4E3"
             },
             "line": {
              "color": "white"
             }
            },
            "type": "table"
           }
          ]
         },
         "layout": {
          "annotationdefaults": {
           "arrowcolor": "#2a3f5f",
           "arrowhead": 0,
           "arrowwidth": 1
          },
          "autotypenumbers": "strict",
          "coloraxis": {
           "colorbar": {
            "outlinewidth": 0,
            "ticks": ""
           }
          },
          "colorscale": {
           "diverging": [
            [
             0,
             "#8e0152"
            ],
            [
             0.1,
             "#c51b7d"
            ],
            [
             0.2,
             "#de77ae"
            ],
            [
             0.3,
             "#f1b6da"
            ],
            [
             0.4,
             "#fde0ef"
            ],
            [
             0.5,
             "#f7f7f7"
            ],
            [
             0.6,
             "#e6f5d0"
            ],
            [
             0.7,
             "#b8e186"
            ],
            [
             0.8,
             "#7fbc41"
            ],
            [
             0.9,
             "#4d9221"
            ],
            [
             1,
             "#276419"
            ]
           ],
           "sequential": [
            [
             0,
             "#0d0887"
            ],
            [
             0.1111111111111111,
             "#46039f"
            ],
            [
             0.2222222222222222,
             "#7201a8"
            ],
            [
             0.3333333333333333,
             "#9c179e"
            ],
            [
             0.4444444444444444,
             "#bd3786"
            ],
            [
             0.5555555555555556,
             "#d8576b"
            ],
            [
             0.6666666666666666,
             "#ed7953"
            ],
            [
             0.7777777777777778,
             "#fb9f3a"
            ],
            [
             0.8888888888888888,
             "#fdca26"
            ],
            [
             1,
             "#f0f921"
            ]
           ],
           "sequentialminus": [
            [
             0,
             "#0d0887"
            ],
            [
             0.1111111111111111,
             "#46039f"
            ],
            [
             0.2222222222222222,
             "#7201a8"
            ],
            [
             0.3333333333333333,
             "#9c179e"
            ],
            [
             0.4444444444444444,
             "#bd3786"
            ],
            [
             0.5555555555555556,
             "#d8576b"
            ],
            [
             0.6666666666666666,
             "#ed7953"
            ],
            [
             0.7777777777777778,
             "#fb9f3a"
            ],
            [
             0.8888888888888888,
             "#fdca26"
            ],
            [
             1,
             "#f0f921"
            ]
           ]
          },
          "colorway": [
           "#636efa",
           "#EF553B",
           "#00cc96",
           "#ab63fa",
           "#FFA15A",
           "#19d3f3",
           "#FF6692",
           "#B6E880",
           "#FF97FF",
           "#FECB52"
          ],
          "font": {
           "color": "#2a3f5f"
          },
          "geo": {
           "bgcolor": "white",
           "lakecolor": "white",
           "landcolor": "#E5ECF6",
           "showlakes": true,
           "showland": true,
           "subunitcolor": "white"
          },
          "hoverlabel": {
           "align": "left"
          },
          "hovermode": "closest",
          "mapbox": {
           "style": "light"
          },
          "paper_bgcolor": "white",
          "plot_bgcolor": "#E5ECF6",
          "polar": {
           "angularaxis": {
            "gridcolor": "white",
            "linecolor": "white",
            "ticks": ""
           },
           "bgcolor": "#E5ECF6",
           "radialaxis": {
            "gridcolor": "white",
            "linecolor": "white",
            "ticks": ""
           }
          },
          "scene": {
           "xaxis": {
            "backgroundcolor": "#E5ECF6",
            "gridcolor": "white",
            "gridwidth": 2,
            "linecolor": "white",
            "showbackground": true,
            "ticks": "",
            "zerolinecolor": "white"
           },
           "yaxis": {
            "backgroundcolor": "#E5ECF6",
            "gridcolor": "white",
            "gridwidth": 2,
            "linecolor": "white",
            "showbackground": true,
            "ticks": "",
            "zerolinecolor": "white"
           },
           "zaxis": {
            "backgroundcolor": "#E5ECF6",
            "gridcolor": "white",
            "gridwidth": 2,
            "linecolor": "white",
            "showbackground": true,
            "ticks": "",
            "zerolinecolor": "white"
           }
          },
          "shapedefaults": {
           "line": {
            "color": "#2a3f5f"
           }
          },
          "ternary": {
           "aaxis": {
            "gridcolor": "white",
            "linecolor": "white",
            "ticks": ""
           },
           "baxis": {
            "gridcolor": "white",
            "linecolor": "white",
            "ticks": ""
           },
           "bgcolor": "#E5ECF6",
           "caxis": {
            "gridcolor": "white",
            "linecolor": "white",
            "ticks": ""
           }
          },
          "title": {
           "x": 0.05
          },
          "xaxis": {
           "automargin": true,
           "gridcolor": "white",
           "linecolor": "white",
           "ticks": "",
           "title": {
            "standoff": 15
           },
           "zerolinecolor": "white",
           "zerolinewidth": 2
          },
          "yaxis": {
           "automargin": true,
           "gridcolor": "white",
           "linecolor": "white",
           "ticks": "",
           "title": {
            "standoff": 15
           },
           "zerolinecolor": "white",
           "zerolinewidth": 2
          }
         }
        },
        "title": {
         "text": "Répartition des Indépendants et Filiales"
        },
        "xaxis": {
         "anchor": "y",
         "domain": [
          0,
          1
         ],
         "tickangle": 45,
         "title": {
          "text": "Type d'entreprise"
         }
        },
        "yaxis": {
         "anchor": "x",
         "domain": [
          0,
          1
         ],
         "title": {
          "text": "Nombre d'entreprises"
         }
        }
       }
      }
     },
     "metadata": {},
     "output_type": "display_data"
    }
   ],
   "source": [
    "# visualisation avec ploty\n",
    "import plotly.express as px\n",
    "import pandas as pd\n",
    "\n",
    "\n",
    "# Préparer un DataFrame pour Plotly\n",
    "filiales_counts_df = filiales_counts.reset_index()\n",
    "filiales_counts_df.columns = [\"Type d'entreprise\", \"Nombre d'entreprises\"]  \n",
    "\n",
    "# Créer un graphique à barres avec Plotly\n",
    "fig = px.bar(\n",
    "    filiales_counts_df,\n",
    "    x=\"Type d'entreprise\",  \n",
    "    y=\"Nombre d'entreprises\",  \n",
    "    title=\"Répartition des Indépendants et Filiales\",\n",
    "    labels={\"Type d'entreprise\", \"Nombre d'entreprises\"},\n",
    "    text=\"Nombre d'entreprises\"  \n",
    ")\n",
    "\n",
    "# Améliorer la présentation\n",
    "fig.update_traces(textposition=\"outside\")  \n",
    "fig.update_layout(xaxis=dict(tickangle=45))  \n",
    "\n",
    "# Afficher le graphique\n",
    "fig.show()\n"
   ]
  },
  {
   "cell_type": "code",
   "execution_count": 14,
   "metadata": {},
   "outputs": [
    {
     "name": "stdout",
     "output_type": "stream",
     "text": [
      "le revenu  moyen des independants :  1990.77\n",
      "le revenu  moyen des filiales  : 2012.65\n"
     ]
    }
   ],
   "source": [
    "#analyse des revenues de filiales et independants\n",
    "\n",
    "independants_revenus=accounts_data[accounts_data[\"subsidiary_of\"]==\"Indépendant\"]['revenue'].mean()\n",
    "filiales_revenus=accounts_data[accounts_data[\"subsidiary_of\"]!= \"Indépendant\"]['revenue'].mean()\n",
    "\n",
    "print(f'le revenu  moyen des independants : {independants_revenus: .2f}')\n",
    "\n",
    "print(f'le revenu  moyen des filiales  :{filiales_revenus: .2f}')"
   ]
  },
  {
   "cell_type": "code",
   "execution_count": 15,
   "metadata": {},
   "outputs": [
    {
     "data": {
      "application/vnd.plotly.v1+json": {
       "config": {
        "plotlyServerURL": "https://plot.ly"
       },
       "data": [
        {
         "alignmentgroup": "True",
         "hovertemplate": "Type d'entreprise=%{x}<br>Revenu moyen ($)=%{text}<extra></extra>",
         "legendgroup": "",
         "marker": {
          "color": [
           "lightblue",
           "blue"
          ],
          "pattern": {
           "shape": ""
          }
         },
         "name": "",
         "offsetgroup": "",
         "orientation": "v",
         "showlegend": false,
         "text": [
          1990.7725714285712,
          2012.648
         ],
         "textposition": "outside",
         "texttemplate": "%{text:.2f}",
         "type": "bar",
         "x": [
          "Indépendants",
          "Filiales"
         ],
         "xaxis": "x",
         "y": [
          1990.7725714285712,
          2012.648
         ],
         "yaxis": "y"
        }
       ],
       "layout": {
        "barmode": "relative",
        "legend": {
         "tracegroupgap": 0
        },
        "template": {
         "data": {
          "bar": [
           {
            "error_x": {
             "color": "#2a3f5f"
            },
            "error_y": {
             "color": "#2a3f5f"
            },
            "marker": {
             "line": {
              "color": "#E5ECF6",
              "width": 0.5
             },
             "pattern": {
              "fillmode": "overlay",
              "size": 10,
              "solidity": 0.2
             }
            },
            "type": "bar"
           }
          ],
          "barpolar": [
           {
            "marker": {
             "line": {
              "color": "#E5ECF6",
              "width": 0.5
             },
             "pattern": {
              "fillmode": "overlay",
              "size": 10,
              "solidity": 0.2
             }
            },
            "type": "barpolar"
           }
          ],
          "carpet": [
           {
            "aaxis": {
             "endlinecolor": "#2a3f5f",
             "gridcolor": "white",
             "linecolor": "white",
             "minorgridcolor": "white",
             "startlinecolor": "#2a3f5f"
            },
            "baxis": {
             "endlinecolor": "#2a3f5f",
             "gridcolor": "white",
             "linecolor": "white",
             "minorgridcolor": "white",
             "startlinecolor": "#2a3f5f"
            },
            "type": "carpet"
           }
          ],
          "choropleth": [
           {
            "colorbar": {
             "outlinewidth": 0,
             "ticks": ""
            },
            "type": "choropleth"
           }
          ],
          "contour": [
           {
            "colorbar": {
             "outlinewidth": 0,
             "ticks": ""
            },
            "colorscale": [
             [
              0,
              "#0d0887"
             ],
             [
              0.1111111111111111,
              "#46039f"
             ],
             [
              0.2222222222222222,
              "#7201a8"
             ],
             [
              0.3333333333333333,
              "#9c179e"
             ],
             [
              0.4444444444444444,
              "#bd3786"
             ],
             [
              0.5555555555555556,
              "#d8576b"
             ],
             [
              0.6666666666666666,
              "#ed7953"
             ],
             [
              0.7777777777777778,
              "#fb9f3a"
             ],
             [
              0.8888888888888888,
              "#fdca26"
             ],
             [
              1,
              "#f0f921"
             ]
            ],
            "type": "contour"
           }
          ],
          "contourcarpet": [
           {
            "colorbar": {
             "outlinewidth": 0,
             "ticks": ""
            },
            "type": "contourcarpet"
           }
          ],
          "heatmap": [
           {
            "colorbar": {
             "outlinewidth": 0,
             "ticks": ""
            },
            "colorscale": [
             [
              0,
              "#0d0887"
             ],
             [
              0.1111111111111111,
              "#46039f"
             ],
             [
              0.2222222222222222,
              "#7201a8"
             ],
             [
              0.3333333333333333,
              "#9c179e"
             ],
             [
              0.4444444444444444,
              "#bd3786"
             ],
             [
              0.5555555555555556,
              "#d8576b"
             ],
             [
              0.6666666666666666,
              "#ed7953"
             ],
             [
              0.7777777777777778,
              "#fb9f3a"
             ],
             [
              0.8888888888888888,
              "#fdca26"
             ],
             [
              1,
              "#f0f921"
             ]
            ],
            "type": "heatmap"
           }
          ],
          "heatmapgl": [
           {
            "colorbar": {
             "outlinewidth": 0,
             "ticks": ""
            },
            "colorscale": [
             [
              0,
              "#0d0887"
             ],
             [
              0.1111111111111111,
              "#46039f"
             ],
             [
              0.2222222222222222,
              "#7201a8"
             ],
             [
              0.3333333333333333,
              "#9c179e"
             ],
             [
              0.4444444444444444,
              "#bd3786"
             ],
             [
              0.5555555555555556,
              "#d8576b"
             ],
             [
              0.6666666666666666,
              "#ed7953"
             ],
             [
              0.7777777777777778,
              "#fb9f3a"
             ],
             [
              0.8888888888888888,
              "#fdca26"
             ],
             [
              1,
              "#f0f921"
             ]
            ],
            "type": "heatmapgl"
           }
          ],
          "histogram": [
           {
            "marker": {
             "pattern": {
              "fillmode": "overlay",
              "size": 10,
              "solidity": 0.2
             }
            },
            "type": "histogram"
           }
          ],
          "histogram2d": [
           {
            "colorbar": {
             "outlinewidth": 0,
             "ticks": ""
            },
            "colorscale": [
             [
              0,
              "#0d0887"
             ],
             [
              0.1111111111111111,
              "#46039f"
             ],
             [
              0.2222222222222222,
              "#7201a8"
             ],
             [
              0.3333333333333333,
              "#9c179e"
             ],
             [
              0.4444444444444444,
              "#bd3786"
             ],
             [
              0.5555555555555556,
              "#d8576b"
             ],
             [
              0.6666666666666666,
              "#ed7953"
             ],
             [
              0.7777777777777778,
              "#fb9f3a"
             ],
             [
              0.8888888888888888,
              "#fdca26"
             ],
             [
              1,
              "#f0f921"
             ]
            ],
            "type": "histogram2d"
           }
          ],
          "histogram2dcontour": [
           {
            "colorbar": {
             "outlinewidth": 0,
             "ticks": ""
            },
            "colorscale": [
             [
              0,
              "#0d0887"
             ],
             [
              0.1111111111111111,
              "#46039f"
             ],
             [
              0.2222222222222222,
              "#7201a8"
             ],
             [
              0.3333333333333333,
              "#9c179e"
             ],
             [
              0.4444444444444444,
              "#bd3786"
             ],
             [
              0.5555555555555556,
              "#d8576b"
             ],
             [
              0.6666666666666666,
              "#ed7953"
             ],
             [
              0.7777777777777778,
              "#fb9f3a"
             ],
             [
              0.8888888888888888,
              "#fdca26"
             ],
             [
              1,
              "#f0f921"
             ]
            ],
            "type": "histogram2dcontour"
           }
          ],
          "mesh3d": [
           {
            "colorbar": {
             "outlinewidth": 0,
             "ticks": ""
            },
            "type": "mesh3d"
           }
          ],
          "parcoords": [
           {
            "line": {
             "colorbar": {
              "outlinewidth": 0,
              "ticks": ""
             }
            },
            "type": "parcoords"
           }
          ],
          "pie": [
           {
            "automargin": true,
            "type": "pie"
           }
          ],
          "scatter": [
           {
            "fillpattern": {
             "fillmode": "overlay",
             "size": 10,
             "solidity": 0.2
            },
            "type": "scatter"
           }
          ],
          "scatter3d": [
           {
            "line": {
             "colorbar": {
              "outlinewidth": 0,
              "ticks": ""
             }
            },
            "marker": {
             "colorbar": {
              "outlinewidth": 0,
              "ticks": ""
             }
            },
            "type": "scatter3d"
           }
          ],
          "scattercarpet": [
           {
            "marker": {
             "colorbar": {
              "outlinewidth": 0,
              "ticks": ""
             }
            },
            "type": "scattercarpet"
           }
          ],
          "scattergeo": [
           {
            "marker": {
             "colorbar": {
              "outlinewidth": 0,
              "ticks": ""
             }
            },
            "type": "scattergeo"
           }
          ],
          "scattergl": [
           {
            "marker": {
             "colorbar": {
              "outlinewidth": 0,
              "ticks": ""
             }
            },
            "type": "scattergl"
           }
          ],
          "scattermapbox": [
           {
            "marker": {
             "colorbar": {
              "outlinewidth": 0,
              "ticks": ""
             }
            },
            "type": "scattermapbox"
           }
          ],
          "scatterpolar": [
           {
            "marker": {
             "colorbar": {
              "outlinewidth": 0,
              "ticks": ""
             }
            },
            "type": "scatterpolar"
           }
          ],
          "scatterpolargl": [
           {
            "marker": {
             "colorbar": {
              "outlinewidth": 0,
              "ticks": ""
             }
            },
            "type": "scatterpolargl"
           }
          ],
          "scatterternary": [
           {
            "marker": {
             "colorbar": {
              "outlinewidth": 0,
              "ticks": ""
             }
            },
            "type": "scatterternary"
           }
          ],
          "surface": [
           {
            "colorbar": {
             "outlinewidth": 0,
             "ticks": ""
            },
            "colorscale": [
             [
              0,
              "#0d0887"
             ],
             [
              0.1111111111111111,
              "#46039f"
             ],
             [
              0.2222222222222222,
              "#7201a8"
             ],
             [
              0.3333333333333333,
              "#9c179e"
             ],
             [
              0.4444444444444444,
              "#bd3786"
             ],
             [
              0.5555555555555556,
              "#d8576b"
             ],
             [
              0.6666666666666666,
              "#ed7953"
             ],
             [
              0.7777777777777778,
              "#fb9f3a"
             ],
             [
              0.8888888888888888,
              "#fdca26"
             ],
             [
              1,
              "#f0f921"
             ]
            ],
            "type": "surface"
           }
          ],
          "table": [
           {
            "cells": {
             "fill": {
              "color": "#EBF0F8"
             },
             "line": {
              "color": "white"
             }
            },
            "header": {
             "fill": {
              "color": "#C8D4E3"
             },
             "line": {
              "color": "white"
             }
            },
            "type": "table"
           }
          ]
         },
         "layout": {
          "annotationdefaults": {
           "arrowcolor": "#2a3f5f",
           "arrowhead": 0,
           "arrowwidth": 1
          },
          "autotypenumbers": "strict",
          "coloraxis": {
           "colorbar": {
            "outlinewidth": 0,
            "ticks": ""
           }
          },
          "colorscale": {
           "diverging": [
            [
             0,
             "#8e0152"
            ],
            [
             0.1,
             "#c51b7d"
            ],
            [
             0.2,
             "#de77ae"
            ],
            [
             0.3,
             "#f1b6da"
            ],
            [
             0.4,
             "#fde0ef"
            ],
            [
             0.5,
             "#f7f7f7"
            ],
            [
             0.6,
             "#e6f5d0"
            ],
            [
             0.7,
             "#b8e186"
            ],
            [
             0.8,
             "#7fbc41"
            ],
            [
             0.9,
             "#4d9221"
            ],
            [
             1,
             "#276419"
            ]
           ],
           "sequential": [
            [
             0,
             "#0d0887"
            ],
            [
             0.1111111111111111,
             "#46039f"
            ],
            [
             0.2222222222222222,
             "#7201a8"
            ],
            [
             0.3333333333333333,
             "#9c179e"
            ],
            [
             0.4444444444444444,
             "#bd3786"
            ],
            [
             0.5555555555555556,
             "#d8576b"
            ],
            [
             0.6666666666666666,
             "#ed7953"
            ],
            [
             0.7777777777777778,
             "#fb9f3a"
            ],
            [
             0.8888888888888888,
             "#fdca26"
            ],
            [
             1,
             "#f0f921"
            ]
           ],
           "sequentialminus": [
            [
             0,
             "#0d0887"
            ],
            [
             0.1111111111111111,
             "#46039f"
            ],
            [
             0.2222222222222222,
             "#7201a8"
            ],
            [
             0.3333333333333333,
             "#9c179e"
            ],
            [
             0.4444444444444444,
             "#bd3786"
            ],
            [
             0.5555555555555556,
             "#d8576b"
            ],
            [
             0.6666666666666666,
             "#ed7953"
            ],
            [
             0.7777777777777778,
             "#fb9f3a"
            ],
            [
             0.8888888888888888,
             "#fdca26"
            ],
            [
             1,
             "#f0f921"
            ]
           ]
          },
          "colorway": [
           "#636efa",
           "#EF553B",
           "#00cc96",
           "#ab63fa",
           "#FFA15A",
           "#19d3f3",
           "#FF6692",
           "#B6E880",
           "#FF97FF",
           "#FECB52"
          ],
          "font": {
           "color": "#2a3f5f"
          },
          "geo": {
           "bgcolor": "white",
           "lakecolor": "white",
           "landcolor": "#E5ECF6",
           "showlakes": true,
           "showland": true,
           "subunitcolor": "white"
          },
          "hoverlabel": {
           "align": "left"
          },
          "hovermode": "closest",
          "mapbox": {
           "style": "light"
          },
          "paper_bgcolor": "white",
          "plot_bgcolor": "#E5ECF6",
          "polar": {
           "angularaxis": {
            "gridcolor": "white",
            "linecolor": "white",
            "ticks": ""
           },
           "bgcolor": "#E5ECF6",
           "radialaxis": {
            "gridcolor": "white",
            "linecolor": "white",
            "ticks": ""
           }
          },
          "scene": {
           "xaxis": {
            "backgroundcolor": "#E5ECF6",
            "gridcolor": "white",
            "gridwidth": 2,
            "linecolor": "white",
            "showbackground": true,
            "ticks": "",
            "zerolinecolor": "white"
           },
           "yaxis": {
            "backgroundcolor": "#E5ECF6",
            "gridcolor": "white",
            "gridwidth": 2,
            "linecolor": "white",
            "showbackground": true,
            "ticks": "",
            "zerolinecolor": "white"
           },
           "zaxis": {
            "backgroundcolor": "#E5ECF6",
            "gridcolor": "white",
            "gridwidth": 2,
            "linecolor": "white",
            "showbackground": true,
            "ticks": "",
            "zerolinecolor": "white"
           }
          },
          "shapedefaults": {
           "line": {
            "color": "#2a3f5f"
           }
          },
          "ternary": {
           "aaxis": {
            "gridcolor": "white",
            "linecolor": "white",
            "ticks": ""
           },
           "baxis": {
            "gridcolor": "white",
            "linecolor": "white",
            "ticks": ""
           },
           "bgcolor": "#E5ECF6",
           "caxis": {
            "gridcolor": "white",
            "linecolor": "white",
            "ticks": ""
           }
          },
          "title": {
           "x": 0.05
          },
          "xaxis": {
           "automargin": true,
           "gridcolor": "white",
           "linecolor": "white",
           "ticks": "",
           "title": {
            "standoff": 15
           },
           "zerolinecolor": "white",
           "zerolinewidth": 2
          },
          "yaxis": {
           "automargin": true,
           "gridcolor": "white",
           "linecolor": "white",
           "ticks": "",
           "title": {
            "standoff": 15
           },
           "zerolinecolor": "white",
           "zerolinewidth": 2
          }
         }
        },
        "title": {
         "font": {
          "size": 20
         },
         "text": "Revenu moyen : Indépendants vs Filiales"
        },
        "xaxis": {
         "anchor": "y",
         "domain": [
          0,
          1
         ],
         "title": {
          "font": {
           "size": 16
          },
          "text": "Type d'entreprise"
         }
        },
        "yaxis": {
         "anchor": "x",
         "domain": [
          0,
          1
         ],
         "title": {
          "font": {
           "size": 16
          },
          "text": "Revenu moyen ($)"
         }
        }
       }
      }
     },
     "metadata": {},
     "output_type": "display_data"
    }
   ],
   "source": [
    "#visualisation avec ploty\n",
    "\n",
    "import plotly.express as px\n",
    "import pandas as pd\n",
    "\n",
    "# Préparer les données pour la visualisation\n",
    "data_visualisation = pd.DataFrame({\n",
    "    \"Type d'entreprise\": [\"Indépendants\", \"Filiales\"],\n",
    "    \"Revenu moyen\": [independants_revenus, filiales_revenus]\n",
    "})\n",
    "\n",
    "# Créer un graphique à barres\n",
    "fig = px.bar(\n",
    "    data_visualisation,\n",
    "    x=\"Type d'entreprise\",\n",
    "    y=\"Revenu moyen\",\n",
    "    title=\"Revenu moyen : Indépendants vs Filiales\",\n",
    "    text=\"Revenu moyen\",  \n",
    "    labels={\"Revenu moyen\": \"Revenu moyen ($)\", \"Type d'entreprise\": \"Type d'entreprise\"}\n",
    ")\n",
    "\n",
    "# Personnalisation esthétique\n",
    "fig.update_traces(\n",
    "    marker=dict(color=['lightblue', 'blue']), \n",
    "    texttemplate='%{text:.2f}',               \n",
    "    textposition='outside'                    \n",
    ")\n",
    "fig.update_layout(\n",
    "    title_font_size=20,                       \n",
    "    xaxis=dict(title_font_size=16),           \n",
    "    yaxis=dict(title_font_size=16)            \n",
    ")\n",
    "\n",
    "# Afficher le graphique\n",
    "fig.show()\n"
   ]
  },
  {
   "cell_type": "code",
   "execution_count": 16,
   "metadata": {},
   "outputs": [
    {
     "data": {
      "text/plain": [
       "account             0\n",
       "sector              0\n",
       "year_established    0\n",
       "revenue             0\n",
       "employees           0\n",
       "office_location     0\n",
       "subsidiary_of       0\n",
       "dtype: int64"
      ]
     },
     "execution_count": 16,
     "metadata": {},
     "output_type": "execute_result"
    }
   ],
   "source": [
    "# verifions si notre data ne contient pas de données manquantes\n",
    "accounts_data.isnull().sum()\n",
    "\n"
   ]
  },
  {
   "cell_type": "markdown",
   "metadata": {},
   "source": [
    "exploration Métadonnées sales_pipeline "
   ]
  },
  {
   "cell_type": "code",
   "execution_count": 17,
   "metadata": {},
   "outputs": [],
   "source": [
    "Sales_pipeline=pd.read_csv(\"sales_pipeline.csv\")"
   ]
  },
  {
   "cell_type": "code",
   "execution_count": 18,
   "metadata": {},
   "outputs": [
    {
     "name": "stdout",
     "output_type": "stream",
     "text": [
      "le nombre de ligne dans la base de données : 8800\n",
      "le nombre de variables dans la base de données : 8\n"
     ]
    }
   ],
   "source": [
    "Nombre_lignes=Sales_pipeline.shape[0]\n",
    "Nombre_variables=Sales_pipeline.shape[1]\n",
    "\n",
    "print(f\"le nombre de ligne dans la base de données : {Nombre_lignes}\")\n",
    "\n",
    "print(f\"le nombre de variables dans la base de données : {Nombre_variables}\")"
   ]
  },
  {
   "cell_type": "code",
   "execution_count": 19,
   "metadata": {},
   "outputs": [
    {
     "data": {
      "text/html": [
       "<div>\n",
       "<style scoped>\n",
       "    .dataframe tbody tr th:only-of-type {\n",
       "        vertical-align: middle;\n",
       "    }\n",
       "\n",
       "    .dataframe tbody tr th {\n",
       "        vertical-align: top;\n",
       "    }\n",
       "\n",
       "    .dataframe thead th {\n",
       "        text-align: right;\n",
       "    }\n",
       "</style>\n",
       "<table border=\"1\" class=\"dataframe\">\n",
       "  <thead>\n",
       "    <tr style=\"text-align: right;\">\n",
       "      <th></th>\n",
       "      <th>variables</th>\n",
       "      <th>types</th>\n",
       "      <th>unique_value</th>\n",
       "      <th>Na_counts</th>\n",
       "      <th>Na_percents%</th>\n",
       "      <th>variables_descriptives</th>\n",
       "    </tr>\n",
       "  </thead>\n",
       "  <tbody>\n",
       "    <tr>\n",
       "      <th>0</th>\n",
       "      <td>opportunity_id</td>\n",
       "      <td>object</td>\n",
       "      <td>8800</td>\n",
       "      <td>0</td>\n",
       "      <td>0.00</td>\n",
       "      <td>ID de l'opportunité</td>\n",
       "    </tr>\n",
       "    <tr>\n",
       "      <th>1</th>\n",
       "      <td>sales_agent</td>\n",
       "      <td>object</td>\n",
       "      <td>30</td>\n",
       "      <td>0</td>\n",
       "      <td>0.00</td>\n",
       "      <td>Agent commercial</td>\n",
       "    </tr>\n",
       "    <tr>\n",
       "      <th>2</th>\n",
       "      <td>product</td>\n",
       "      <td>object</td>\n",
       "      <td>7</td>\n",
       "      <td>0</td>\n",
       "      <td>0.00</td>\n",
       "      <td>Produit</td>\n",
       "    </tr>\n",
       "    <tr>\n",
       "      <th>3</th>\n",
       "      <td>account</td>\n",
       "      <td>object</td>\n",
       "      <td>85</td>\n",
       "      <td>1425</td>\n",
       "      <td>16.19</td>\n",
       "      <td>Compte</td>\n",
       "    </tr>\n",
       "    <tr>\n",
       "      <th>4</th>\n",
       "      <td>deal_stage</td>\n",
       "      <td>object</td>\n",
       "      <td>4</td>\n",
       "      <td>0</td>\n",
       "      <td>0.00</td>\n",
       "      <td>Étape de l'affaire</td>\n",
       "    </tr>\n",
       "    <tr>\n",
       "      <th>5</th>\n",
       "      <td>engage_date</td>\n",
       "      <td>object</td>\n",
       "      <td>421</td>\n",
       "      <td>500</td>\n",
       "      <td>5.68</td>\n",
       "      <td>Date d'engagement</td>\n",
       "    </tr>\n",
       "    <tr>\n",
       "      <th>6</th>\n",
       "      <td>close_date</td>\n",
       "      <td>object</td>\n",
       "      <td>306</td>\n",
       "      <td>2089</td>\n",
       "      <td>23.74</td>\n",
       "      <td>Date de clôture</td>\n",
       "    </tr>\n",
       "    <tr>\n",
       "      <th>7</th>\n",
       "      <td>close_value</td>\n",
       "      <td>float64</td>\n",
       "      <td>2051</td>\n",
       "      <td>2089</td>\n",
       "      <td>23.74</td>\n",
       "      <td>Valeur de clôture</td>\n",
       "    </tr>\n",
       "  </tbody>\n",
       "</table>\n",
       "</div>"
      ],
      "text/plain": [
       "        variables    types  unique_value  Na_counts  Na_percents%  \\\n",
       "0  opportunity_id   object          8800          0          0.00   \n",
       "1     sales_agent   object            30          0          0.00   \n",
       "2         product   object             7          0          0.00   \n",
       "3         account   object            85       1425         16.19   \n",
       "4      deal_stage   object             4          0          0.00   \n",
       "5     engage_date   object           421        500          5.68   \n",
       "6      close_date   object           306       2089         23.74   \n",
       "7     close_value  float64          2051       2089         23.74   \n",
       "\n",
       "  variables_descriptives  \n",
       "0    ID de l'opportunité  \n",
       "1       Agent commercial  \n",
       "2                Produit  \n",
       "3                 Compte  \n",
       "4     Étape de l'affaire  \n",
       "5      Date d'engagement  \n",
       "6        Date de clôture  \n",
       "7      Valeur de clôture  "
      ]
     },
     "execution_count": 19,
     "metadata": {},
     "output_type": "execute_result"
    }
   ],
   "source": [
    "dictionnaire ={\n",
    "    \"opportunity_id\": \"ID de l'opportunité\",\n",
    "    \"sales_agent\": \"Agent commercial\",\n",
    "    \"product\": \"Produit\",\n",
    "    \"account\": \"Compte\",\n",
    "    \"deal_stage\": \"Étape de l'affaire\",\n",
    "    \"engage_date\": \"Date d'engagement\",\n",
    "    \"close_date\": \"Date de clôture\",\n",
    "    \"close_value\": \"Valeur de clôture\"\n",
    "}\n",
    "\n",
    "\n",
    "def information(data):\n",
    "    Information=pd.DataFrame({\n",
    "        'variables':data.columns,\n",
    "        'types':data.dtypes,\n",
    "        'unique_value':data.nunique(),\n",
    "        'Na_counts':data.isna().sum(),\n",
    "        'Na_percents%':data.isna().mean().round(4)*100\n",
    "\n",
    "        \n",
    "    }).reset_index(drop=True)\n",
    "\n",
    "    Information['variables_descriptives']= Information['variables'].map( dictionnaire)\n",
    "\n",
    "    return Information\n",
    "\n",
    "metadonnées2=info(Sales_pipeline)\n",
    "metadonnées2"
   ]
  },
  {
   "cell_type": "code",
   "execution_count": 20,
   "metadata": {},
   "outputs": [
    {
     "name": "stdout",
     "output_type": "stream",
     "text": [
      "opportunity_id       0\n",
      "sales_agent          0\n",
      "product              0\n",
      "account           1425\n",
      "deal_stage           0\n",
      "engage_date        500\n",
      "close_date        2089\n",
      "close_value       2089\n",
      "dtype: int64\n"
     ]
    }
   ],
   "source": [
    "print(Sales_pipeline.isnull().sum())\n"
   ]
  },
  {
   "cell_type": "code",
   "execution_count": null,
   "metadata": {},
   "outputs": [],
   "source": []
  },
  {
   "cell_type": "code",
   "execution_count": 21,
   "metadata": {},
   "outputs": [
    {
     "name": "stdout",
     "output_type": "stream",
     "text": [
      "opportunity_id       0\n",
      "sales_agent          0\n",
      "product              0\n",
      "account           1425\n",
      "deal_stage           0\n",
      "engage_date        500\n",
      "close_date        2089\n",
      "close_value       2089\n",
      "dtype: int64\n"
     ]
    }
   ],
   "source": [
    "print(Sales_pipeline.isnull().sum())"
   ]
  },
  {
   "cell_type": "code",
   "execution_count": 22,
   "metadata": {},
   "outputs": [
    {
     "data": {
      "text/html": [
       "<div>\n",
       "<style scoped>\n",
       "    .dataframe tbody tr th:only-of-type {\n",
       "        vertical-align: middle;\n",
       "    }\n",
       "\n",
       "    .dataframe tbody tr th {\n",
       "        vertical-align: top;\n",
       "    }\n",
       "\n",
       "    .dataframe thead th {\n",
       "        text-align: right;\n",
       "    }\n",
       "</style>\n",
       "<table border=\"1\" class=\"dataframe\">\n",
       "  <thead>\n",
       "    <tr style=\"text-align: right;\">\n",
       "      <th></th>\n",
       "      <th>variables</th>\n",
       "      <th>types</th>\n",
       "      <th>unique_value</th>\n",
       "      <th>Na_counts</th>\n",
       "      <th>Na_percents%</th>\n",
       "      <th>variables_descriptives</th>\n",
       "    </tr>\n",
       "  </thead>\n",
       "  <tbody>\n",
       "    <tr>\n",
       "      <th>0</th>\n",
       "      <td>opportunity_id</td>\n",
       "      <td>object</td>\n",
       "      <td>8800</td>\n",
       "      <td>0</td>\n",
       "      <td>0.00</td>\n",
       "      <td>ID de l'opportunité</td>\n",
       "    </tr>\n",
       "    <tr>\n",
       "      <th>1</th>\n",
       "      <td>sales_agent</td>\n",
       "      <td>object</td>\n",
       "      <td>30</td>\n",
       "      <td>0</td>\n",
       "      <td>0.00</td>\n",
       "      <td>Agent commercial</td>\n",
       "    </tr>\n",
       "    <tr>\n",
       "      <th>2</th>\n",
       "      <td>product</td>\n",
       "      <td>object</td>\n",
       "      <td>7</td>\n",
       "      <td>0</td>\n",
       "      <td>0.00</td>\n",
       "      <td>Produit</td>\n",
       "    </tr>\n",
       "    <tr>\n",
       "      <th>3</th>\n",
       "      <td>account</td>\n",
       "      <td>object</td>\n",
       "      <td>85</td>\n",
       "      <td>1425</td>\n",
       "      <td>16.19</td>\n",
       "      <td>Compte</td>\n",
       "    </tr>\n",
       "    <tr>\n",
       "      <th>4</th>\n",
       "      <td>deal_stage</td>\n",
       "      <td>object</td>\n",
       "      <td>4</td>\n",
       "      <td>0</td>\n",
       "      <td>0.00</td>\n",
       "      <td>Étape de l'affaire</td>\n",
       "    </tr>\n",
       "    <tr>\n",
       "      <th>5</th>\n",
       "      <td>engage_date</td>\n",
       "      <td>object</td>\n",
       "      <td>421</td>\n",
       "      <td>500</td>\n",
       "      <td>5.68</td>\n",
       "      <td>Date d'engagement</td>\n",
       "    </tr>\n",
       "    <tr>\n",
       "      <th>6</th>\n",
       "      <td>close_date</td>\n",
       "      <td>object</td>\n",
       "      <td>306</td>\n",
       "      <td>2089</td>\n",
       "      <td>23.74</td>\n",
       "      <td>Date de clôture</td>\n",
       "    </tr>\n",
       "    <tr>\n",
       "      <th>7</th>\n",
       "      <td>close_value</td>\n",
       "      <td>float64</td>\n",
       "      <td>2051</td>\n",
       "      <td>2089</td>\n",
       "      <td>23.74</td>\n",
       "      <td>Valeur de clôture</td>\n",
       "    </tr>\n",
       "  </tbody>\n",
       "</table>\n",
       "</div>"
      ],
      "text/plain": [
       "        variables    types  unique_value  Na_counts  Na_percents%  \\\n",
       "0  opportunity_id   object          8800          0          0.00   \n",
       "1     sales_agent   object            30          0          0.00   \n",
       "2         product   object             7          0          0.00   \n",
       "3         account   object            85       1425         16.19   \n",
       "4      deal_stage   object             4          0          0.00   \n",
       "5     engage_date   object           421        500          5.68   \n",
       "6      close_date   object           306       2089         23.74   \n",
       "7     close_value  float64          2051       2089         23.74   \n",
       "\n",
       "  variables_descriptives  \n",
       "0    ID de l'opportunité  \n",
       "1       Agent commercial  \n",
       "2                Produit  \n",
       "3                 Compte  \n",
       "4     Étape de l'affaire  \n",
       "5      Date d'engagement  \n",
       "6        Date de clôture  \n",
       "7      Valeur de clôture  "
      ]
     },
     "execution_count": 22,
     "metadata": {},
     "output_type": "execute_result"
    }
   ],
   "source": [
    "metadonnées2"
   ]
  },
  {
   "cell_type": "code",
   "execution_count": 23,
   "metadata": {},
   "outputs": [
    {
     "name": "stderr",
     "output_type": "stream",
     "text": [
      "C:\\Users\\fanti\\AppData\\Local\\Temp\\ipykernel_22588\\1965180521.py:7: FutureWarning:\n",
      "\n",
      "A value is trying to be set on a copy of a DataFrame or Series through chained assignment using an inplace method.\n",
      "The behavior will change in pandas 3.0. This inplace method will never work because the intermediate object on which we are setting values always behaves as a copy.\n",
      "\n",
      "For example, when doing 'df[col].method(value, inplace=True)', try using 'df.method({col: value}, inplace=True)' or df[col] = df[col].method(value) instead, to perform the operation inplace on the original object.\n",
      "\n",
      "\n",
      "\n",
      "C:\\Users\\fanti\\AppData\\Local\\Temp\\ipykernel_22588\\1965180521.py:8: FutureWarning:\n",
      "\n",
      "A value is trying to be set on a copy of a DataFrame or Series through chained assignment using an inplace method.\n",
      "The behavior will change in pandas 3.0. This inplace method will never work because the intermediate object on which we are setting values always behaves as a copy.\n",
      "\n",
      "For example, when doing 'df[col].method(value, inplace=True)', try using 'df.method({col: value}, inplace=True)' or df[col] = df[col].method(value) instead, to perform the operation inplace on the original object.\n",
      "\n",
      "\n",
      "\n",
      "C:\\Users\\fanti\\AppData\\Local\\Temp\\ipykernel_22588\\1965180521.py:12: FutureWarning:\n",
      "\n",
      "A value is trying to be set on a copy of a DataFrame or Series through chained assignment using an inplace method.\n",
      "The behavior will change in pandas 3.0. This inplace method will never work because the intermediate object on which we are setting values always behaves as a copy.\n",
      "\n",
      "For example, when doing 'df[col].method(value, inplace=True)', try using 'df.method({col: value}, inplace=True)' or df[col] = df[col].method(value) instead, to perform the operation inplace on the original object.\n",
      "\n",
      "\n",
      "\n",
      "C:\\Users\\fanti\\AppData\\Local\\Temp\\ipykernel_22588\\1965180521.py:15: FutureWarning:\n",
      "\n",
      "A value is trying to be set on a copy of a DataFrame or Series through chained assignment using an inplace method.\n",
      "The behavior will change in pandas 3.0. This inplace method will never work because the intermediate object on which we are setting values always behaves as a copy.\n",
      "\n",
      "For example, when doing 'df[col].method(value, inplace=True)', try using 'df.method({col: value}, inplace=True)' or df[col] = df[col].method(value) instead, to perform the operation inplace on the original object.\n",
      "\n",
      "\n",
      "\n"
     ]
    }
   ],
   "source": [
    "# Ensure 'engage_date' and 'close_date' are properly converted to datetime\n",
    "Sales_pipeline[\"engage_date\"] = pd.to_datetime(Sales_pipeline[\"engage_date\"], errors=\"coerce\").dt.normalize()\n",
    "Sales_pipeline[\"close_date\"] = pd.to_datetime(Sales_pipeline[\"close_date\"], errors=\"coerce\").dt.normalize()\n",
    "\n",
    "# Check and fill missing values in the sales pipeline\n",
    "def fill_missing_sales_pipeline(df):\n",
    "    df[\"account\"].fillna(\"Inconnu\", inplace=True)\n",
    "    df[\"close_value\"].fillna(df[\"close_value\"].median(), inplace=True)\n",
    "    \n",
    "    # Imputation conditionnelle pour les dates en fonction de 'sales_agent'\n",
    "    mean_engage_date = df.groupby(\"sales_agent\")[\"engage_date\"].transform(\"mean\")\n",
    "    df[\"engage_date\"].fillna(mean_engage_date, inplace=True)\n",
    "\n",
    "    mean_close_date = df.groupby(\"sales_agent\")[\"close_date\"].transform(\"mean\")\n",
    "    df[\"close_date\"].fillna(mean_close_date, inplace=True)\n",
    "\n",
    "    return df\n",
    "\n",
    "sales_pipeline = fill_missing_sales_pipeline(Sales_pipeline)"
   ]
  },
  {
   "cell_type": "code",
   "execution_count": 24,
   "metadata": {},
   "outputs": [
    {
     "data": {
      "text/plain": [
       "opportunity_id            object\n",
       "sales_agent               object\n",
       "product                   object\n",
       "account                   object\n",
       "deal_stage                object\n",
       "engage_date       datetime64[ns]\n",
       "close_date        datetime64[ns]\n",
       "close_value              float64\n",
       "dtype: object"
      ]
     },
     "execution_count": 24,
     "metadata": {},
     "output_type": "execute_result"
    }
   ],
   "source": [
    "Sales_pipeline.dtypes"
   ]
  },
  {
   "cell_type": "code",
   "execution_count": 25,
   "metadata": {},
   "outputs": [
    {
     "name": "stdout",
     "output_type": "stream",
     "text": [
      "opportunity_id    0\n",
      "sales_agent       0\n",
      "product           0\n",
      "account           0\n",
      "deal_stage        0\n",
      "engage_date       0\n",
      "close_date        0\n",
      "close_value       0\n",
      "dtype: int64\n"
     ]
    }
   ],
   "source": [
    "print(Sales_pipeline.isnull().sum())"
   ]
  },
  {
   "cell_type": "markdown",
   "metadata": {},
   "source": [
    "Fusion des données account_data pour enrichir le pipeline des ventes "
   ]
  },
  {
   "cell_type": "code",
   "execution_count": 26,
   "metadata": {},
   "outputs": [],
   "source": [
    "merged_data = Sales_pipeline.merge(accounts_data, on=\"account\", how=\"left\")\n"
   ]
  },
  {
   "cell_type": "code",
   "execution_count": 27,
   "metadata": {},
   "outputs": [
    {
     "name": "stderr",
     "output_type": "stream",
     "text": [
      "C:\\Users\\fanti\\AppData\\Local\\Temp\\ipykernel_22588\\2518527563.py:2: FutureWarning:\n",
      "\n",
      "A value is trying to be set on a copy of a DataFrame or Series through chained assignment using an inplace method.\n",
      "The behavior will change in pandas 3.0. This inplace method will never work because the intermediate object on which we are setting values always behaves as a copy.\n",
      "\n",
      "For example, when doing 'df[col].method(value, inplace=True)', try using 'df.method({col: value}, inplace=True)' or df[col] = df[col].method(value) instead, to perform the operation inplace on the original object.\n",
      "\n",
      "\n",
      "\n",
      "C:\\Users\\fanti\\AppData\\Local\\Temp\\ipykernel_22588\\2518527563.py:3: FutureWarning:\n",
      "\n",
      "A value is trying to be set on a copy of a DataFrame or Series through chained assignment using an inplace method.\n",
      "The behavior will change in pandas 3.0. This inplace method will never work because the intermediate object on which we are setting values always behaves as a copy.\n",
      "\n",
      "For example, when doing 'df[col].method(value, inplace=True)', try using 'df.method({col: value}, inplace=True)' or df[col] = df[col].method(value) instead, to perform the operation inplace on the original object.\n",
      "\n",
      "\n",
      "\n",
      "C:\\Users\\fanti\\AppData\\Local\\Temp\\ipykernel_22588\\2518527563.py:4: FutureWarning:\n",
      "\n",
      "A value is trying to be set on a copy of a DataFrame or Series through chained assignment using an inplace method.\n",
      "The behavior will change in pandas 3.0. This inplace method will never work because the intermediate object on which we are setting values always behaves as a copy.\n",
      "\n",
      "For example, when doing 'df[col].method(value, inplace=True)', try using 'df.method({col: value}, inplace=True)' or df[col] = df[col].method(value) instead, to perform the operation inplace on the original object.\n",
      "\n",
      "\n",
      "\n",
      "C:\\Users\\fanti\\AppData\\Local\\Temp\\ipykernel_22588\\2518527563.py:5: FutureWarning:\n",
      "\n",
      "A value is trying to be set on a copy of a DataFrame or Series through chained assignment using an inplace method.\n",
      "The behavior will change in pandas 3.0. This inplace method will never work because the intermediate object on which we are setting values always behaves as a copy.\n",
      "\n",
      "For example, when doing 'df[col].method(value, inplace=True)', try using 'df.method({col: value}, inplace=True)' or df[col] = df[col].method(value) instead, to perform the operation inplace on the original object.\n",
      "\n",
      "\n",
      "\n",
      "C:\\Users\\fanti\\AppData\\Local\\Temp\\ipykernel_22588\\2518527563.py:6: FutureWarning:\n",
      "\n",
      "A value is trying to be set on a copy of a DataFrame or Series through chained assignment using an inplace method.\n",
      "The behavior will change in pandas 3.0. This inplace method will never work because the intermediate object on which we are setting values always behaves as a copy.\n",
      "\n",
      "For example, when doing 'df[col].method(value, inplace=True)', try using 'df.method({col: value}, inplace=True)' or df[col] = df[col].method(value) instead, to perform the operation inplace on the original object.\n",
      "\n",
      "\n",
      "\n",
      "C:\\Users\\fanti\\AppData\\Local\\Temp\\ipykernel_22588\\2518527563.py:7: FutureWarning:\n",
      "\n",
      "A value is trying to be set on a copy of a DataFrame or Series through chained assignment using an inplace method.\n",
      "The behavior will change in pandas 3.0. This inplace method will never work because the intermediate object on which we are setting values always behaves as a copy.\n",
      "\n",
      "For example, when doing 'df[col].method(value, inplace=True)', try using 'df.method({col: value}, inplace=True)' or df[col] = df[col].method(value) instead, to perform the operation inplace on the original object.\n",
      "\n",
      "\n",
      "\n"
     ]
    }
   ],
   "source": [
    "# Fill missing values in the merged dataframe\n",
    "merged_data[\"sector\"].fillna(\"Inconnu\", inplace=True)\n",
    "merged_data[\"revenue\"].fillna(merged_data[\"revenue\"].median(), inplace=True)\n",
    "merged_data[\"year_established\"].fillna(merged_data[\"year_established\"].median(), inplace=True)\n",
    "merged_data[\"employees\"].fillna(merged_data[\"employees\"].median(), inplace=True)\n",
    "merged_data[\"office_location\"].fillna(\"Non spécifié\", inplace=True)\n",
    "merged_data[\"subsidiary_of\"].fillna(\"Indépendant\", inplace=True)\n"
   ]
  },
  {
   "cell_type": "code",
   "execution_count": 28,
   "metadata": {},
   "outputs": [],
   "source": [
    "# Convertir en entier après remplacement\n",
    "merged_data[\"year_established\"] = merged_data[\"year_established\"].astype(int)\n",
    "merged_data[\"employees\"] = merged_data[\"employees\"].astype(int)"
   ]
  },
  {
   "cell_type": "code",
   "execution_count": 29,
   "metadata": {},
   "outputs": [
    {
     "name": "stdout",
     "output_type": "stream",
     "text": [
      "datetime64[ns]\n"
     ]
    }
   ],
   "source": [
    "# Conversion en datetime\n",
    "merged_data[\"engage_date\"] = pd.to_datetime(merged_data[\"engage_date\"], errors=\"coerce\")\n",
    "merged_data[\"close_date\"] = pd.to_datetime(merged_data[\"close_date\"], errors=\"coerce\")\n",
    "\n",
    "# Vérification des types avant formatage\n",
    "print(merged_data[\"engage_date\"].dtypes)  \n",
    "\n",
    "\n"
   ]
  },
  {
   "cell_type": "code",
   "execution_count": 30,
   "metadata": {},
   "outputs": [
    {
     "name": "stdout",
     "output_type": "stream",
     "text": [
      "datetime64[ns]\n"
     ]
    }
   ],
   "source": [
    "print(merged_data[\"close_date\"].dtypes) "
   ]
  },
  {
   "cell_type": "code",
   "execution_count": 31,
   "metadata": {},
   "outputs": [
    {
     "name": "stdout",
     "output_type": "stream",
     "text": [
      "datetime64[ns]\n"
     ]
    }
   ],
   "source": [
    "print(merged_data[\"engage_date\"].dtypes) "
   ]
  },
  {
   "cell_type": "code",
   "execution_count": 32,
   "metadata": {},
   "outputs": [
    {
     "name": "stdout",
     "output_type": "stream",
     "text": [
      "opportunity_id      0\n",
      "sales_agent         0\n",
      "product             0\n",
      "account             0\n",
      "deal_stage          0\n",
      "engage_date         0\n",
      "close_date          0\n",
      "close_value         0\n",
      "sector              0\n",
      "year_established    0\n",
      "revenue             0\n",
      "employees           0\n",
      "office_location     0\n",
      "subsidiary_of       0\n",
      "dtype: int64\n"
     ]
    }
   ],
   "source": [
    "# Final check for missing values\n",
    "print(merged_data.isnull().sum())"
   ]
  },
  {
   "cell_type": "code",
   "execution_count": 33,
   "metadata": {},
   "outputs": [
    {
     "data": {
      "text/html": [
       "<div>\n",
       "<style scoped>\n",
       "    .dataframe tbody tr th:only-of-type {\n",
       "        vertical-align: middle;\n",
       "    }\n",
       "\n",
       "    .dataframe tbody tr th {\n",
       "        vertical-align: top;\n",
       "    }\n",
       "\n",
       "    .dataframe thead th {\n",
       "        text-align: right;\n",
       "    }\n",
       "</style>\n",
       "<table border=\"1\" class=\"dataframe\">\n",
       "  <thead>\n",
       "    <tr style=\"text-align: right;\">\n",
       "      <th></th>\n",
       "      <th>opportunity_id</th>\n",
       "      <th>sales_agent</th>\n",
       "      <th>product</th>\n",
       "      <th>account</th>\n",
       "      <th>deal_stage</th>\n",
       "      <th>engage_date</th>\n",
       "      <th>close_date</th>\n",
       "      <th>close_value</th>\n",
       "      <th>sector</th>\n",
       "      <th>year_established</th>\n",
       "      <th>revenue</th>\n",
       "      <th>employees</th>\n",
       "      <th>office_location</th>\n",
       "      <th>subsidiary_of</th>\n",
       "    </tr>\n",
       "  </thead>\n",
       "  <tbody>\n",
       "    <tr>\n",
       "      <th>0</th>\n",
       "      <td>1C1I7A6R</td>\n",
       "      <td>Moses Frase</td>\n",
       "      <td>GTX Plus Basic</td>\n",
       "      <td>Cancity</td>\n",
       "      <td>Won</td>\n",
       "      <td>2016-10-20 00:00:00.000000000</td>\n",
       "      <td>2017-03-01 00:00:00.000000000</td>\n",
       "      <td>1054.0</td>\n",
       "      <td>retail</td>\n",
       "      <td>2001</td>\n",
       "      <td>718.62</td>\n",
       "      <td>2448</td>\n",
       "      <td>United States</td>\n",
       "      <td>Indépendant</td>\n",
       "    </tr>\n",
       "    <tr>\n",
       "      <th>1</th>\n",
       "      <td>Z063OYW0</td>\n",
       "      <td>Darcel Schlecht</td>\n",
       "      <td>GTXPro</td>\n",
       "      <td>Isdom</td>\n",
       "      <td>Won</td>\n",
       "      <td>2016-10-25 00:00:00.000000000</td>\n",
       "      <td>2017-03-11 00:00:00.000000000</td>\n",
       "      <td>4514.0</td>\n",
       "      <td>medical</td>\n",
       "      <td>2002</td>\n",
       "      <td>3178.24</td>\n",
       "      <td>4540</td>\n",
       "      <td>United States</td>\n",
       "      <td>Indépendant</td>\n",
       "    </tr>\n",
       "    <tr>\n",
       "      <th>2</th>\n",
       "      <td>EC4QE1BX</td>\n",
       "      <td>Darcel Schlecht</td>\n",
       "      <td>MG Special</td>\n",
       "      <td>Cancity</td>\n",
       "      <td>Won</td>\n",
       "      <td>2016-10-25 00:00:00.000000000</td>\n",
       "      <td>2017-03-07 00:00:00.000000000</td>\n",
       "      <td>50.0</td>\n",
       "      <td>retail</td>\n",
       "      <td>2001</td>\n",
       "      <td>718.62</td>\n",
       "      <td>2448</td>\n",
       "      <td>United States</td>\n",
       "      <td>Indépendant</td>\n",
       "    </tr>\n",
       "    <tr>\n",
       "      <th>3</th>\n",
       "      <td>MV1LWRNH</td>\n",
       "      <td>Moses Frase</td>\n",
       "      <td>GTX Basic</td>\n",
       "      <td>Codehow</td>\n",
       "      <td>Won</td>\n",
       "      <td>2016-10-25 00:00:00.000000000</td>\n",
       "      <td>2017-03-09 00:00:00.000000000</td>\n",
       "      <td>588.0</td>\n",
       "      <td>software</td>\n",
       "      <td>1998</td>\n",
       "      <td>2714.90</td>\n",
       "      <td>2641</td>\n",
       "      <td>United States</td>\n",
       "      <td>Acme Corporation</td>\n",
       "    </tr>\n",
       "    <tr>\n",
       "      <th>4</th>\n",
       "      <td>PE84CX4O</td>\n",
       "      <td>Zane Levy</td>\n",
       "      <td>GTX Basic</td>\n",
       "      <td>Hatfan</td>\n",
       "      <td>Won</td>\n",
       "      <td>2016-10-25 00:00:00.000000000</td>\n",
       "      <td>2017-03-02 00:00:00.000000000</td>\n",
       "      <td>517.0</td>\n",
       "      <td>services</td>\n",
       "      <td>1982</td>\n",
       "      <td>792.46</td>\n",
       "      <td>1299</td>\n",
       "      <td>United States</td>\n",
       "      <td>Indépendant</td>\n",
       "    </tr>\n",
       "    <tr>\n",
       "      <th>...</th>\n",
       "      <td>...</td>\n",
       "      <td>...</td>\n",
       "      <td>...</td>\n",
       "      <td>...</td>\n",
       "      <td>...</td>\n",
       "      <td>...</td>\n",
       "      <td>...</td>\n",
       "      <td>...</td>\n",
       "      <td>...</td>\n",
       "      <td>...</td>\n",
       "      <td>...</td>\n",
       "      <td>...</td>\n",
       "      <td>...</td>\n",
       "      <td>...</td>\n",
       "    </tr>\n",
       "    <tr>\n",
       "      <th>8795</th>\n",
       "      <td>9MIWFW5J</td>\n",
       "      <td>Versie Hillebrand</td>\n",
       "      <td>MG Advanced</td>\n",
       "      <td>Inconnu</td>\n",
       "      <td>Prospecting</td>\n",
       "      <td>2017-06-16 07:58:26.188925184</td>\n",
       "      <td>2017-07-26 03:54:32.727272704</td>\n",
       "      <td>472.0</td>\n",
       "      <td>Inconnu</td>\n",
       "      <td>1995</td>\n",
       "      <td>1698.20</td>\n",
       "      <td>3492</td>\n",
       "      <td>Non spécifié</td>\n",
       "      <td>Indépendant</td>\n",
       "    </tr>\n",
       "    <tr>\n",
       "      <th>8796</th>\n",
       "      <td>6SLKZ8FI</td>\n",
       "      <td>Versie Hillebrand</td>\n",
       "      <td>MG Advanced</td>\n",
       "      <td>Inconnu</td>\n",
       "      <td>Prospecting</td>\n",
       "      <td>2017-06-16 07:58:26.188925184</td>\n",
       "      <td>2017-07-26 03:54:32.727272704</td>\n",
       "      <td>472.0</td>\n",
       "      <td>Inconnu</td>\n",
       "      <td>1995</td>\n",
       "      <td>1698.20</td>\n",
       "      <td>3492</td>\n",
       "      <td>Non spécifié</td>\n",
       "      <td>Indépendant</td>\n",
       "    </tr>\n",
       "    <tr>\n",
       "      <th>8797</th>\n",
       "      <td>LIB4KUZJ</td>\n",
       "      <td>Versie Hillebrand</td>\n",
       "      <td>MG Advanced</td>\n",
       "      <td>Inconnu</td>\n",
       "      <td>Prospecting</td>\n",
       "      <td>2017-06-16 07:58:26.188925184</td>\n",
       "      <td>2017-07-26 03:54:32.727272704</td>\n",
       "      <td>472.0</td>\n",
       "      <td>Inconnu</td>\n",
       "      <td>1995</td>\n",
       "      <td>1698.20</td>\n",
       "      <td>3492</td>\n",
       "      <td>Non spécifié</td>\n",
       "      <td>Indépendant</td>\n",
       "    </tr>\n",
       "    <tr>\n",
       "      <th>8798</th>\n",
       "      <td>18IUIUK0</td>\n",
       "      <td>Versie Hillebrand</td>\n",
       "      <td>MG Advanced</td>\n",
       "      <td>Inconnu</td>\n",
       "      <td>Prospecting</td>\n",
       "      <td>2017-06-16 07:58:26.188925184</td>\n",
       "      <td>2017-07-26 03:54:32.727272704</td>\n",
       "      <td>472.0</td>\n",
       "      <td>Inconnu</td>\n",
       "      <td>1995</td>\n",
       "      <td>1698.20</td>\n",
       "      <td>3492</td>\n",
       "      <td>Non spécifié</td>\n",
       "      <td>Indépendant</td>\n",
       "    </tr>\n",
       "    <tr>\n",
       "      <th>8799</th>\n",
       "      <td>8I5ONXJX</td>\n",
       "      <td>Versie Hillebrand</td>\n",
       "      <td>MG Advanced</td>\n",
       "      <td>Inconnu</td>\n",
       "      <td>Prospecting</td>\n",
       "      <td>2017-06-16 07:58:26.188925184</td>\n",
       "      <td>2017-07-26 03:54:32.727272704</td>\n",
       "      <td>472.0</td>\n",
       "      <td>Inconnu</td>\n",
       "      <td>1995</td>\n",
       "      <td>1698.20</td>\n",
       "      <td>3492</td>\n",
       "      <td>Non spécifié</td>\n",
       "      <td>Indépendant</td>\n",
       "    </tr>\n",
       "  </tbody>\n",
       "</table>\n",
       "<p>8800 rows × 14 columns</p>\n",
       "</div>"
      ],
      "text/plain": [
       "     opportunity_id        sales_agent         product  account   deal_stage  \\\n",
       "0          1C1I7A6R        Moses Frase  GTX Plus Basic  Cancity          Won   \n",
       "1          Z063OYW0    Darcel Schlecht          GTXPro    Isdom          Won   \n",
       "2          EC4QE1BX    Darcel Schlecht      MG Special  Cancity          Won   \n",
       "3          MV1LWRNH        Moses Frase       GTX Basic  Codehow          Won   \n",
       "4          PE84CX4O          Zane Levy       GTX Basic   Hatfan          Won   \n",
       "...             ...                ...             ...      ...          ...   \n",
       "8795       9MIWFW5J  Versie Hillebrand     MG Advanced  Inconnu  Prospecting   \n",
       "8796       6SLKZ8FI  Versie Hillebrand     MG Advanced  Inconnu  Prospecting   \n",
       "8797       LIB4KUZJ  Versie Hillebrand     MG Advanced  Inconnu  Prospecting   \n",
       "8798       18IUIUK0  Versie Hillebrand     MG Advanced  Inconnu  Prospecting   \n",
       "8799       8I5ONXJX  Versie Hillebrand     MG Advanced  Inconnu  Prospecting   \n",
       "\n",
       "                       engage_date                    close_date  close_value  \\\n",
       "0    2016-10-20 00:00:00.000000000 2017-03-01 00:00:00.000000000       1054.0   \n",
       "1    2016-10-25 00:00:00.000000000 2017-03-11 00:00:00.000000000       4514.0   \n",
       "2    2016-10-25 00:00:00.000000000 2017-03-07 00:00:00.000000000         50.0   \n",
       "3    2016-10-25 00:00:00.000000000 2017-03-09 00:00:00.000000000        588.0   \n",
       "4    2016-10-25 00:00:00.000000000 2017-03-02 00:00:00.000000000        517.0   \n",
       "...                            ...                           ...          ...   \n",
       "8795 2017-06-16 07:58:26.188925184 2017-07-26 03:54:32.727272704        472.0   \n",
       "8796 2017-06-16 07:58:26.188925184 2017-07-26 03:54:32.727272704        472.0   \n",
       "8797 2017-06-16 07:58:26.188925184 2017-07-26 03:54:32.727272704        472.0   \n",
       "8798 2017-06-16 07:58:26.188925184 2017-07-26 03:54:32.727272704        472.0   \n",
       "8799 2017-06-16 07:58:26.188925184 2017-07-26 03:54:32.727272704        472.0   \n",
       "\n",
       "        sector  year_established  revenue  employees office_location  \\\n",
       "0       retail              2001   718.62       2448   United States   \n",
       "1      medical              2002  3178.24       4540   United States   \n",
       "2       retail              2001   718.62       2448   United States   \n",
       "3     software              1998  2714.90       2641   United States   \n",
       "4     services              1982   792.46       1299   United States   \n",
       "...        ...               ...      ...        ...             ...   \n",
       "8795   Inconnu              1995  1698.20       3492    Non spécifié   \n",
       "8796   Inconnu              1995  1698.20       3492    Non spécifié   \n",
       "8797   Inconnu              1995  1698.20       3492    Non spécifié   \n",
       "8798   Inconnu              1995  1698.20       3492    Non spécifié   \n",
       "8799   Inconnu              1995  1698.20       3492    Non spécifié   \n",
       "\n",
       "         subsidiary_of  \n",
       "0          Indépendant  \n",
       "1          Indépendant  \n",
       "2          Indépendant  \n",
       "3     Acme Corporation  \n",
       "4          Indépendant  \n",
       "...                ...  \n",
       "8795       Indépendant  \n",
       "8796       Indépendant  \n",
       "8797       Indépendant  \n",
       "8798       Indépendant  \n",
       "8799       Indépendant  \n",
       "\n",
       "[8800 rows x 14 columns]"
      ]
     },
     "execution_count": 33,
     "metadata": {},
     "output_type": "execute_result"
    }
   ],
   "source": [
    "merged_data"
   ]
  },
  {
   "cell_type": "code",
   "execution_count": 34,
   "metadata": {},
   "outputs": [
    {
     "name": "stdout",
     "output_type": "stream",
     "text": [
      "<class 'pandas.core.frame.DataFrame'>\n",
      "RangeIndex: 8800 entries, 0 to 8799\n",
      "Data columns (total 14 columns):\n",
      " #   Column            Non-Null Count  Dtype         \n",
      "---  ------            --------------  -----         \n",
      " 0   opportunity_id    8800 non-null   object        \n",
      " 1   sales_agent       8800 non-null   object        \n",
      " 2   product           8800 non-null   object        \n",
      " 3   account           8800 non-null   object        \n",
      " 4   deal_stage        8800 non-null   object        \n",
      " 5   engage_date       8800 non-null   datetime64[ns]\n",
      " 6   close_date        8800 non-null   datetime64[ns]\n",
      " 7   close_value       8800 non-null   float64       \n",
      " 8   sector            8800 non-null   object        \n",
      " 9   year_established  8800 non-null   int32         \n",
      " 10  revenue           8800 non-null   float64       \n",
      " 11  employees         8800 non-null   int32         \n",
      " 12  office_location   8800 non-null   object        \n",
      " 13  subsidiary_of     8800 non-null   object        \n",
      "dtypes: datetime64[ns](2), float64(2), int32(2), object(8)\n",
      "memory usage: 893.9+ KB\n"
     ]
    }
   ],
   "source": [
    "merged_data.info()"
   ]
  },
  {
   "cell_type": "code",
   "execution_count": 35,
   "metadata": {},
   "outputs": [
    {
     "data": {
      "text/plain": [
       "0"
      ]
     },
     "execution_count": 35,
     "metadata": {},
     "output_type": "execute_result"
    }
   ],
   "source": [
    "# verifions s'il ya des doublons\n",
    "\n",
    "merged_data.duplicated().sum()\n",
    "\n"
   ]
  },
  {
   "cell_type": "markdown",
   "metadata": {},
   "source": [
    "Remplaçons les valeurs manquantes dans les colonnes de accounts_data par valeurs par défaut ou calculées"
   ]
  },
  {
   "cell_type": "code",
   "execution_count": 36,
   "metadata": {},
   "outputs": [
    {
     "name": "stderr",
     "output_type": "stream",
     "text": [
      "C:\\Users\\fanti\\AppData\\Local\\Temp\\ipykernel_22588\\3525728804.py:1: FutureWarning:\n",
      "\n",
      "A value is trying to be set on a copy of a DataFrame or Series through chained assignment using an inplace method.\n",
      "The behavior will change in pandas 3.0. This inplace method will never work because the intermediate object on which we are setting values always behaves as a copy.\n",
      "\n",
      "For example, when doing 'df[col].method(value, inplace=True)', try using 'df.method({col: value}, inplace=True)' or df[col] = df[col].method(value) instead, to perform the operation inplace on the original object.\n",
      "\n",
      "\n",
      "\n",
      "C:\\Users\\fanti\\AppData\\Local\\Temp\\ipykernel_22588\\3525728804.py:2: FutureWarning:\n",
      "\n",
      "A value is trying to be set on a copy of a DataFrame or Series through chained assignment using an inplace method.\n",
      "The behavior will change in pandas 3.0. This inplace method will never work because the intermediate object on which we are setting values always behaves as a copy.\n",
      "\n",
      "For example, when doing 'df[col].method(value, inplace=True)', try using 'df.method({col: value}, inplace=True)' or df[col] = df[col].method(value) instead, to perform the operation inplace on the original object.\n",
      "\n",
      "\n",
      "\n",
      "C:\\Users\\fanti\\AppData\\Local\\Temp\\ipykernel_22588\\3525728804.py:3: FutureWarning:\n",
      "\n",
      "A value is trying to be set on a copy of a DataFrame or Series through chained assignment using an inplace method.\n",
      "The behavior will change in pandas 3.0. This inplace method will never work because the intermediate object on which we are setting values always behaves as a copy.\n",
      "\n",
      "For example, when doing 'df[col].method(value, inplace=True)', try using 'df.method({col: value}, inplace=True)' or df[col] = df[col].method(value) instead, to perform the operation inplace on the original object.\n",
      "\n",
      "\n",
      "\n",
      "C:\\Users\\fanti\\AppData\\Local\\Temp\\ipykernel_22588\\3525728804.py:4: FutureWarning:\n",
      "\n",
      "A value is trying to be set on a copy of a DataFrame or Series through chained assignment using an inplace method.\n",
      "The behavior will change in pandas 3.0. This inplace method will never work because the intermediate object on which we are setting values always behaves as a copy.\n",
      "\n",
      "For example, when doing 'df[col].method(value, inplace=True)', try using 'df.method({col: value}, inplace=True)' or df[col] = df[col].method(value) instead, to perform the operation inplace on the original object.\n",
      "\n",
      "\n",
      "\n",
      "C:\\Users\\fanti\\AppData\\Local\\Temp\\ipykernel_22588\\3525728804.py:5: FutureWarning:\n",
      "\n",
      "A value is trying to be set on a copy of a DataFrame or Series through chained assignment using an inplace method.\n",
      "The behavior will change in pandas 3.0. This inplace method will never work because the intermediate object on which we are setting values always behaves as a copy.\n",
      "\n",
      "For example, when doing 'df[col].method(value, inplace=True)', try using 'df.method({col: value}, inplace=True)' or df[col] = df[col].method(value) instead, to perform the operation inplace on the original object.\n",
      "\n",
      "\n",
      "\n",
      "C:\\Users\\fanti\\AppData\\Local\\Temp\\ipykernel_22588\\3525728804.py:6: FutureWarning:\n",
      "\n",
      "A value is trying to be set on a copy of a DataFrame or Series through chained assignment using an inplace method.\n",
      "The behavior will change in pandas 3.0. This inplace method will never work because the intermediate object on which we are setting values always behaves as a copy.\n",
      "\n",
      "For example, when doing 'df[col].method(value, inplace=True)', try using 'df.method({col: value}, inplace=True)' or df[col] = df[col].method(value) instead, to perform the operation inplace on the original object.\n",
      "\n",
      "\n",
      "\n"
     ]
    }
   ],
   "source": [
    "merged_data[\"sector\"].fillna(\"Inconnu\", inplace=True)\n",
    "merged_data[\"revenue\"].fillna(merged_data[\"revenue\"].median(), inplace=True)\n",
    "merged_data[\"year_established\"].fillna(merged_data[\"year_established\"].median(), inplace=True)\n",
    "merged_data[\"employees\"].fillna(merged_data[\"employees\"].median(), inplace=True)\n",
    "merged_data[\"office_location\"].fillna(\"Non spécifié\", inplace=True)\n",
    "merged_data[\"subsidiary_of\"].fillna(\"Indépendant\", inplace=True)\n"
   ]
  },
  {
   "cell_type": "code",
   "execution_count": 37,
   "metadata": {},
   "outputs": [
    {
     "name": "stdout",
     "output_type": "stream",
     "text": [
      "opportunity_id      0\n",
      "sales_agent         0\n",
      "product             0\n",
      "account             0\n",
      "deal_stage          0\n",
      "engage_date         0\n",
      "close_date          0\n",
      "close_value         0\n",
      "sector              0\n",
      "year_established    0\n",
      "revenue             0\n",
      "employees           0\n",
      "office_location     0\n",
      "subsidiary_of       0\n",
      "dtype: int64\n"
     ]
    }
   ],
   "source": [
    "print(merged_data.isnull().sum())"
   ]
  },
  {
   "cell_type": "code",
   "execution_count": 38,
   "metadata": {},
   "outputs": [
    {
     "name": "stdout",
     "output_type": "stream",
     "text": [
      "datetime64[ns]\n"
     ]
    }
   ],
   "source": [
    "print(merged_data[\"engage_date\"].dtype)"
   ]
  },
  {
   "cell_type": "code",
   "execution_count": 39,
   "metadata": {},
   "outputs": [
    {
     "data": {
      "text/plain": [
       "opportunity_id              object\n",
       "sales_agent                 object\n",
       "product                     object\n",
       "account                     object\n",
       "deal_stage                  object\n",
       "engage_date         datetime64[ns]\n",
       "close_date          datetime64[ns]\n",
       "close_value                float64\n",
       "sector                      object\n",
       "year_established             int32\n",
       "revenue                    float64\n",
       "employees                    int32\n",
       "office_location             object\n",
       "subsidiary_of               object\n",
       "dtype: object"
      ]
     },
     "execution_count": 39,
     "metadata": {},
     "output_type": "execute_result"
    }
   ],
   "source": [
    "merged_data.dtypes"
   ]
  },
  {
   "cell_type": "markdown",
   "metadata": {},
   "source": [
    "Analyse temporelle"
   ]
  },
  {
   "cell_type": "code",
   "execution_count": 40,
   "metadata": {},
   "outputs": [
    {
     "name": "stdout",
     "output_type": "stream",
     "text": [
      "   engage_year engage_month engage_day  engage_quarter\n",
      "0         2016      October   Thursday               4\n",
      "1         2016      October    Tuesday               4\n",
      "2         2016      October    Tuesday               4\n",
      "3         2016      October    Tuesday               4\n",
      "4         2016      October    Tuesday               4\n",
      "   close_year close_month  close_day  close_quarter\n",
      "0        2017       March  Wednesday              1\n",
      "1        2017       March   Saturday              1\n",
      "2        2017       March    Tuesday              1\n",
      "3        2017       March   Thursday              1\n",
      "4        2017       March   Thursday              1\n"
     ]
    }
   ],
   "source": [
    "# Extraction des composantes temporelles\n",
    "merged_data[\"engage_day\"] = merged_data[\"engage_date\"].dt.strftime(\"%A\") \n",
    "merged_data[\"engage_month\"] = merged_data[\"engage_date\"].dt.strftime(\"%B\")\n",
    "merged_data[\"engage_year\"] = merged_data[\"engage_date\"].dt.year  \n",
    "merged_data[\"engage_quarter\"] = merged_data[\"engage_date\"].dt.quarter  \n",
    "\n",
    "merged_data[\"close_day\"] = merged_data[\"close_date\"].dt.strftime(\"%A\")\n",
    "merged_data[\"close_month\"] = merged_data[\"close_date\"].dt.strftime(\"%B\") \n",
    "merged_data[\"close_year\"] = merged_data[\"close_date\"].dt.year\n",
    "merged_data[\"close_quarter\"] = merged_data[\"close_date\"].dt.quarter\n",
    "\n",
    "# Vérification des colonnes nouvellement ajoutées\n",
    "print(merged_data[[\"engage_year\", \"engage_month\", \"engage_day\", \"engage_quarter\"]].head())\n",
    "print(merged_data[[\"close_year\", \"close_month\", \"close_day\", \"close_quarter\"]].head())\n"
   ]
  },
  {
   "cell_type": "code",
   "execution_count": 41,
   "metadata": {},
   "outputs": [
    {
     "data": {
      "text/html": [
       "<div>\n",
       "<style scoped>\n",
       "    .dataframe tbody tr th:only-of-type {\n",
       "        vertical-align: middle;\n",
       "    }\n",
       "\n",
       "    .dataframe tbody tr th {\n",
       "        vertical-align: top;\n",
       "    }\n",
       "\n",
       "    .dataframe thead th {\n",
       "        text-align: right;\n",
       "    }\n",
       "</style>\n",
       "<table border=\"1\" class=\"dataframe\">\n",
       "  <thead>\n",
       "    <tr style=\"text-align: right;\">\n",
       "      <th></th>\n",
       "      <th>opportunity_id</th>\n",
       "      <th>sales_agent</th>\n",
       "      <th>product</th>\n",
       "      <th>account</th>\n",
       "      <th>deal_stage</th>\n",
       "      <th>engage_date</th>\n",
       "      <th>close_date</th>\n",
       "      <th>close_value</th>\n",
       "      <th>sector</th>\n",
       "      <th>year_established</th>\n",
       "      <th>...</th>\n",
       "      <th>office_location</th>\n",
       "      <th>subsidiary_of</th>\n",
       "      <th>engage_day</th>\n",
       "      <th>engage_month</th>\n",
       "      <th>engage_year</th>\n",
       "      <th>engage_quarter</th>\n",
       "      <th>close_day</th>\n",
       "      <th>close_month</th>\n",
       "      <th>close_year</th>\n",
       "      <th>close_quarter</th>\n",
       "    </tr>\n",
       "  </thead>\n",
       "  <tbody>\n",
       "    <tr>\n",
       "      <th>0</th>\n",
       "      <td>1C1I7A6R</td>\n",
       "      <td>Moses Frase</td>\n",
       "      <td>GTX Plus Basic</td>\n",
       "      <td>Cancity</td>\n",
       "      <td>Won</td>\n",
       "      <td>2016-10-20 00:00:00.000000000</td>\n",
       "      <td>2017-03-01 00:00:00.000000000</td>\n",
       "      <td>1054.0</td>\n",
       "      <td>retail</td>\n",
       "      <td>2001</td>\n",
       "      <td>...</td>\n",
       "      <td>United States</td>\n",
       "      <td>Indépendant</td>\n",
       "      <td>Thursday</td>\n",
       "      <td>October</td>\n",
       "      <td>2016</td>\n",
       "      <td>4</td>\n",
       "      <td>Wednesday</td>\n",
       "      <td>March</td>\n",
       "      <td>2017</td>\n",
       "      <td>1</td>\n",
       "    </tr>\n",
       "    <tr>\n",
       "      <th>1</th>\n",
       "      <td>Z063OYW0</td>\n",
       "      <td>Darcel Schlecht</td>\n",
       "      <td>GTXPro</td>\n",
       "      <td>Isdom</td>\n",
       "      <td>Won</td>\n",
       "      <td>2016-10-25 00:00:00.000000000</td>\n",
       "      <td>2017-03-11 00:00:00.000000000</td>\n",
       "      <td>4514.0</td>\n",
       "      <td>medical</td>\n",
       "      <td>2002</td>\n",
       "      <td>...</td>\n",
       "      <td>United States</td>\n",
       "      <td>Indépendant</td>\n",
       "      <td>Tuesday</td>\n",
       "      <td>October</td>\n",
       "      <td>2016</td>\n",
       "      <td>4</td>\n",
       "      <td>Saturday</td>\n",
       "      <td>March</td>\n",
       "      <td>2017</td>\n",
       "      <td>1</td>\n",
       "    </tr>\n",
       "    <tr>\n",
       "      <th>2</th>\n",
       "      <td>EC4QE1BX</td>\n",
       "      <td>Darcel Schlecht</td>\n",
       "      <td>MG Special</td>\n",
       "      <td>Cancity</td>\n",
       "      <td>Won</td>\n",
       "      <td>2016-10-25 00:00:00.000000000</td>\n",
       "      <td>2017-03-07 00:00:00.000000000</td>\n",
       "      <td>50.0</td>\n",
       "      <td>retail</td>\n",
       "      <td>2001</td>\n",
       "      <td>...</td>\n",
       "      <td>United States</td>\n",
       "      <td>Indépendant</td>\n",
       "      <td>Tuesday</td>\n",
       "      <td>October</td>\n",
       "      <td>2016</td>\n",
       "      <td>4</td>\n",
       "      <td>Tuesday</td>\n",
       "      <td>March</td>\n",
       "      <td>2017</td>\n",
       "      <td>1</td>\n",
       "    </tr>\n",
       "    <tr>\n",
       "      <th>3</th>\n",
       "      <td>MV1LWRNH</td>\n",
       "      <td>Moses Frase</td>\n",
       "      <td>GTX Basic</td>\n",
       "      <td>Codehow</td>\n",
       "      <td>Won</td>\n",
       "      <td>2016-10-25 00:00:00.000000000</td>\n",
       "      <td>2017-03-09 00:00:00.000000000</td>\n",
       "      <td>588.0</td>\n",
       "      <td>software</td>\n",
       "      <td>1998</td>\n",
       "      <td>...</td>\n",
       "      <td>United States</td>\n",
       "      <td>Acme Corporation</td>\n",
       "      <td>Tuesday</td>\n",
       "      <td>October</td>\n",
       "      <td>2016</td>\n",
       "      <td>4</td>\n",
       "      <td>Thursday</td>\n",
       "      <td>March</td>\n",
       "      <td>2017</td>\n",
       "      <td>1</td>\n",
       "    </tr>\n",
       "    <tr>\n",
       "      <th>4</th>\n",
       "      <td>PE84CX4O</td>\n",
       "      <td>Zane Levy</td>\n",
       "      <td>GTX Basic</td>\n",
       "      <td>Hatfan</td>\n",
       "      <td>Won</td>\n",
       "      <td>2016-10-25 00:00:00.000000000</td>\n",
       "      <td>2017-03-02 00:00:00.000000000</td>\n",
       "      <td>517.0</td>\n",
       "      <td>services</td>\n",
       "      <td>1982</td>\n",
       "      <td>...</td>\n",
       "      <td>United States</td>\n",
       "      <td>Indépendant</td>\n",
       "      <td>Tuesday</td>\n",
       "      <td>October</td>\n",
       "      <td>2016</td>\n",
       "      <td>4</td>\n",
       "      <td>Thursday</td>\n",
       "      <td>March</td>\n",
       "      <td>2017</td>\n",
       "      <td>1</td>\n",
       "    </tr>\n",
       "    <tr>\n",
       "      <th>...</th>\n",
       "      <td>...</td>\n",
       "      <td>...</td>\n",
       "      <td>...</td>\n",
       "      <td>...</td>\n",
       "      <td>...</td>\n",
       "      <td>...</td>\n",
       "      <td>...</td>\n",
       "      <td>...</td>\n",
       "      <td>...</td>\n",
       "      <td>...</td>\n",
       "      <td>...</td>\n",
       "      <td>...</td>\n",
       "      <td>...</td>\n",
       "      <td>...</td>\n",
       "      <td>...</td>\n",
       "      <td>...</td>\n",
       "      <td>...</td>\n",
       "      <td>...</td>\n",
       "      <td>...</td>\n",
       "      <td>...</td>\n",
       "      <td>...</td>\n",
       "    </tr>\n",
       "    <tr>\n",
       "      <th>8795</th>\n",
       "      <td>9MIWFW5J</td>\n",
       "      <td>Versie Hillebrand</td>\n",
       "      <td>MG Advanced</td>\n",
       "      <td>Inconnu</td>\n",
       "      <td>Prospecting</td>\n",
       "      <td>2017-06-16 07:58:26.188925184</td>\n",
       "      <td>2017-07-26 03:54:32.727272704</td>\n",
       "      <td>472.0</td>\n",
       "      <td>Inconnu</td>\n",
       "      <td>1995</td>\n",
       "      <td>...</td>\n",
       "      <td>Non spécifié</td>\n",
       "      <td>Indépendant</td>\n",
       "      <td>Friday</td>\n",
       "      <td>June</td>\n",
       "      <td>2017</td>\n",
       "      <td>2</td>\n",
       "      <td>Wednesday</td>\n",
       "      <td>July</td>\n",
       "      <td>2017</td>\n",
       "      <td>3</td>\n",
       "    </tr>\n",
       "    <tr>\n",
       "      <th>8796</th>\n",
       "      <td>6SLKZ8FI</td>\n",
       "      <td>Versie Hillebrand</td>\n",
       "      <td>MG Advanced</td>\n",
       "      <td>Inconnu</td>\n",
       "      <td>Prospecting</td>\n",
       "      <td>2017-06-16 07:58:26.188925184</td>\n",
       "      <td>2017-07-26 03:54:32.727272704</td>\n",
       "      <td>472.0</td>\n",
       "      <td>Inconnu</td>\n",
       "      <td>1995</td>\n",
       "      <td>...</td>\n",
       "      <td>Non spécifié</td>\n",
       "      <td>Indépendant</td>\n",
       "      <td>Friday</td>\n",
       "      <td>June</td>\n",
       "      <td>2017</td>\n",
       "      <td>2</td>\n",
       "      <td>Wednesday</td>\n",
       "      <td>July</td>\n",
       "      <td>2017</td>\n",
       "      <td>3</td>\n",
       "    </tr>\n",
       "    <tr>\n",
       "      <th>8797</th>\n",
       "      <td>LIB4KUZJ</td>\n",
       "      <td>Versie Hillebrand</td>\n",
       "      <td>MG Advanced</td>\n",
       "      <td>Inconnu</td>\n",
       "      <td>Prospecting</td>\n",
       "      <td>2017-06-16 07:58:26.188925184</td>\n",
       "      <td>2017-07-26 03:54:32.727272704</td>\n",
       "      <td>472.0</td>\n",
       "      <td>Inconnu</td>\n",
       "      <td>1995</td>\n",
       "      <td>...</td>\n",
       "      <td>Non spécifié</td>\n",
       "      <td>Indépendant</td>\n",
       "      <td>Friday</td>\n",
       "      <td>June</td>\n",
       "      <td>2017</td>\n",
       "      <td>2</td>\n",
       "      <td>Wednesday</td>\n",
       "      <td>July</td>\n",
       "      <td>2017</td>\n",
       "      <td>3</td>\n",
       "    </tr>\n",
       "    <tr>\n",
       "      <th>8798</th>\n",
       "      <td>18IUIUK0</td>\n",
       "      <td>Versie Hillebrand</td>\n",
       "      <td>MG Advanced</td>\n",
       "      <td>Inconnu</td>\n",
       "      <td>Prospecting</td>\n",
       "      <td>2017-06-16 07:58:26.188925184</td>\n",
       "      <td>2017-07-26 03:54:32.727272704</td>\n",
       "      <td>472.0</td>\n",
       "      <td>Inconnu</td>\n",
       "      <td>1995</td>\n",
       "      <td>...</td>\n",
       "      <td>Non spécifié</td>\n",
       "      <td>Indépendant</td>\n",
       "      <td>Friday</td>\n",
       "      <td>June</td>\n",
       "      <td>2017</td>\n",
       "      <td>2</td>\n",
       "      <td>Wednesday</td>\n",
       "      <td>July</td>\n",
       "      <td>2017</td>\n",
       "      <td>3</td>\n",
       "    </tr>\n",
       "    <tr>\n",
       "      <th>8799</th>\n",
       "      <td>8I5ONXJX</td>\n",
       "      <td>Versie Hillebrand</td>\n",
       "      <td>MG Advanced</td>\n",
       "      <td>Inconnu</td>\n",
       "      <td>Prospecting</td>\n",
       "      <td>2017-06-16 07:58:26.188925184</td>\n",
       "      <td>2017-07-26 03:54:32.727272704</td>\n",
       "      <td>472.0</td>\n",
       "      <td>Inconnu</td>\n",
       "      <td>1995</td>\n",
       "      <td>...</td>\n",
       "      <td>Non spécifié</td>\n",
       "      <td>Indépendant</td>\n",
       "      <td>Friday</td>\n",
       "      <td>June</td>\n",
       "      <td>2017</td>\n",
       "      <td>2</td>\n",
       "      <td>Wednesday</td>\n",
       "      <td>July</td>\n",
       "      <td>2017</td>\n",
       "      <td>3</td>\n",
       "    </tr>\n",
       "  </tbody>\n",
       "</table>\n",
       "<p>8800 rows × 22 columns</p>\n",
       "</div>"
      ],
      "text/plain": [
       "     opportunity_id        sales_agent         product  account   deal_stage  \\\n",
       "0          1C1I7A6R        Moses Frase  GTX Plus Basic  Cancity          Won   \n",
       "1          Z063OYW0    Darcel Schlecht          GTXPro    Isdom          Won   \n",
       "2          EC4QE1BX    Darcel Schlecht      MG Special  Cancity          Won   \n",
       "3          MV1LWRNH        Moses Frase       GTX Basic  Codehow          Won   \n",
       "4          PE84CX4O          Zane Levy       GTX Basic   Hatfan          Won   \n",
       "...             ...                ...             ...      ...          ...   \n",
       "8795       9MIWFW5J  Versie Hillebrand     MG Advanced  Inconnu  Prospecting   \n",
       "8796       6SLKZ8FI  Versie Hillebrand     MG Advanced  Inconnu  Prospecting   \n",
       "8797       LIB4KUZJ  Versie Hillebrand     MG Advanced  Inconnu  Prospecting   \n",
       "8798       18IUIUK0  Versie Hillebrand     MG Advanced  Inconnu  Prospecting   \n",
       "8799       8I5ONXJX  Versie Hillebrand     MG Advanced  Inconnu  Prospecting   \n",
       "\n",
       "                       engage_date                    close_date  close_value  \\\n",
       "0    2016-10-20 00:00:00.000000000 2017-03-01 00:00:00.000000000       1054.0   \n",
       "1    2016-10-25 00:00:00.000000000 2017-03-11 00:00:00.000000000       4514.0   \n",
       "2    2016-10-25 00:00:00.000000000 2017-03-07 00:00:00.000000000         50.0   \n",
       "3    2016-10-25 00:00:00.000000000 2017-03-09 00:00:00.000000000        588.0   \n",
       "4    2016-10-25 00:00:00.000000000 2017-03-02 00:00:00.000000000        517.0   \n",
       "...                            ...                           ...          ...   \n",
       "8795 2017-06-16 07:58:26.188925184 2017-07-26 03:54:32.727272704        472.0   \n",
       "8796 2017-06-16 07:58:26.188925184 2017-07-26 03:54:32.727272704        472.0   \n",
       "8797 2017-06-16 07:58:26.188925184 2017-07-26 03:54:32.727272704        472.0   \n",
       "8798 2017-06-16 07:58:26.188925184 2017-07-26 03:54:32.727272704        472.0   \n",
       "8799 2017-06-16 07:58:26.188925184 2017-07-26 03:54:32.727272704        472.0   \n",
       "\n",
       "        sector  year_established  ...  office_location     subsidiary_of  \\\n",
       "0       retail              2001  ...    United States       Indépendant   \n",
       "1      medical              2002  ...    United States       Indépendant   \n",
       "2       retail              2001  ...    United States       Indépendant   \n",
       "3     software              1998  ...    United States  Acme Corporation   \n",
       "4     services              1982  ...    United States       Indépendant   \n",
       "...        ...               ...  ...              ...               ...   \n",
       "8795   Inconnu              1995  ...     Non spécifié       Indépendant   \n",
       "8796   Inconnu              1995  ...     Non spécifié       Indépendant   \n",
       "8797   Inconnu              1995  ...     Non spécifié       Indépendant   \n",
       "8798   Inconnu              1995  ...     Non spécifié       Indépendant   \n",
       "8799   Inconnu              1995  ...     Non spécifié       Indépendant   \n",
       "\n",
       "     engage_day engage_month engage_year engage_quarter  close_day  \\\n",
       "0      Thursday      October        2016              4  Wednesday   \n",
       "1       Tuesday      October        2016              4   Saturday   \n",
       "2       Tuesday      October        2016              4    Tuesday   \n",
       "3       Tuesday      October        2016              4   Thursday   \n",
       "4       Tuesday      October        2016              4   Thursday   \n",
       "...         ...          ...         ...            ...        ...   \n",
       "8795     Friday         June        2017              2  Wednesday   \n",
       "8796     Friday         June        2017              2  Wednesday   \n",
       "8797     Friday         June        2017              2  Wednesday   \n",
       "8798     Friday         June        2017              2  Wednesday   \n",
       "8799     Friday         June        2017              2  Wednesday   \n",
       "\n",
       "      close_month close_year close_quarter  \n",
       "0           March       2017             1  \n",
       "1           March       2017             1  \n",
       "2           March       2017             1  \n",
       "3           March       2017             1  \n",
       "4           March       2017             1  \n",
       "...           ...        ...           ...  \n",
       "8795         July       2017             3  \n",
       "8796         July       2017             3  \n",
       "8797         July       2017             3  \n",
       "8798         July       2017             3  \n",
       "8799         July       2017             3  \n",
       "\n",
       "[8800 rows x 22 columns]"
      ]
     },
     "execution_count": 41,
     "metadata": {},
     "output_type": "execute_result"
    }
   ],
   "source": [
    "merged_data"
   ]
  },
  {
   "cell_type": "code",
   "execution_count": 42,
   "metadata": {},
   "outputs": [
    {
     "name": "stdout",
     "output_type": "stream",
     "text": [
      "<class 'pandas.core.frame.DataFrame'>\n",
      "RangeIndex: 8800 entries, 0 to 8799\n",
      "Data columns (total 26 columns):\n",
      " #   Column            Non-Null Count  Dtype         \n",
      "---  ------            --------------  -----         \n",
      " 0   opportunity_id    8800 non-null   object        \n",
      " 1   sales_agent       8800 non-null   object        \n",
      " 2   product           8800 non-null   object        \n",
      " 3   account           8800 non-null   object        \n",
      " 4   deal_stage        8800 non-null   object        \n",
      " 5   engage_date       8800 non-null   datetime64[ns]\n",
      " 6   close_date        8800 non-null   datetime64[ns]\n",
      " 7   close_value       8800 non-null   float64       \n",
      " 8   sector            8800 non-null   object        \n",
      " 9   year_established  8800 non-null   int32         \n",
      " 10  revenue           8800 non-null   float64       \n",
      " 11  employees         8800 non-null   int32         \n",
      " 12  office_location   8800 non-null   object        \n",
      " 13  subsidiary_of     8800 non-null   object        \n",
      " 14  engage_day        8800 non-null   object        \n",
      " 15  engage_month      8800 non-null   object        \n",
      " 16  engage_year       8800 non-null   int32         \n",
      " 17  engage_quarter    8800 non-null   int32         \n",
      " 18  close_day         8800 non-null   object        \n",
      " 19  close_month       8800 non-null   object        \n",
      " 20  close_year        8800 non-null   int32         \n",
      " 21  close_quarter     8800 non-null   int32         \n",
      " 22  manager           8800 non-null   object        \n",
      " 23  regional_office   8800 non-null   object        \n",
      " 24  series            7320 non-null   object        \n",
      " 25  sales_price       7320 non-null   float64       \n",
      "dtypes: datetime64[ns](2), float64(3), int32(6), object(15)\n",
      "memory usage: 1.5+ MB\n",
      "None\n"
     ]
    }
   ],
   "source": [
    "# Charger les fichiers CSV nécessaires\n",
    "sales_teams = pd.read_csv('sales_teams.csv')\n",
    "products = pd.read_csv('products.csv')\n",
    "\n",
    "# Joindre les informations de 'sales_teams' à 'merged_data'\n",
    "merged_data = merged_data.merge(\n",
    "    sales_teams,\n",
    "    how='left',  # Utilisez 'left' pour ne pas perdre de données de merged_data\n",
    "    on='sales_agent'\n",
    ")\n",
    "\n",
    "# Joindre les informations de 'products' à 'merged_data'\n",
    "merged_data = merged_data.merge(\n",
    "    products,\n",
    "    how='left',  # Utilisez 'left' pour ne pas perdre de données de merged_data\n",
    "    on='product'\n",
    ")\n",
    "\n",
    "# Vérification des colonnes ajoutées et des valeurs manquantes après fusion\n",
    "print(merged_data.info())\n",
    "\n"
   ]
  },
  {
   "cell_type": "code",
   "execution_count": 43,
   "metadata": {},
   "outputs": [
    {
     "name": "stderr",
     "output_type": "stream",
     "text": [
      "C:\\Users\\fanti\\AppData\\Local\\Temp\\ipykernel_22588\\2125799713.py:2: FutureWarning:\n",
      "\n",
      "A value is trying to be set on a copy of a DataFrame or Series through chained assignment using an inplace method.\n",
      "The behavior will change in pandas 3.0. This inplace method will never work because the intermediate object on which we are setting values always behaves as a copy.\n",
      "\n",
      "For example, when doing 'df[col].method(value, inplace=True)', try using 'df.method({col: value}, inplace=True)' or df[col] = df[col].method(value) instead, to perform the operation inplace on the original object.\n",
      "\n",
      "\n",
      "\n",
      "C:\\Users\\fanti\\AppData\\Local\\Temp\\ipykernel_22588\\2125799713.py:3: FutureWarning:\n",
      "\n",
      "A value is trying to be set on a copy of a DataFrame or Series through chained assignment using an inplace method.\n",
      "The behavior will change in pandas 3.0. This inplace method will never work because the intermediate object on which we are setting values always behaves as a copy.\n",
      "\n",
      "For example, when doing 'df[col].method(value, inplace=True)', try using 'df.method({col: value}, inplace=True)' or df[col] = df[col].method(value) instead, to perform the operation inplace on the original object.\n",
      "\n",
      "\n",
      "\n"
     ]
    }
   ],
   "source": [
    "# Remplir les colonnes manquantes avec des valeurs par défaut\n",
    "merged_data['series'].fillna(\"Inconnu\", inplace=True)\n",
    "merged_data['sales_price'].fillna(merged_data['sales_price'].median(), inplace=True)\n"
   ]
  },
  {
   "cell_type": "code",
   "execution_count": 44,
   "metadata": {},
   "outputs": [
    {
     "name": "stdout",
     "output_type": "stream",
     "text": [
      "opportunity_id              object\n",
      "sales_agent                 object\n",
      "product                     object\n",
      "account                     object\n",
      "deal_stage                category\n",
      "engage_date         datetime64[ns]\n",
      "close_date          datetime64[ns]\n",
      "close_value                float64\n",
      "sector                    category\n",
      "year_established             int32\n",
      "revenue                    float64\n",
      "employees                    int32\n",
      "office_location             object\n",
      "subsidiary_of               object\n",
      "engage_day                  object\n",
      "engage_month                object\n",
      "engage_year                  int32\n",
      "engage_quarter               int32\n",
      "close_day                   object\n",
      "close_month                 object\n",
      "close_year                   int32\n",
      "close_quarter                int32\n",
      "manager                     object\n",
      "regional_office           category\n",
      "series                      object\n",
      "sales_price                float64\n",
      "dtype: object\n"
     ]
    }
   ],
   "source": [
    "# Convertir les colonnes en 'category'\n",
    "merged_data['sector'] = merged_data['sector'].astype('category')\n",
    "merged_data['deal_stage'] = merged_data['deal_stage'].astype('category')\n",
    "merged_data['regional_office'] = merged_data['regional_office'].astype('category')\n",
    "\n",
    "# Vérifiez les types après conversion\n",
    "print(merged_data.dtypes)\n"
   ]
  },
  {
   "cell_type": "code",
   "execution_count": 45,
   "metadata": {},
   "outputs": [
    {
     "name": "stdout",
     "output_type": "stream",
     "text": [
      "opportunity_id      0\n",
      "sales_agent         0\n",
      "product             0\n",
      "account             0\n",
      "deal_stage          0\n",
      "engage_date         0\n",
      "close_date          0\n",
      "close_value         0\n",
      "sector              0\n",
      "year_established    0\n",
      "revenue             0\n",
      "employees           0\n",
      "office_location     0\n",
      "subsidiary_of       0\n",
      "engage_day          0\n",
      "engage_month        0\n",
      "engage_year         0\n",
      "engage_quarter      0\n",
      "close_day           0\n",
      "close_month         0\n",
      "close_year          0\n",
      "close_quarter       0\n",
      "manager             0\n",
      "regional_office     0\n",
      "series              0\n",
      "sales_price         0\n",
      "dtype: int64\n"
     ]
    }
   ],
   "source": [
    "print(merged_data.isnull().sum())"
   ]
  },
  {
   "cell_type": "code",
   "execution_count": 46,
   "metadata": {},
   "outputs": [
    {
     "data": {
      "text/html": [
       "<div>\n",
       "<style scoped>\n",
       "    .dataframe tbody tr th:only-of-type {\n",
       "        vertical-align: middle;\n",
       "    }\n",
       "\n",
       "    .dataframe tbody tr th {\n",
       "        vertical-align: top;\n",
       "    }\n",
       "\n",
       "    .dataframe thead th {\n",
       "        text-align: right;\n",
       "    }\n",
       "</style>\n",
       "<table border=\"1\" class=\"dataframe\">\n",
       "  <thead>\n",
       "    <tr style=\"text-align: right;\">\n",
       "      <th></th>\n",
       "      <th>opportunity_id</th>\n",
       "      <th>sales_agent</th>\n",
       "      <th>product</th>\n",
       "      <th>account</th>\n",
       "      <th>deal_stage</th>\n",
       "      <th>engage_date</th>\n",
       "      <th>close_date</th>\n",
       "      <th>close_value</th>\n",
       "      <th>sector</th>\n",
       "      <th>year_established</th>\n",
       "      <th>...</th>\n",
       "      <th>engage_year</th>\n",
       "      <th>engage_quarter</th>\n",
       "      <th>close_day</th>\n",
       "      <th>close_month</th>\n",
       "      <th>close_year</th>\n",
       "      <th>close_quarter</th>\n",
       "      <th>manager</th>\n",
       "      <th>regional_office</th>\n",
       "      <th>series</th>\n",
       "      <th>sales_price</th>\n",
       "    </tr>\n",
       "  </thead>\n",
       "  <tbody>\n",
       "    <tr>\n",
       "      <th>0</th>\n",
       "      <td>1C1I7A6R</td>\n",
       "      <td>Moses Frase</td>\n",
       "      <td>GTX Plus Basic</td>\n",
       "      <td>Cancity</td>\n",
       "      <td>Won</td>\n",
       "      <td>2016-10-20 00:00:00.000000000</td>\n",
       "      <td>2017-03-01 00:00:00.000000000</td>\n",
       "      <td>1054.0</td>\n",
       "      <td>retail</td>\n",
       "      <td>2001</td>\n",
       "      <td>...</td>\n",
       "      <td>2016</td>\n",
       "      <td>4</td>\n",
       "      <td>Wednesday</td>\n",
       "      <td>March</td>\n",
       "      <td>2017</td>\n",
       "      <td>1</td>\n",
       "      <td>Dustin Brinkmann</td>\n",
       "      <td>Central</td>\n",
       "      <td>GTX</td>\n",
       "      <td>1096.0</td>\n",
       "    </tr>\n",
       "    <tr>\n",
       "      <th>1</th>\n",
       "      <td>Z063OYW0</td>\n",
       "      <td>Darcel Schlecht</td>\n",
       "      <td>GTXPro</td>\n",
       "      <td>Isdom</td>\n",
       "      <td>Won</td>\n",
       "      <td>2016-10-25 00:00:00.000000000</td>\n",
       "      <td>2017-03-11 00:00:00.000000000</td>\n",
       "      <td>4514.0</td>\n",
       "      <td>medical</td>\n",
       "      <td>2002</td>\n",
       "      <td>...</td>\n",
       "      <td>2016</td>\n",
       "      <td>4</td>\n",
       "      <td>Saturday</td>\n",
       "      <td>March</td>\n",
       "      <td>2017</td>\n",
       "      <td>1</td>\n",
       "      <td>Melvin Marxen</td>\n",
       "      <td>Central</td>\n",
       "      <td>Inconnu</td>\n",
       "      <td>1096.0</td>\n",
       "    </tr>\n",
       "    <tr>\n",
       "      <th>2</th>\n",
       "      <td>EC4QE1BX</td>\n",
       "      <td>Darcel Schlecht</td>\n",
       "      <td>MG Special</td>\n",
       "      <td>Cancity</td>\n",
       "      <td>Won</td>\n",
       "      <td>2016-10-25 00:00:00.000000000</td>\n",
       "      <td>2017-03-07 00:00:00.000000000</td>\n",
       "      <td>50.0</td>\n",
       "      <td>retail</td>\n",
       "      <td>2001</td>\n",
       "      <td>...</td>\n",
       "      <td>2016</td>\n",
       "      <td>4</td>\n",
       "      <td>Tuesday</td>\n",
       "      <td>March</td>\n",
       "      <td>2017</td>\n",
       "      <td>1</td>\n",
       "      <td>Melvin Marxen</td>\n",
       "      <td>Central</td>\n",
       "      <td>MG</td>\n",
       "      <td>55.0</td>\n",
       "    </tr>\n",
       "    <tr>\n",
       "      <th>3</th>\n",
       "      <td>MV1LWRNH</td>\n",
       "      <td>Moses Frase</td>\n",
       "      <td>GTX Basic</td>\n",
       "      <td>Codehow</td>\n",
       "      <td>Won</td>\n",
       "      <td>2016-10-25 00:00:00.000000000</td>\n",
       "      <td>2017-03-09 00:00:00.000000000</td>\n",
       "      <td>588.0</td>\n",
       "      <td>software</td>\n",
       "      <td>1998</td>\n",
       "      <td>...</td>\n",
       "      <td>2016</td>\n",
       "      <td>4</td>\n",
       "      <td>Thursday</td>\n",
       "      <td>March</td>\n",
       "      <td>2017</td>\n",
       "      <td>1</td>\n",
       "      <td>Dustin Brinkmann</td>\n",
       "      <td>Central</td>\n",
       "      <td>GTX</td>\n",
       "      <td>550.0</td>\n",
       "    </tr>\n",
       "    <tr>\n",
       "      <th>4</th>\n",
       "      <td>PE84CX4O</td>\n",
       "      <td>Zane Levy</td>\n",
       "      <td>GTX Basic</td>\n",
       "      <td>Hatfan</td>\n",
       "      <td>Won</td>\n",
       "      <td>2016-10-25 00:00:00.000000000</td>\n",
       "      <td>2017-03-02 00:00:00.000000000</td>\n",
       "      <td>517.0</td>\n",
       "      <td>services</td>\n",
       "      <td>1982</td>\n",
       "      <td>...</td>\n",
       "      <td>2016</td>\n",
       "      <td>4</td>\n",
       "      <td>Thursday</td>\n",
       "      <td>March</td>\n",
       "      <td>2017</td>\n",
       "      <td>1</td>\n",
       "      <td>Summer Sewald</td>\n",
       "      <td>West</td>\n",
       "      <td>GTX</td>\n",
       "      <td>550.0</td>\n",
       "    </tr>\n",
       "    <tr>\n",
       "      <th>...</th>\n",
       "      <td>...</td>\n",
       "      <td>...</td>\n",
       "      <td>...</td>\n",
       "      <td>...</td>\n",
       "      <td>...</td>\n",
       "      <td>...</td>\n",
       "      <td>...</td>\n",
       "      <td>...</td>\n",
       "      <td>...</td>\n",
       "      <td>...</td>\n",
       "      <td>...</td>\n",
       "      <td>...</td>\n",
       "      <td>...</td>\n",
       "      <td>...</td>\n",
       "      <td>...</td>\n",
       "      <td>...</td>\n",
       "      <td>...</td>\n",
       "      <td>...</td>\n",
       "      <td>...</td>\n",
       "      <td>...</td>\n",
       "      <td>...</td>\n",
       "    </tr>\n",
       "    <tr>\n",
       "      <th>8795</th>\n",
       "      <td>9MIWFW5J</td>\n",
       "      <td>Versie Hillebrand</td>\n",
       "      <td>MG Advanced</td>\n",
       "      <td>Inconnu</td>\n",
       "      <td>Prospecting</td>\n",
       "      <td>2017-06-16 07:58:26.188925184</td>\n",
       "      <td>2017-07-26 03:54:32.727272704</td>\n",
       "      <td>472.0</td>\n",
       "      <td>Inconnu</td>\n",
       "      <td>1995</td>\n",
       "      <td>...</td>\n",
       "      <td>2017</td>\n",
       "      <td>2</td>\n",
       "      <td>Wednesday</td>\n",
       "      <td>July</td>\n",
       "      <td>2017</td>\n",
       "      <td>3</td>\n",
       "      <td>Dustin Brinkmann</td>\n",
       "      <td>Central</td>\n",
       "      <td>MG</td>\n",
       "      <td>3393.0</td>\n",
       "    </tr>\n",
       "    <tr>\n",
       "      <th>8796</th>\n",
       "      <td>6SLKZ8FI</td>\n",
       "      <td>Versie Hillebrand</td>\n",
       "      <td>MG Advanced</td>\n",
       "      <td>Inconnu</td>\n",
       "      <td>Prospecting</td>\n",
       "      <td>2017-06-16 07:58:26.188925184</td>\n",
       "      <td>2017-07-26 03:54:32.727272704</td>\n",
       "      <td>472.0</td>\n",
       "      <td>Inconnu</td>\n",
       "      <td>1995</td>\n",
       "      <td>...</td>\n",
       "      <td>2017</td>\n",
       "      <td>2</td>\n",
       "      <td>Wednesday</td>\n",
       "      <td>July</td>\n",
       "      <td>2017</td>\n",
       "      <td>3</td>\n",
       "      <td>Dustin Brinkmann</td>\n",
       "      <td>Central</td>\n",
       "      <td>MG</td>\n",
       "      <td>3393.0</td>\n",
       "    </tr>\n",
       "    <tr>\n",
       "      <th>8797</th>\n",
       "      <td>LIB4KUZJ</td>\n",
       "      <td>Versie Hillebrand</td>\n",
       "      <td>MG Advanced</td>\n",
       "      <td>Inconnu</td>\n",
       "      <td>Prospecting</td>\n",
       "      <td>2017-06-16 07:58:26.188925184</td>\n",
       "      <td>2017-07-26 03:54:32.727272704</td>\n",
       "      <td>472.0</td>\n",
       "      <td>Inconnu</td>\n",
       "      <td>1995</td>\n",
       "      <td>...</td>\n",
       "      <td>2017</td>\n",
       "      <td>2</td>\n",
       "      <td>Wednesday</td>\n",
       "      <td>July</td>\n",
       "      <td>2017</td>\n",
       "      <td>3</td>\n",
       "      <td>Dustin Brinkmann</td>\n",
       "      <td>Central</td>\n",
       "      <td>MG</td>\n",
       "      <td>3393.0</td>\n",
       "    </tr>\n",
       "    <tr>\n",
       "      <th>8798</th>\n",
       "      <td>18IUIUK0</td>\n",
       "      <td>Versie Hillebrand</td>\n",
       "      <td>MG Advanced</td>\n",
       "      <td>Inconnu</td>\n",
       "      <td>Prospecting</td>\n",
       "      <td>2017-06-16 07:58:26.188925184</td>\n",
       "      <td>2017-07-26 03:54:32.727272704</td>\n",
       "      <td>472.0</td>\n",
       "      <td>Inconnu</td>\n",
       "      <td>1995</td>\n",
       "      <td>...</td>\n",
       "      <td>2017</td>\n",
       "      <td>2</td>\n",
       "      <td>Wednesday</td>\n",
       "      <td>July</td>\n",
       "      <td>2017</td>\n",
       "      <td>3</td>\n",
       "      <td>Dustin Brinkmann</td>\n",
       "      <td>Central</td>\n",
       "      <td>MG</td>\n",
       "      <td>3393.0</td>\n",
       "    </tr>\n",
       "    <tr>\n",
       "      <th>8799</th>\n",
       "      <td>8I5ONXJX</td>\n",
       "      <td>Versie Hillebrand</td>\n",
       "      <td>MG Advanced</td>\n",
       "      <td>Inconnu</td>\n",
       "      <td>Prospecting</td>\n",
       "      <td>2017-06-16 07:58:26.188925184</td>\n",
       "      <td>2017-07-26 03:54:32.727272704</td>\n",
       "      <td>472.0</td>\n",
       "      <td>Inconnu</td>\n",
       "      <td>1995</td>\n",
       "      <td>...</td>\n",
       "      <td>2017</td>\n",
       "      <td>2</td>\n",
       "      <td>Wednesday</td>\n",
       "      <td>July</td>\n",
       "      <td>2017</td>\n",
       "      <td>3</td>\n",
       "      <td>Dustin Brinkmann</td>\n",
       "      <td>Central</td>\n",
       "      <td>MG</td>\n",
       "      <td>3393.0</td>\n",
       "    </tr>\n",
       "  </tbody>\n",
       "</table>\n",
       "<p>8800 rows × 26 columns</p>\n",
       "</div>"
      ],
      "text/plain": [
       "     opportunity_id        sales_agent         product  account   deal_stage  \\\n",
       "0          1C1I7A6R        Moses Frase  GTX Plus Basic  Cancity          Won   \n",
       "1          Z063OYW0    Darcel Schlecht          GTXPro    Isdom          Won   \n",
       "2          EC4QE1BX    Darcel Schlecht      MG Special  Cancity          Won   \n",
       "3          MV1LWRNH        Moses Frase       GTX Basic  Codehow          Won   \n",
       "4          PE84CX4O          Zane Levy       GTX Basic   Hatfan          Won   \n",
       "...             ...                ...             ...      ...          ...   \n",
       "8795       9MIWFW5J  Versie Hillebrand     MG Advanced  Inconnu  Prospecting   \n",
       "8796       6SLKZ8FI  Versie Hillebrand     MG Advanced  Inconnu  Prospecting   \n",
       "8797       LIB4KUZJ  Versie Hillebrand     MG Advanced  Inconnu  Prospecting   \n",
       "8798       18IUIUK0  Versie Hillebrand     MG Advanced  Inconnu  Prospecting   \n",
       "8799       8I5ONXJX  Versie Hillebrand     MG Advanced  Inconnu  Prospecting   \n",
       "\n",
       "                       engage_date                    close_date  close_value  \\\n",
       "0    2016-10-20 00:00:00.000000000 2017-03-01 00:00:00.000000000       1054.0   \n",
       "1    2016-10-25 00:00:00.000000000 2017-03-11 00:00:00.000000000       4514.0   \n",
       "2    2016-10-25 00:00:00.000000000 2017-03-07 00:00:00.000000000         50.0   \n",
       "3    2016-10-25 00:00:00.000000000 2017-03-09 00:00:00.000000000        588.0   \n",
       "4    2016-10-25 00:00:00.000000000 2017-03-02 00:00:00.000000000        517.0   \n",
       "...                            ...                           ...          ...   \n",
       "8795 2017-06-16 07:58:26.188925184 2017-07-26 03:54:32.727272704        472.0   \n",
       "8796 2017-06-16 07:58:26.188925184 2017-07-26 03:54:32.727272704        472.0   \n",
       "8797 2017-06-16 07:58:26.188925184 2017-07-26 03:54:32.727272704        472.0   \n",
       "8798 2017-06-16 07:58:26.188925184 2017-07-26 03:54:32.727272704        472.0   \n",
       "8799 2017-06-16 07:58:26.188925184 2017-07-26 03:54:32.727272704        472.0   \n",
       "\n",
       "        sector  year_established  ...  engage_year  engage_quarter  close_day  \\\n",
       "0       retail              2001  ...         2016               4  Wednesday   \n",
       "1      medical              2002  ...         2016               4   Saturday   \n",
       "2       retail              2001  ...         2016               4    Tuesday   \n",
       "3     software              1998  ...         2016               4   Thursday   \n",
       "4     services              1982  ...         2016               4   Thursday   \n",
       "...        ...               ...  ...          ...             ...        ...   \n",
       "8795   Inconnu              1995  ...         2017               2  Wednesday   \n",
       "8796   Inconnu              1995  ...         2017               2  Wednesday   \n",
       "8797   Inconnu              1995  ...         2017               2  Wednesday   \n",
       "8798   Inconnu              1995  ...         2017               2  Wednesday   \n",
       "8799   Inconnu              1995  ...         2017               2  Wednesday   \n",
       "\n",
       "     close_month close_year close_quarter           manager  regional_office  \\\n",
       "0          March       2017             1  Dustin Brinkmann          Central   \n",
       "1          March       2017             1     Melvin Marxen          Central   \n",
       "2          March       2017             1     Melvin Marxen          Central   \n",
       "3          March       2017             1  Dustin Brinkmann          Central   \n",
       "4          March       2017             1     Summer Sewald             West   \n",
       "...          ...        ...           ...               ...              ...   \n",
       "8795        July       2017             3  Dustin Brinkmann          Central   \n",
       "8796        July       2017             3  Dustin Brinkmann          Central   \n",
       "8797        July       2017             3  Dustin Brinkmann          Central   \n",
       "8798        July       2017             3  Dustin Brinkmann          Central   \n",
       "8799        July       2017             3  Dustin Brinkmann          Central   \n",
       "\n",
       "       series sales_price  \n",
       "0         GTX      1096.0  \n",
       "1     Inconnu      1096.0  \n",
       "2          MG        55.0  \n",
       "3         GTX       550.0  \n",
       "4         GTX       550.0  \n",
       "...       ...         ...  \n",
       "8795       MG      3393.0  \n",
       "8796       MG      3393.0  \n",
       "8797       MG      3393.0  \n",
       "8798       MG      3393.0  \n",
       "8799       MG      3393.0  \n",
       "\n",
       "[8800 rows x 26 columns]"
      ]
     },
     "execution_count": 46,
     "metadata": {},
     "output_type": "execute_result"
    }
   ],
   "source": [
    "merged_data"
   ]
  },
  {
   "cell_type": "code",
   "execution_count": 47,
   "metadata": {},
   "outputs": [
    {
     "data": {
      "text/plain": [
       "opportunity_id              object\n",
       "sales_agent                 object\n",
       "product                     object\n",
       "account                     object\n",
       "deal_stage                category\n",
       "engage_date         datetime64[ns]\n",
       "close_date          datetime64[ns]\n",
       "close_value                float64\n",
       "sector                    category\n",
       "year_established             int32\n",
       "revenue                    float64\n",
       "employees                    int32\n",
       "office_location             object\n",
       "subsidiary_of               object\n",
       "engage_day                  object\n",
       "engage_month                object\n",
       "engage_year                  int32\n",
       "engage_quarter               int32\n",
       "close_day                   object\n",
       "close_month                 object\n",
       "close_year                   int32\n",
       "close_quarter                int32\n",
       "manager                     object\n",
       "regional_office           category\n",
       "series                      object\n",
       "sales_price                float64\n",
       "dtype: object"
      ]
     },
     "execution_count": 47,
     "metadata": {},
     "output_type": "execute_result"
    }
   ],
   "source": [
    "merged_data.dtypes"
   ]
  },
  {
   "cell_type": "markdown",
   "metadata": {},
   "source": [
    "Chargement du fichier netoyée nommée 'dataCleaned.csv' se trouvant dans le dossier data "
   ]
  },
  {
   "cell_type": "code",
   "execution_count": 48,
   "metadata": {},
   "outputs": [],
   "source": [
    "merged_data.to_csv('data/dataCleaned.csv', index=False, float_format='%.2f')\n"
   ]
  },
  {
   "cell_type": "markdown",
   "metadata": {},
   "source": [
    "Analyser les données de vente du CRM et identifier les tendances et les modèles."
   ]
  },
  {
   "cell_type": "markdown",
   "metadata": {},
   "source": [
    "identifier les étapes clés où les opportunités sont gagnées ou perdues.\n",
    "\n",
    " l'analyse de la distribution des opportunités par étape du pipeline (deal_stage ) pour identifier\n",
    "\n",
    "les opportunités gagnées ou perdues . en comptant le nombre d'occurrences de chaque valeur unique dans la colonne deal_stage\n"
   ]
  },
  {
   "cell_type": "code",
   "execution_count": 49,
   "metadata": {},
   "outputs": [
    {
     "data": {
      "text/plain": [
       "deal_stage\n",
       "Won            4238\n",
       "Lost           2473\n",
       "Engaging       1589\n",
       "Prospecting     500\n",
       "Name: count, dtype: int64"
      ]
     },
     "execution_count": 49,
     "metadata": {},
     "output_type": "execute_result"
    }
   ],
   "source": [
    "merged_data[\"deal_stage\"].value_counts()"
   ]
  },
  {
   "cell_type": "code",
   "execution_count": 50,
   "metadata": {},
   "outputs": [
    {
     "data": {
      "application/vnd.plotly.v1+json": {
       "config": {
        "plotlyServerURL": "https://plot.ly"
       },
       "data": [
        {
         "hovertemplate": "Nombre d'opportunités=%{x}<br>Étape du pipeline de ventes=%{y}<extra></extra>",
         "legendgroup": "",
         "marker": {
          "color": "#636efa"
         },
         "name": "",
         "orientation": "h",
         "showlegend": false,
         "type": "funnel",
         "x": [
          4238,
          2473,
          1589,
          500
         ],
         "xaxis": "x",
         "y": [
          "Won",
          "Lost",
          "Engaging",
          "Prospecting"
         ],
         "yaxis": "y"
        }
       ],
       "layout": {
        "legend": {
         "tracegroupgap": 0
        },
        "template": {
         "data": {
          "bar": [
           {
            "error_x": {
             "color": "#2a3f5f"
            },
            "error_y": {
             "color": "#2a3f5f"
            },
            "marker": {
             "line": {
              "color": "#E5ECF6",
              "width": 0.5
             },
             "pattern": {
              "fillmode": "overlay",
              "size": 10,
              "solidity": 0.2
             }
            },
            "type": "bar"
           }
          ],
          "barpolar": [
           {
            "marker": {
             "line": {
              "color": "#E5ECF6",
              "width": 0.5
             },
             "pattern": {
              "fillmode": "overlay",
              "size": 10,
              "solidity": 0.2
             }
            },
            "type": "barpolar"
           }
          ],
          "carpet": [
           {
            "aaxis": {
             "endlinecolor": "#2a3f5f",
             "gridcolor": "white",
             "linecolor": "white",
             "minorgridcolor": "white",
             "startlinecolor": "#2a3f5f"
            },
            "baxis": {
             "endlinecolor": "#2a3f5f",
             "gridcolor": "white",
             "linecolor": "white",
             "minorgridcolor": "white",
             "startlinecolor": "#2a3f5f"
            },
            "type": "carpet"
           }
          ],
          "choropleth": [
           {
            "colorbar": {
             "outlinewidth": 0,
             "ticks": ""
            },
            "type": "choropleth"
           }
          ],
          "contour": [
           {
            "colorbar": {
             "outlinewidth": 0,
             "ticks": ""
            },
            "colorscale": [
             [
              0,
              "#0d0887"
             ],
             [
              0.1111111111111111,
              "#46039f"
             ],
             [
              0.2222222222222222,
              "#7201a8"
             ],
             [
              0.3333333333333333,
              "#9c179e"
             ],
             [
              0.4444444444444444,
              "#bd3786"
             ],
             [
              0.5555555555555556,
              "#d8576b"
             ],
             [
              0.6666666666666666,
              "#ed7953"
             ],
             [
              0.7777777777777778,
              "#fb9f3a"
             ],
             [
              0.8888888888888888,
              "#fdca26"
             ],
             [
              1,
              "#f0f921"
             ]
            ],
            "type": "contour"
           }
          ],
          "contourcarpet": [
           {
            "colorbar": {
             "outlinewidth": 0,
             "ticks": ""
            },
            "type": "contourcarpet"
           }
          ],
          "heatmap": [
           {
            "colorbar": {
             "outlinewidth": 0,
             "ticks": ""
            },
            "colorscale": [
             [
              0,
              "#0d0887"
             ],
             [
              0.1111111111111111,
              "#46039f"
             ],
             [
              0.2222222222222222,
              "#7201a8"
             ],
             [
              0.3333333333333333,
              "#9c179e"
             ],
             [
              0.4444444444444444,
              "#bd3786"
             ],
             [
              0.5555555555555556,
              "#d8576b"
             ],
             [
              0.6666666666666666,
              "#ed7953"
             ],
             [
              0.7777777777777778,
              "#fb9f3a"
             ],
             [
              0.8888888888888888,
              "#fdca26"
             ],
             [
              1,
              "#f0f921"
             ]
            ],
            "type": "heatmap"
           }
          ],
          "heatmapgl": [
           {
            "colorbar": {
             "outlinewidth": 0,
             "ticks": ""
            },
            "colorscale": [
             [
              0,
              "#0d0887"
             ],
             [
              0.1111111111111111,
              "#46039f"
             ],
             [
              0.2222222222222222,
              "#7201a8"
             ],
             [
              0.3333333333333333,
              "#9c179e"
             ],
             [
              0.4444444444444444,
              "#bd3786"
             ],
             [
              0.5555555555555556,
              "#d8576b"
             ],
             [
              0.6666666666666666,
              "#ed7953"
             ],
             [
              0.7777777777777778,
              "#fb9f3a"
             ],
             [
              0.8888888888888888,
              "#fdca26"
             ],
             [
              1,
              "#f0f921"
             ]
            ],
            "type": "heatmapgl"
           }
          ],
          "histogram": [
           {
            "marker": {
             "pattern": {
              "fillmode": "overlay",
              "size": 10,
              "solidity": 0.2
             }
            },
            "type": "histogram"
           }
          ],
          "histogram2d": [
           {
            "colorbar": {
             "outlinewidth": 0,
             "ticks": ""
            },
            "colorscale": [
             [
              0,
              "#0d0887"
             ],
             [
              0.1111111111111111,
              "#46039f"
             ],
             [
              0.2222222222222222,
              "#7201a8"
             ],
             [
              0.3333333333333333,
              "#9c179e"
             ],
             [
              0.4444444444444444,
              "#bd3786"
             ],
             [
              0.5555555555555556,
              "#d8576b"
             ],
             [
              0.6666666666666666,
              "#ed7953"
             ],
             [
              0.7777777777777778,
              "#fb9f3a"
             ],
             [
              0.8888888888888888,
              "#fdca26"
             ],
             [
              1,
              "#f0f921"
             ]
            ],
            "type": "histogram2d"
           }
          ],
          "histogram2dcontour": [
           {
            "colorbar": {
             "outlinewidth": 0,
             "ticks": ""
            },
            "colorscale": [
             [
              0,
              "#0d0887"
             ],
             [
              0.1111111111111111,
              "#46039f"
             ],
             [
              0.2222222222222222,
              "#7201a8"
             ],
             [
              0.3333333333333333,
              "#9c179e"
             ],
             [
              0.4444444444444444,
              "#bd3786"
             ],
             [
              0.5555555555555556,
              "#d8576b"
             ],
             [
              0.6666666666666666,
              "#ed7953"
             ],
             [
              0.7777777777777778,
              "#fb9f3a"
             ],
             [
              0.8888888888888888,
              "#fdca26"
             ],
             [
              1,
              "#f0f921"
             ]
            ],
            "type": "histogram2dcontour"
           }
          ],
          "mesh3d": [
           {
            "colorbar": {
             "outlinewidth": 0,
             "ticks": ""
            },
            "type": "mesh3d"
           }
          ],
          "parcoords": [
           {
            "line": {
             "colorbar": {
              "outlinewidth": 0,
              "ticks": ""
             }
            },
            "type": "parcoords"
           }
          ],
          "pie": [
           {
            "automargin": true,
            "type": "pie"
           }
          ],
          "scatter": [
           {
            "fillpattern": {
             "fillmode": "overlay",
             "size": 10,
             "solidity": 0.2
            },
            "type": "scatter"
           }
          ],
          "scatter3d": [
           {
            "line": {
             "colorbar": {
              "outlinewidth": 0,
              "ticks": ""
             }
            },
            "marker": {
             "colorbar": {
              "outlinewidth": 0,
              "ticks": ""
             }
            },
            "type": "scatter3d"
           }
          ],
          "scattercarpet": [
           {
            "marker": {
             "colorbar": {
              "outlinewidth": 0,
              "ticks": ""
             }
            },
            "type": "scattercarpet"
           }
          ],
          "scattergeo": [
           {
            "marker": {
             "colorbar": {
              "outlinewidth": 0,
              "ticks": ""
             }
            },
            "type": "scattergeo"
           }
          ],
          "scattergl": [
           {
            "marker": {
             "colorbar": {
              "outlinewidth": 0,
              "ticks": ""
             }
            },
            "type": "scattergl"
           }
          ],
          "scattermapbox": [
           {
            "marker": {
             "colorbar": {
              "outlinewidth": 0,
              "ticks": ""
             }
            },
            "type": "scattermapbox"
           }
          ],
          "scatterpolar": [
           {
            "marker": {
             "colorbar": {
              "outlinewidth": 0,
              "ticks": ""
             }
            },
            "type": "scatterpolar"
           }
          ],
          "scatterpolargl": [
           {
            "marker": {
             "colorbar": {
              "outlinewidth": 0,
              "ticks": ""
             }
            },
            "type": "scatterpolargl"
           }
          ],
          "scatterternary": [
           {
            "marker": {
             "colorbar": {
              "outlinewidth": 0,
              "ticks": ""
             }
            },
            "type": "scatterternary"
           }
          ],
          "surface": [
           {
            "colorbar": {
             "outlinewidth": 0,
             "ticks": ""
            },
            "colorscale": [
             [
              0,
              "#0d0887"
             ],
             [
              0.1111111111111111,
              "#46039f"
             ],
             [
              0.2222222222222222,
              "#7201a8"
             ],
             [
              0.3333333333333333,
              "#9c179e"
             ],
             [
              0.4444444444444444,
              "#bd3786"
             ],
             [
              0.5555555555555556,
              "#d8576b"
             ],
             [
              0.6666666666666666,
              "#ed7953"
             ],
             [
              0.7777777777777778,
              "#fb9f3a"
             ],
             [
              0.8888888888888888,
              "#fdca26"
             ],
             [
              1,
              "#f0f921"
             ]
            ],
            "type": "surface"
           }
          ],
          "table": [
           {
            "cells": {
             "fill": {
              "color": "#EBF0F8"
             },
             "line": {
              "color": "white"
             }
            },
            "header": {
             "fill": {
              "color": "#C8D4E3"
             },
             "line": {
              "color": "white"
             }
            },
            "type": "table"
           }
          ]
         },
         "layout": {
          "annotationdefaults": {
           "arrowcolor": "#2a3f5f",
           "arrowhead": 0,
           "arrowwidth": 1
          },
          "autotypenumbers": "strict",
          "coloraxis": {
           "colorbar": {
            "outlinewidth": 0,
            "ticks": ""
           }
          },
          "colorscale": {
           "diverging": [
            [
             0,
             "#8e0152"
            ],
            [
             0.1,
             "#c51b7d"
            ],
            [
             0.2,
             "#de77ae"
            ],
            [
             0.3,
             "#f1b6da"
            ],
            [
             0.4,
             "#fde0ef"
            ],
            [
             0.5,
             "#f7f7f7"
            ],
            [
             0.6,
             "#e6f5d0"
            ],
            [
             0.7,
             "#b8e186"
            ],
            [
             0.8,
             "#7fbc41"
            ],
            [
             0.9,
             "#4d9221"
            ],
            [
             1,
             "#276419"
            ]
           ],
           "sequential": [
            [
             0,
             "#0d0887"
            ],
            [
             0.1111111111111111,
             "#46039f"
            ],
            [
             0.2222222222222222,
             "#7201a8"
            ],
            [
             0.3333333333333333,
             "#9c179e"
            ],
            [
             0.4444444444444444,
             "#bd3786"
            ],
            [
             0.5555555555555556,
             "#d8576b"
            ],
            [
             0.6666666666666666,
             "#ed7953"
            ],
            [
             0.7777777777777778,
             "#fb9f3a"
            ],
            [
             0.8888888888888888,
             "#fdca26"
            ],
            [
             1,
             "#f0f921"
            ]
           ],
           "sequentialminus": [
            [
             0,
             "#0d0887"
            ],
            [
             0.1111111111111111,
             "#46039f"
            ],
            [
             0.2222222222222222,
             "#7201a8"
            ],
            [
             0.3333333333333333,
             "#9c179e"
            ],
            [
             0.4444444444444444,
             "#bd3786"
            ],
            [
             0.5555555555555556,
             "#d8576b"
            ],
            [
             0.6666666666666666,
             "#ed7953"
            ],
            [
             0.7777777777777778,
             "#fb9f3a"
            ],
            [
             0.8888888888888888,
             "#fdca26"
            ],
            [
             1,
             "#f0f921"
            ]
           ]
          },
          "colorway": [
           "#636efa",
           "#EF553B",
           "#00cc96",
           "#ab63fa",
           "#FFA15A",
           "#19d3f3",
           "#FF6692",
           "#B6E880",
           "#FF97FF",
           "#FECB52"
          ],
          "font": {
           "color": "#2a3f5f"
          },
          "geo": {
           "bgcolor": "white",
           "lakecolor": "white",
           "landcolor": "#E5ECF6",
           "showlakes": true,
           "showland": true,
           "subunitcolor": "white"
          },
          "hoverlabel": {
           "align": "left"
          },
          "hovermode": "closest",
          "mapbox": {
           "style": "light"
          },
          "paper_bgcolor": "white",
          "plot_bgcolor": "#E5ECF6",
          "polar": {
           "angularaxis": {
            "gridcolor": "white",
            "linecolor": "white",
            "ticks": ""
           },
           "bgcolor": "#E5ECF6",
           "radialaxis": {
            "gridcolor": "white",
            "linecolor": "white",
            "ticks": ""
           }
          },
          "scene": {
           "xaxis": {
            "backgroundcolor": "#E5ECF6",
            "gridcolor": "white",
            "gridwidth": 2,
            "linecolor": "white",
            "showbackground": true,
            "ticks": "",
            "zerolinecolor": "white"
           },
           "yaxis": {
            "backgroundcolor": "#E5ECF6",
            "gridcolor": "white",
            "gridwidth": 2,
            "linecolor": "white",
            "showbackground": true,
            "ticks": "",
            "zerolinecolor": "white"
           },
           "zaxis": {
            "backgroundcolor": "#E5ECF6",
            "gridcolor": "white",
            "gridwidth": 2,
            "linecolor": "white",
            "showbackground": true,
            "ticks": "",
            "zerolinecolor": "white"
           }
          },
          "shapedefaults": {
           "line": {
            "color": "#2a3f5f"
           }
          },
          "ternary": {
           "aaxis": {
            "gridcolor": "white",
            "linecolor": "white",
            "ticks": ""
           },
           "baxis": {
            "gridcolor": "white",
            "linecolor": "white",
            "ticks": ""
           },
           "bgcolor": "#E5ECF6",
           "caxis": {
            "gridcolor": "white",
            "linecolor": "white",
            "ticks": ""
           }
          },
          "title": {
           "x": 0.05
          },
          "xaxis": {
           "automargin": true,
           "gridcolor": "white",
           "linecolor": "white",
           "ticks": "",
           "title": {
            "standoff": 15
           },
           "zerolinecolor": "white",
           "zerolinewidth": 2
          },
          "yaxis": {
           "automargin": true,
           "gridcolor": "white",
           "linecolor": "white",
           "ticks": "",
           "title": {
            "standoff": 15
           },
           "zerolinecolor": "white",
           "zerolinewidth": 2
          }
         }
        },
        "title": {
         "text": "Distribution des opportunités par étape  du pipeline de ventes (Deal Stage)"
        },
        "xaxis": {
         "anchor": "y",
         "domain": [
          0,
          1
         ],
         "title": {
          "text": "Nombre d'opportunités"
         }
        },
        "yaxis": {
         "anchor": "x",
         "domain": [
          0,
          1
         ],
         "title": {
          "text": "Étape du pipeline de ventes"
         }
        }
       }
      }
     },
     "metadata": {},
     "output_type": "display_data"
    }
   ],
   "source": [
    "import plotly.express as px\n",
    "\n",
    "# Compter les occurrences de chaque étape\n",
    "stage_counts = merged_data[\"deal_stage\"].value_counts().reset_index()\n",
    "stage_counts.columns = [\"deal_stage\", \"count\"]  \n",
    "\n",
    "#  graphique en entonnoir\n",
    "fig = px.funnel(\n",
    "    stage_counts,\n",
    "    x=\"count\",  # Nombre d'opportunités\n",
    "    y=\"deal_stage\",  # Étapes du pipeline\n",
    "    title=\"Distribution des opportunités par étape  du pipeline de ventes (Deal Stage)\",\n",
    "    labels={\"count\": \"Nombre d'opportunités\", \"deal_stage\": \"Étape du pipeline de ventes\"}\n",
    ")\n",
    "\n",
    "# Afficher le graphique\n",
    "fig.show()\n"
   ]
  },
  {
   "cell_type": "markdown",
   "metadata": {},
   "source": [
    "Analyse vue d'ensemble du graphique\n",
    "\n",
    "d'après le graphique de notre pipeline de vente  , on remarque que l'étape (Won) à le plus grand nombre d'opportunités(4238) , ce qui signifie que de nombreuses affaires aboutissent avec succès .Avec également une perte considerable de 2473 des opportunités perdues a l'étape (Lost) ,les efforts doivent être faits pour comprendre pourquoi les opportunités sont perdues  et comment améliorer ce taux.\n",
    "des actions doivent fait pour convertir l'etape (Engaging) qui est de 1589 en opportunités de ventes futurs . avec un goulot d'étranglement dans l'étape(Prospecting) de 500 qui reste faible par rapport aux autres étapes , ce qui signifie que la propection reste un point faible dans le processus \n",
    "\n",
    "\n",
    "Analyse stratégique :\n",
    "\n",
    "Vous pourriez analyser pourquoi certaines opportunités se déplacent d'une étape à l'autre avec succès, tandis que d'autres échouent. Cela peut impliquer une révision des pratiques de prospection ou d'engagement.\n",
    "Identifier des modèles ou des tendances au niveau des données liées aux opportunités (secteur, type de produit, etc.) peut fournir des insights pour optimiser le pipeline.\n",
    "\n",
    "\n",
    "Actions et recommandations:\n",
    "\n",
    "Renforcer la prospection : Mettre en place des outils ou stratégies pour augmenter le nombre d'opportunités dans l'étape \"Prospecting\".\n",
    "Réduire les pertes : Analyser les causes de l'étape \"Lost\" et introduire des mesures pour diminuer les abandons (formation, offres adaptées, etc.).\n",
    "Améliorer la conversion : Identifier les caractéristiques des opportunités qui progressent avec succès à travers les étapes pour les appliquer aux opportunités en difficulté."
   ]
  },
  {
   "cell_type": "code",
   "execution_count": 51,
   "metadata": {},
   "outputs": [
    {
     "name": "stdout",
     "output_type": "stream",
     "text": [
      "deal_stage\n",
      "Engaging         750008.0\n",
      "Lost                  0.0\n",
      "Prospecting      236000.0\n",
      "Won            10005534.0\n",
      "Name: close_value, dtype: float64\n"
     ]
    },
    {
     "name": "stderr",
     "output_type": "stream",
     "text": [
      "C:\\Users\\fanti\\AppData\\Local\\Temp\\ipykernel_22588\\63408177.py:1: FutureWarning:\n",
      "\n",
      "The default of observed=False is deprecated and will be changed to True in a future version of pandas. Pass observed=False to retain current behavior or observed=True to adopt the future default and silence this warning.\n",
      "\n"
     ]
    }
   ],
   "source": [
    "Mt_de_trans_par_deal_stage=merged_data.groupby('deal_stage')['close_value'].sum()\n",
    "\n",
    "print(Mt_de_trans_par_deal_stage)\n"
   ]
  },
  {
   "cell_type": "code",
   "execution_count": 52,
   "metadata": {},
   "outputs": [
    {
     "data": {
      "application/vnd.plotly.v1+json": {
       "config": {
        "plotlyServerURL": "https://plot.ly"
       },
       "data": [
        {
         "domain": {
          "x": [
           0,
           1
          ],
          "y": [
           0,
           1
          ]
         },
         "hole": 0.4,
         "hovertemplate": "Étape du pipeline=%{label}<br>Montant total=%{value}<extra></extra>",
         "labels": [
          "Engaging",
          "Lost",
          "Prospecting",
          "Won"
         ],
         "legendgroup": "",
         "name": "",
         "showlegend": true,
         "type": "pie",
         "values": [
          750008,
          0,
          236000,
          10005534
         ]
        }
       ],
       "layout": {
        "legend": {
         "tracegroupgap": 0
        },
        "template": {
         "data": {
          "bar": [
           {
            "error_x": {
             "color": "#2a3f5f"
            },
            "error_y": {
             "color": "#2a3f5f"
            },
            "marker": {
             "line": {
              "color": "#E5ECF6",
              "width": 0.5
             },
             "pattern": {
              "fillmode": "overlay",
              "size": 10,
              "solidity": 0.2
             }
            },
            "type": "bar"
           }
          ],
          "barpolar": [
           {
            "marker": {
             "line": {
              "color": "#E5ECF6",
              "width": 0.5
             },
             "pattern": {
              "fillmode": "overlay",
              "size": 10,
              "solidity": 0.2
             }
            },
            "type": "barpolar"
           }
          ],
          "carpet": [
           {
            "aaxis": {
             "endlinecolor": "#2a3f5f",
             "gridcolor": "white",
             "linecolor": "white",
             "minorgridcolor": "white",
             "startlinecolor": "#2a3f5f"
            },
            "baxis": {
             "endlinecolor": "#2a3f5f",
             "gridcolor": "white",
             "linecolor": "white",
             "minorgridcolor": "white",
             "startlinecolor": "#2a3f5f"
            },
            "type": "carpet"
           }
          ],
          "choropleth": [
           {
            "colorbar": {
             "outlinewidth": 0,
             "ticks": ""
            },
            "type": "choropleth"
           }
          ],
          "contour": [
           {
            "colorbar": {
             "outlinewidth": 0,
             "ticks": ""
            },
            "colorscale": [
             [
              0,
              "#0d0887"
             ],
             [
              0.1111111111111111,
              "#46039f"
             ],
             [
              0.2222222222222222,
              "#7201a8"
             ],
             [
              0.3333333333333333,
              "#9c179e"
             ],
             [
              0.4444444444444444,
              "#bd3786"
             ],
             [
              0.5555555555555556,
              "#d8576b"
             ],
             [
              0.6666666666666666,
              "#ed7953"
             ],
             [
              0.7777777777777778,
              "#fb9f3a"
             ],
             [
              0.8888888888888888,
              "#fdca26"
             ],
             [
              1,
              "#f0f921"
             ]
            ],
            "type": "contour"
           }
          ],
          "contourcarpet": [
           {
            "colorbar": {
             "outlinewidth": 0,
             "ticks": ""
            },
            "type": "contourcarpet"
           }
          ],
          "heatmap": [
           {
            "colorbar": {
             "outlinewidth": 0,
             "ticks": ""
            },
            "colorscale": [
             [
              0,
              "#0d0887"
             ],
             [
              0.1111111111111111,
              "#46039f"
             ],
             [
              0.2222222222222222,
              "#7201a8"
             ],
             [
              0.3333333333333333,
              "#9c179e"
             ],
             [
              0.4444444444444444,
              "#bd3786"
             ],
             [
              0.5555555555555556,
              "#d8576b"
             ],
             [
              0.6666666666666666,
              "#ed7953"
             ],
             [
              0.7777777777777778,
              "#fb9f3a"
             ],
             [
              0.8888888888888888,
              "#fdca26"
             ],
             [
              1,
              "#f0f921"
             ]
            ],
            "type": "heatmap"
           }
          ],
          "heatmapgl": [
           {
            "colorbar": {
             "outlinewidth": 0,
             "ticks": ""
            },
            "colorscale": [
             [
              0,
              "#0d0887"
             ],
             [
              0.1111111111111111,
              "#46039f"
             ],
             [
              0.2222222222222222,
              "#7201a8"
             ],
             [
              0.3333333333333333,
              "#9c179e"
             ],
             [
              0.4444444444444444,
              "#bd3786"
             ],
             [
              0.5555555555555556,
              "#d8576b"
             ],
             [
              0.6666666666666666,
              "#ed7953"
             ],
             [
              0.7777777777777778,
              "#fb9f3a"
             ],
             [
              0.8888888888888888,
              "#fdca26"
             ],
             [
              1,
              "#f0f921"
             ]
            ],
            "type": "heatmapgl"
           }
          ],
          "histogram": [
           {
            "marker": {
             "pattern": {
              "fillmode": "overlay",
              "size": 10,
              "solidity": 0.2
             }
            },
            "type": "histogram"
           }
          ],
          "histogram2d": [
           {
            "colorbar": {
             "outlinewidth": 0,
             "ticks": ""
            },
            "colorscale": [
             [
              0,
              "#0d0887"
             ],
             [
              0.1111111111111111,
              "#46039f"
             ],
             [
              0.2222222222222222,
              "#7201a8"
             ],
             [
              0.3333333333333333,
              "#9c179e"
             ],
             [
              0.4444444444444444,
              "#bd3786"
             ],
             [
              0.5555555555555556,
              "#d8576b"
             ],
             [
              0.6666666666666666,
              "#ed7953"
             ],
             [
              0.7777777777777778,
              "#fb9f3a"
             ],
             [
              0.8888888888888888,
              "#fdca26"
             ],
             [
              1,
              "#f0f921"
             ]
            ],
            "type": "histogram2d"
           }
          ],
          "histogram2dcontour": [
           {
            "colorbar": {
             "outlinewidth": 0,
             "ticks": ""
            },
            "colorscale": [
             [
              0,
              "#0d0887"
             ],
             [
              0.1111111111111111,
              "#46039f"
             ],
             [
              0.2222222222222222,
              "#7201a8"
             ],
             [
              0.3333333333333333,
              "#9c179e"
             ],
             [
              0.4444444444444444,
              "#bd3786"
             ],
             [
              0.5555555555555556,
              "#d8576b"
             ],
             [
              0.6666666666666666,
              "#ed7953"
             ],
             [
              0.7777777777777778,
              "#fb9f3a"
             ],
             [
              0.8888888888888888,
              "#fdca26"
             ],
             [
              1,
              "#f0f921"
             ]
            ],
            "type": "histogram2dcontour"
           }
          ],
          "mesh3d": [
           {
            "colorbar": {
             "outlinewidth": 0,
             "ticks": ""
            },
            "type": "mesh3d"
           }
          ],
          "parcoords": [
           {
            "line": {
             "colorbar": {
              "outlinewidth": 0,
              "ticks": ""
             }
            },
            "type": "parcoords"
           }
          ],
          "pie": [
           {
            "automargin": true,
            "type": "pie"
           }
          ],
          "scatter": [
           {
            "fillpattern": {
             "fillmode": "overlay",
             "size": 10,
             "solidity": 0.2
            },
            "type": "scatter"
           }
          ],
          "scatter3d": [
           {
            "line": {
             "colorbar": {
              "outlinewidth": 0,
              "ticks": ""
             }
            },
            "marker": {
             "colorbar": {
              "outlinewidth": 0,
              "ticks": ""
             }
            },
            "type": "scatter3d"
           }
          ],
          "scattercarpet": [
           {
            "marker": {
             "colorbar": {
              "outlinewidth": 0,
              "ticks": ""
             }
            },
            "type": "scattercarpet"
           }
          ],
          "scattergeo": [
           {
            "marker": {
             "colorbar": {
              "outlinewidth": 0,
              "ticks": ""
             }
            },
            "type": "scattergeo"
           }
          ],
          "scattergl": [
           {
            "marker": {
             "colorbar": {
              "outlinewidth": 0,
              "ticks": ""
             }
            },
            "type": "scattergl"
           }
          ],
          "scattermapbox": [
           {
            "marker": {
             "colorbar": {
              "outlinewidth": 0,
              "ticks": ""
             }
            },
            "type": "scattermapbox"
           }
          ],
          "scatterpolar": [
           {
            "marker": {
             "colorbar": {
              "outlinewidth": 0,
              "ticks": ""
             }
            },
            "type": "scatterpolar"
           }
          ],
          "scatterpolargl": [
           {
            "marker": {
             "colorbar": {
              "outlinewidth": 0,
              "ticks": ""
             }
            },
            "type": "scatterpolargl"
           }
          ],
          "scatterternary": [
           {
            "marker": {
             "colorbar": {
              "outlinewidth": 0,
              "ticks": ""
             }
            },
            "type": "scatterternary"
           }
          ],
          "surface": [
           {
            "colorbar": {
             "outlinewidth": 0,
             "ticks": ""
            },
            "colorscale": [
             [
              0,
              "#0d0887"
             ],
             [
              0.1111111111111111,
              "#46039f"
             ],
             [
              0.2222222222222222,
              "#7201a8"
             ],
             [
              0.3333333333333333,
              "#9c179e"
             ],
             [
              0.4444444444444444,
              "#bd3786"
             ],
             [
              0.5555555555555556,
              "#d8576b"
             ],
             [
              0.6666666666666666,
              "#ed7953"
             ],
             [
              0.7777777777777778,
              "#fb9f3a"
             ],
             [
              0.8888888888888888,
              "#fdca26"
             ],
             [
              1,
              "#f0f921"
             ]
            ],
            "type": "surface"
           }
          ],
          "table": [
           {
            "cells": {
             "fill": {
              "color": "#EBF0F8"
             },
             "line": {
              "color": "white"
             }
            },
            "header": {
             "fill": {
              "color": "#C8D4E3"
             },
             "line": {
              "color": "white"
             }
            },
            "type": "table"
           }
          ]
         },
         "layout": {
          "annotationdefaults": {
           "arrowcolor": "#2a3f5f",
           "arrowhead": 0,
           "arrowwidth": 1
          },
          "autotypenumbers": "strict",
          "coloraxis": {
           "colorbar": {
            "outlinewidth": 0,
            "ticks": ""
           }
          },
          "colorscale": {
           "diverging": [
            [
             0,
             "#8e0152"
            ],
            [
             0.1,
             "#c51b7d"
            ],
            [
             0.2,
             "#de77ae"
            ],
            [
             0.3,
             "#f1b6da"
            ],
            [
             0.4,
             "#fde0ef"
            ],
            [
             0.5,
             "#f7f7f7"
            ],
            [
             0.6,
             "#e6f5d0"
            ],
            [
             0.7,
             "#b8e186"
            ],
            [
             0.8,
             "#7fbc41"
            ],
            [
             0.9,
             "#4d9221"
            ],
            [
             1,
             "#276419"
            ]
           ],
           "sequential": [
            [
             0,
             "#0d0887"
            ],
            [
             0.1111111111111111,
             "#46039f"
            ],
            [
             0.2222222222222222,
             "#7201a8"
            ],
            [
             0.3333333333333333,
             "#9c179e"
            ],
            [
             0.4444444444444444,
             "#bd3786"
            ],
            [
             0.5555555555555556,
             "#d8576b"
            ],
            [
             0.6666666666666666,
             "#ed7953"
            ],
            [
             0.7777777777777778,
             "#fb9f3a"
            ],
            [
             0.8888888888888888,
             "#fdca26"
            ],
            [
             1,
             "#f0f921"
            ]
           ],
           "sequentialminus": [
            [
             0,
             "#0d0887"
            ],
            [
             0.1111111111111111,
             "#46039f"
            ],
            [
             0.2222222222222222,
             "#7201a8"
            ],
            [
             0.3333333333333333,
             "#9c179e"
            ],
            [
             0.4444444444444444,
             "#bd3786"
            ],
            [
             0.5555555555555556,
             "#d8576b"
            ],
            [
             0.6666666666666666,
             "#ed7953"
            ],
            [
             0.7777777777777778,
             "#fb9f3a"
            ],
            [
             0.8888888888888888,
             "#fdca26"
            ],
            [
             1,
             "#f0f921"
            ]
           ]
          },
          "colorway": [
           "#636efa",
           "#EF553B",
           "#00cc96",
           "#ab63fa",
           "#FFA15A",
           "#19d3f3",
           "#FF6692",
           "#B6E880",
           "#FF97FF",
           "#FECB52"
          ],
          "font": {
           "color": "#2a3f5f"
          },
          "geo": {
           "bgcolor": "white",
           "lakecolor": "white",
           "landcolor": "#E5ECF6",
           "showlakes": true,
           "showland": true,
           "subunitcolor": "white"
          },
          "hoverlabel": {
           "align": "left"
          },
          "hovermode": "closest",
          "mapbox": {
           "style": "light"
          },
          "paper_bgcolor": "white",
          "plot_bgcolor": "#E5ECF6",
          "polar": {
           "angularaxis": {
            "gridcolor": "white",
            "linecolor": "white",
            "ticks": ""
           },
           "bgcolor": "#E5ECF6",
           "radialaxis": {
            "gridcolor": "white",
            "linecolor": "white",
            "ticks": ""
           }
          },
          "scene": {
           "xaxis": {
            "backgroundcolor": "#E5ECF6",
            "gridcolor": "white",
            "gridwidth": 2,
            "linecolor": "white",
            "showbackground": true,
            "ticks": "",
            "zerolinecolor": "white"
           },
           "yaxis": {
            "backgroundcolor": "#E5ECF6",
            "gridcolor": "white",
            "gridwidth": 2,
            "linecolor": "white",
            "showbackground": true,
            "ticks": "",
            "zerolinecolor": "white"
           },
           "zaxis": {
            "backgroundcolor": "#E5ECF6",
            "gridcolor": "white",
            "gridwidth": 2,
            "linecolor": "white",
            "showbackground": true,
            "ticks": "",
            "zerolinecolor": "white"
           }
          },
          "shapedefaults": {
           "line": {
            "color": "#2a3f5f"
           }
          },
          "ternary": {
           "aaxis": {
            "gridcolor": "white",
            "linecolor": "white",
            "ticks": ""
           },
           "baxis": {
            "gridcolor": "white",
            "linecolor": "white",
            "ticks": ""
           },
           "bgcolor": "#E5ECF6",
           "caxis": {
            "gridcolor": "white",
            "linecolor": "white",
            "ticks": ""
           }
          },
          "title": {
           "x": 0.05
          },
          "xaxis": {
           "automargin": true,
           "gridcolor": "white",
           "linecolor": "white",
           "ticks": "",
           "title": {
            "standoff": 15
           },
           "zerolinecolor": "white",
           "zerolinewidth": 2
          },
          "yaxis": {
           "automargin": true,
           "gridcolor": "white",
           "linecolor": "white",
           "ticks": "",
           "title": {
            "standoff": 15
           },
           "zerolinecolor": "white",
           "zerolinewidth": 2
          }
         }
        },
        "title": {
         "text": "Répartition des montants des transactions par etape du pipeline de ventes  "
        }
       }
      }
     },
     "metadata": {},
     "output_type": "display_data"
    }
   ],
   "source": [
    "fig = px.pie(\n",
    "    Mt_de_trans_par_deal_stage.reset_index(),\n",
    "    names='deal_stage',\n",
    "    values='close_value',\n",
    "    title=\"Répartition des montants des transactions par etape du pipeline de ventes  \",\n",
    "    hole=0.4, \n",
    "    labels={'deal_stage': 'Étape du pipeline', 'close_value': 'Montant total'}\n",
    ")\n",
    "fig.show()"
   ]
  },
  {
   "cell_type": "markdown",
   "metadata": {},
   "source": [
    "Analyse du visuel de la repartition de transaction par etape du pipeline de ventes\n",
    "\n",
    "Étape majoritaire :\n",
    "\n",
    "La grande majorité des montants des transactions (91%) se trouvent à l'étape \"Won\" (gagnée). Cela indique une bonne performance globale dans la conclusion des opportunités de vente.\n",
    "Étapes moins performantes :\n",
    "\n",
    "Les montants associés à l'étape \"Engaging\" représentent 6.82%.\n",
    "L'étape \"Prospecting\" est très faible avec seulement 2.15%.\n",
    "L'étape \"Lost\" (perdue) est quasiment nulle ou très marginale.\n",
    "\n",
    "Interprétation :\n",
    "\n",
    "Une grande proportion de transactions atteignent la phase finale et sont conclues (Won). Cela peut indiquer un pipeline de vente efficace ou des produits/services attractifs.\n",
    "Cependant, la faible proportion dans les étapes intermédiaires (\"Engaging\", \"Prospecting\") peut suggérer :\n",
    "Un manque de nouvelles opportunités en amont.\n",
    "Une nécessité d’optimiser les efforts au début du pipeline pour augmenter le nombre de prospects qualifiés.\n",
    "\n",
    "\n",
    "Recommandations potentielles :\n",
    "\n",
    "Augmenter les efforts de prospection :\n",
    "Identifier pourquoi le volume des opportunités est faible au niveau de \"Prospecting\".\n",
    "Renforcer les stratégies de marketing et de génération de leads.\n",
    "Améliorer la conversion dans les étapes intermédiaires :\n",
    "Identifier les blocages ou obstacles dans l’étape \"Engaging\".\n",
    "Former les commerciaux pour optimiser leurs interactions avec les clients potentiels.\n",
    "Analyser les pertes :\n",
    "Même si les \"Lost\" sont faibles, analyser pourquoi certaines opportunités sont perdues pour minimiser ce taux"
   ]
  },
  {
   "cell_type": "markdown",
   "metadata": {},
   "source": [
    "Analyse de la performances des commerciaux \n"
   ]
  },
  {
   "cell_type": "code",
   "execution_count": 53,
   "metadata": {},
   "outputs": [
    {
     "name": "stdout",
     "output_type": "stream",
     "text": [
      "sales_agent\n",
      "Darcel Schlecht       1411515.45\n",
      "Vicki Laflamme        1266555.52\n",
      "Kary Hendrixson       1264753.51\n",
      "Kami Bicknell          956047.87\n",
      "Zane Levy              895845.96\n",
      "Anna Snelling          893267.25\n",
      "Maureen Marcano        841976.20\n",
      "Markita Hansen         830669.65\n",
      "Corliss Cosme          808993.81\n",
      "Jonathan Berthelot     752529.86\n",
      "Cassey Cress           747226.16\n",
      "Donn Cantrell          718116.21\n",
      "James Ascencio         710062.05\n",
      "Versie Hillebrand      677823.25\n",
      "Gladys Colclough       648560.96\n",
      "Lajuana Vencill        648271.29\n",
      "Daniell Hammack        637191.34\n",
      "Reed Clapper           625660.61\n",
      "Violet Mclelland       557859.16\n",
      "Niesha Huffines        522330.75\n",
      "Marty Freudenburg      521877.92\n",
      "Boris Faz              515104.59\n",
      "Hayden Neloms          505679.40\n",
      "Moses Frase            481117.35\n",
      "Elease Gluck           420866.01\n",
      "Cecily Lampkin         411954.09\n",
      "Rosie Papadopoulos     408136.23\n",
      "Rosalina Dieter        362807.61\n",
      "Garret Kinder          342703.86\n",
      "Wilburn Farren         232358.16\n",
      "Name: revenue, dtype: float64\n"
     ]
    }
   ],
   "source": [
    "revenue_by_agent = merged_data.groupby('sales_agent')['revenue'].sum().sort_values(ascending=False)\n",
    "\n",
    "print(revenue_by_agent)\n"
   ]
  },
  {
   "cell_type": "code",
   "execution_count": 54,
   "metadata": {},
   "outputs": [
    {
     "data": {
      "application/vnd.plotly.v1+json": {
       "config": {
        "plotlyServerURL": "https://plot.ly"
       },
       "data": [
        {
         "alignmentgroup": "True",
         "hovertemplate": "variable=revenue<br>commercial=%{x}<br>revenue=%{y}<extra></extra>",
         "legendgroup": "revenue",
         "marker": {
          "color": "#636efa",
          "pattern": {
           "shape": ""
          }
         },
         "name": "revenue",
         "offsetgroup": "revenue",
         "orientation": "v",
         "showlegend": true,
         "textposition": "auto",
         "type": "bar",
         "x": [
          "Darcel Schlecht",
          "Vicki Laflamme",
          "Kary Hendrixson",
          "Kami Bicknell",
          "Zane Levy",
          "Anna Snelling",
          "Maureen Marcano",
          "Markita Hansen",
          "Corliss Cosme",
          "Jonathan Berthelot",
          "Cassey Cress",
          "Donn Cantrell",
          "James Ascencio",
          "Versie Hillebrand",
          "Gladys Colclough",
          "Lajuana Vencill",
          "Daniell Hammack",
          "Reed Clapper",
          "Violet Mclelland",
          "Niesha Huffines",
          "Marty Freudenburg",
          "Boris Faz",
          "Hayden Neloms",
          "Moses Frase",
          "Elease Gluck",
          "Cecily Lampkin",
          "Rosie Papadopoulos",
          "Rosalina Dieter",
          "Garret Kinder",
          "Wilburn Farren"
         ],
         "xaxis": "x",
         "y": [
          1411515.45,
          1266555.52,
          1264753.51,
          956047.87,
          895845.96,
          893267.25,
          841976.2,
          830669.65,
          808993.81,
          752529.86,
          747226.16,
          718116.21,
          710062.05,
          677823.25,
          648560.96,
          648271.29,
          637191.34,
          625660.61,
          557859.16,
          522330.75,
          521877.92,
          515104.59,
          505679.4,
          481117.35,
          420866.01,
          411954.09,
          408136.23000000004,
          362807.61,
          342703.86,
          232358.16
         ],
         "yaxis": "y"
        }
       ],
       "layout": {
        "barmode": "relative",
        "legend": {
         "title": {
          "text": "variable"
         },
         "tracegroupgap": 0
        },
        "template": {
         "data": {
          "bar": [
           {
            "error_x": {
             "color": "#2a3f5f"
            },
            "error_y": {
             "color": "#2a3f5f"
            },
            "marker": {
             "line": {
              "color": "#E5ECF6",
              "width": 0.5
             },
             "pattern": {
              "fillmode": "overlay",
              "size": 10,
              "solidity": 0.2
             }
            },
            "type": "bar"
           }
          ],
          "barpolar": [
           {
            "marker": {
             "line": {
              "color": "#E5ECF6",
              "width": 0.5
             },
             "pattern": {
              "fillmode": "overlay",
              "size": 10,
              "solidity": 0.2
             }
            },
            "type": "barpolar"
           }
          ],
          "carpet": [
           {
            "aaxis": {
             "endlinecolor": "#2a3f5f",
             "gridcolor": "white",
             "linecolor": "white",
             "minorgridcolor": "white",
             "startlinecolor": "#2a3f5f"
            },
            "baxis": {
             "endlinecolor": "#2a3f5f",
             "gridcolor": "white",
             "linecolor": "white",
             "minorgridcolor": "white",
             "startlinecolor": "#2a3f5f"
            },
            "type": "carpet"
           }
          ],
          "choropleth": [
           {
            "colorbar": {
             "outlinewidth": 0,
             "ticks": ""
            },
            "type": "choropleth"
           }
          ],
          "contour": [
           {
            "colorbar": {
             "outlinewidth": 0,
             "ticks": ""
            },
            "colorscale": [
             [
              0,
              "#0d0887"
             ],
             [
              0.1111111111111111,
              "#46039f"
             ],
             [
              0.2222222222222222,
              "#7201a8"
             ],
             [
              0.3333333333333333,
              "#9c179e"
             ],
             [
              0.4444444444444444,
              "#bd3786"
             ],
             [
              0.5555555555555556,
              "#d8576b"
             ],
             [
              0.6666666666666666,
              "#ed7953"
             ],
             [
              0.7777777777777778,
              "#fb9f3a"
             ],
             [
              0.8888888888888888,
              "#fdca26"
             ],
             [
              1,
              "#f0f921"
             ]
            ],
            "type": "contour"
           }
          ],
          "contourcarpet": [
           {
            "colorbar": {
             "outlinewidth": 0,
             "ticks": ""
            },
            "type": "contourcarpet"
           }
          ],
          "heatmap": [
           {
            "colorbar": {
             "outlinewidth": 0,
             "ticks": ""
            },
            "colorscale": [
             [
              0,
              "#0d0887"
             ],
             [
              0.1111111111111111,
              "#46039f"
             ],
             [
              0.2222222222222222,
              "#7201a8"
             ],
             [
              0.3333333333333333,
              "#9c179e"
             ],
             [
              0.4444444444444444,
              "#bd3786"
             ],
             [
              0.5555555555555556,
              "#d8576b"
             ],
             [
              0.6666666666666666,
              "#ed7953"
             ],
             [
              0.7777777777777778,
              "#fb9f3a"
             ],
             [
              0.8888888888888888,
              "#fdca26"
             ],
             [
              1,
              "#f0f921"
             ]
            ],
            "type": "heatmap"
           }
          ],
          "heatmapgl": [
           {
            "colorbar": {
             "outlinewidth": 0,
             "ticks": ""
            },
            "colorscale": [
             [
              0,
              "#0d0887"
             ],
             [
              0.1111111111111111,
              "#46039f"
             ],
             [
              0.2222222222222222,
              "#7201a8"
             ],
             [
              0.3333333333333333,
              "#9c179e"
             ],
             [
              0.4444444444444444,
              "#bd3786"
             ],
             [
              0.5555555555555556,
              "#d8576b"
             ],
             [
              0.6666666666666666,
              "#ed7953"
             ],
             [
              0.7777777777777778,
              "#fb9f3a"
             ],
             [
              0.8888888888888888,
              "#fdca26"
             ],
             [
              1,
              "#f0f921"
             ]
            ],
            "type": "heatmapgl"
           }
          ],
          "histogram": [
           {
            "marker": {
             "pattern": {
              "fillmode": "overlay",
              "size": 10,
              "solidity": 0.2
             }
            },
            "type": "histogram"
           }
          ],
          "histogram2d": [
           {
            "colorbar": {
             "outlinewidth": 0,
             "ticks": ""
            },
            "colorscale": [
             [
              0,
              "#0d0887"
             ],
             [
              0.1111111111111111,
              "#46039f"
             ],
             [
              0.2222222222222222,
              "#7201a8"
             ],
             [
              0.3333333333333333,
              "#9c179e"
             ],
             [
              0.4444444444444444,
              "#bd3786"
             ],
             [
              0.5555555555555556,
              "#d8576b"
             ],
             [
              0.6666666666666666,
              "#ed7953"
             ],
             [
              0.7777777777777778,
              "#fb9f3a"
             ],
             [
              0.8888888888888888,
              "#fdca26"
             ],
             [
              1,
              "#f0f921"
             ]
            ],
            "type": "histogram2d"
           }
          ],
          "histogram2dcontour": [
           {
            "colorbar": {
             "outlinewidth": 0,
             "ticks": ""
            },
            "colorscale": [
             [
              0,
              "#0d0887"
             ],
             [
              0.1111111111111111,
              "#46039f"
             ],
             [
              0.2222222222222222,
              "#7201a8"
             ],
             [
              0.3333333333333333,
              "#9c179e"
             ],
             [
              0.4444444444444444,
              "#bd3786"
             ],
             [
              0.5555555555555556,
              "#d8576b"
             ],
             [
              0.6666666666666666,
              "#ed7953"
             ],
             [
              0.7777777777777778,
              "#fb9f3a"
             ],
             [
              0.8888888888888888,
              "#fdca26"
             ],
             [
              1,
              "#f0f921"
             ]
            ],
            "type": "histogram2dcontour"
           }
          ],
          "mesh3d": [
           {
            "colorbar": {
             "outlinewidth": 0,
             "ticks": ""
            },
            "type": "mesh3d"
           }
          ],
          "parcoords": [
           {
            "line": {
             "colorbar": {
              "outlinewidth": 0,
              "ticks": ""
             }
            },
            "type": "parcoords"
           }
          ],
          "pie": [
           {
            "automargin": true,
            "type": "pie"
           }
          ],
          "scatter": [
           {
            "fillpattern": {
             "fillmode": "overlay",
             "size": 10,
             "solidity": 0.2
            },
            "type": "scatter"
           }
          ],
          "scatter3d": [
           {
            "line": {
             "colorbar": {
              "outlinewidth": 0,
              "ticks": ""
             }
            },
            "marker": {
             "colorbar": {
              "outlinewidth": 0,
              "ticks": ""
             }
            },
            "type": "scatter3d"
           }
          ],
          "scattercarpet": [
           {
            "marker": {
             "colorbar": {
              "outlinewidth": 0,
              "ticks": ""
             }
            },
            "type": "scattercarpet"
           }
          ],
          "scattergeo": [
           {
            "marker": {
             "colorbar": {
              "outlinewidth": 0,
              "ticks": ""
             }
            },
            "type": "scattergeo"
           }
          ],
          "scattergl": [
           {
            "marker": {
             "colorbar": {
              "outlinewidth": 0,
              "ticks": ""
             }
            },
            "type": "scattergl"
           }
          ],
          "scattermapbox": [
           {
            "marker": {
             "colorbar": {
              "outlinewidth": 0,
              "ticks": ""
             }
            },
            "type": "scattermapbox"
           }
          ],
          "scatterpolar": [
           {
            "marker": {
             "colorbar": {
              "outlinewidth": 0,
              "ticks": ""
             }
            },
            "type": "scatterpolar"
           }
          ],
          "scatterpolargl": [
           {
            "marker": {
             "colorbar": {
              "outlinewidth": 0,
              "ticks": ""
             }
            },
            "type": "scatterpolargl"
           }
          ],
          "scatterternary": [
           {
            "marker": {
             "colorbar": {
              "outlinewidth": 0,
              "ticks": ""
             }
            },
            "type": "scatterternary"
           }
          ],
          "surface": [
           {
            "colorbar": {
             "outlinewidth": 0,
             "ticks": ""
            },
            "colorscale": [
             [
              0,
              "#0d0887"
             ],
             [
              0.1111111111111111,
              "#46039f"
             ],
             [
              0.2222222222222222,
              "#7201a8"
             ],
             [
              0.3333333333333333,
              "#9c179e"
             ],
             [
              0.4444444444444444,
              "#bd3786"
             ],
             [
              0.5555555555555556,
              "#d8576b"
             ],
             [
              0.6666666666666666,
              "#ed7953"
             ],
             [
              0.7777777777777778,
              "#fb9f3a"
             ],
             [
              0.8888888888888888,
              "#fdca26"
             ],
             [
              1,
              "#f0f921"
             ]
            ],
            "type": "surface"
           }
          ],
          "table": [
           {
            "cells": {
             "fill": {
              "color": "#EBF0F8"
             },
             "line": {
              "color": "white"
             }
            },
            "header": {
             "fill": {
              "color": "#C8D4E3"
             },
             "line": {
              "color": "white"
             }
            },
            "type": "table"
           }
          ]
         },
         "layout": {
          "annotationdefaults": {
           "arrowcolor": "#2a3f5f",
           "arrowhead": 0,
           "arrowwidth": 1
          },
          "autotypenumbers": "strict",
          "coloraxis": {
           "colorbar": {
            "outlinewidth": 0,
            "ticks": ""
           }
          },
          "colorscale": {
           "diverging": [
            [
             0,
             "#8e0152"
            ],
            [
             0.1,
             "#c51b7d"
            ],
            [
             0.2,
             "#de77ae"
            ],
            [
             0.3,
             "#f1b6da"
            ],
            [
             0.4,
             "#fde0ef"
            ],
            [
             0.5,
             "#f7f7f7"
            ],
            [
             0.6,
             "#e6f5d0"
            ],
            [
             0.7,
             "#b8e186"
            ],
            [
             0.8,
             "#7fbc41"
            ],
            [
             0.9,
             "#4d9221"
            ],
            [
             1,
             "#276419"
            ]
           ],
           "sequential": [
            [
             0,
             "#0d0887"
            ],
            [
             0.1111111111111111,
             "#46039f"
            ],
            [
             0.2222222222222222,
             "#7201a8"
            ],
            [
             0.3333333333333333,
             "#9c179e"
            ],
            [
             0.4444444444444444,
             "#bd3786"
            ],
            [
             0.5555555555555556,
             "#d8576b"
            ],
            [
             0.6666666666666666,
             "#ed7953"
            ],
            [
             0.7777777777777778,
             "#fb9f3a"
            ],
            [
             0.8888888888888888,
             "#fdca26"
            ],
            [
             1,
             "#f0f921"
            ]
           ],
           "sequentialminus": [
            [
             0,
             "#0d0887"
            ],
            [
             0.1111111111111111,
             "#46039f"
            ],
            [
             0.2222222222222222,
             "#7201a8"
            ],
            [
             0.3333333333333333,
             "#9c179e"
            ],
            [
             0.4444444444444444,
             "#bd3786"
            ],
            [
             0.5555555555555556,
             "#d8576b"
            ],
            [
             0.6666666666666666,
             "#ed7953"
            ],
            [
             0.7777777777777778,
             "#fb9f3a"
            ],
            [
             0.8888888888888888,
             "#fdca26"
            ],
            [
             1,
             "#f0f921"
            ]
           ]
          },
          "colorway": [
           "#636efa",
           "#EF553B",
           "#00cc96",
           "#ab63fa",
           "#FFA15A",
           "#19d3f3",
           "#FF6692",
           "#B6E880",
           "#FF97FF",
           "#FECB52"
          ],
          "font": {
           "color": "#2a3f5f"
          },
          "geo": {
           "bgcolor": "white",
           "lakecolor": "white",
           "landcolor": "#E5ECF6",
           "showlakes": true,
           "showland": true,
           "subunitcolor": "white"
          },
          "hoverlabel": {
           "align": "left"
          },
          "hovermode": "closest",
          "mapbox": {
           "style": "light"
          },
          "paper_bgcolor": "white",
          "plot_bgcolor": "#E5ECF6",
          "polar": {
           "angularaxis": {
            "gridcolor": "white",
            "linecolor": "white",
            "ticks": ""
           },
           "bgcolor": "#E5ECF6",
           "radialaxis": {
            "gridcolor": "white",
            "linecolor": "white",
            "ticks": ""
           }
          },
          "scene": {
           "xaxis": {
            "backgroundcolor": "#E5ECF6",
            "gridcolor": "white",
            "gridwidth": 2,
            "linecolor": "white",
            "showbackground": true,
            "ticks": "",
            "zerolinecolor": "white"
           },
           "yaxis": {
            "backgroundcolor": "#E5ECF6",
            "gridcolor": "white",
            "gridwidth": 2,
            "linecolor": "white",
            "showbackground": true,
            "ticks": "",
            "zerolinecolor": "white"
           },
           "zaxis": {
            "backgroundcolor": "#E5ECF6",
            "gridcolor": "white",
            "gridwidth": 2,
            "linecolor": "white",
            "showbackground": true,
            "ticks": "",
            "zerolinecolor": "white"
           }
          },
          "shapedefaults": {
           "line": {
            "color": "#2a3f5f"
           }
          },
          "ternary": {
           "aaxis": {
            "gridcolor": "white",
            "linecolor": "white",
            "ticks": ""
           },
           "baxis": {
            "gridcolor": "white",
            "linecolor": "white",
            "ticks": ""
           },
           "bgcolor": "#E5ECF6",
           "caxis": {
            "gridcolor": "white",
            "linecolor": "white",
            "ticks": ""
           }
          },
          "title": {
           "x": 0.05
          },
          "xaxis": {
           "automargin": true,
           "gridcolor": "white",
           "linecolor": "white",
           "ticks": "",
           "title": {
            "standoff": 15
           },
           "zerolinecolor": "white",
           "zerolinewidth": 2
          },
          "yaxis": {
           "automargin": true,
           "gridcolor": "white",
           "linecolor": "white",
           "ticks": "",
           "title": {
            "standoff": 15
           },
           "zerolinecolor": "white",
           "zerolinewidth": 2
          }
         }
        },
        "title": {
         "text": "revenue_par_commercial"
        },
        "xaxis": {
         "anchor": "y",
         "domain": [
          0,
          1
         ],
         "title": {
          "text": "commercial"
         }
        },
        "yaxis": {
         "anchor": "x",
         "domain": [
          0,
          1
         ],
         "title": {
          "text": "revenue"
         }
        }
       }
      }
     },
     "metadata": {},
     "output_type": "display_data"
    }
   ],
   "source": [
    "fig =px.bar(revenue_by_agent, title=\"revenue_par_commercial\",labels={'value':'revenue','sales_agent':'commercial'})\n",
    "\n",
    "fig.show()"
   ]
  },
  {
   "cell_type": "markdown",
   "metadata": {},
   "source": [
    "l'analyse des revenue par commercial afin de mettre en lumière ou les efforts peuvent être concentrés pour optimiser la performance globale\n",
    "\n",
    "Top performeurs :\n",
    "\n",
    "Les commerciaux Darcel Schlecht, Kary Hendrixson et Vicki Laflamme sont les meilleurs contributeurs en termes de revenus, générant plus de 1 million de revenus chacun.\n",
    "Cela pourrait indiquer une expertise spécifique, un portefeuille client avantageux ou une stratégie efficace qu'ils emploient.\n",
    "\n",
    "Performances moyennes :\n",
    "\n",
    "Un groupe de commerciaux, comme Zane Levy, Kami Bicknell, et Anna Snelling, génèrent des revenus moyens, mais ils ont un potentiel pour atteindre le niveau des top performeurs.\n",
    "\n",
    "Performances faibles :\n",
    "\n",
    "Les commerciaux comme Wilburn Farren, Garret Kinder, et Rosalina Dieter génèrent les revenus les plus faibles. Cela pourrait être dû à :\n",
    "Une zone géographique moins rentable.\n",
    "Moins d’expérience ou de formation.\n",
    "Un manque de focus ou de leads de qualité.\n",
    "\n",
    "Interprétation générale :\n",
    "\n",
    "La distribution des performances montre une forte concentration de revenus parmi quelques commerciaux, avec un déclin progressif vers les moins performants.\n",
    "Cela indique une inégalité de performance dans l'équipe commerciale, ce qui peut être un point d'amélioration.\n",
    "\n",
    "Recommandations suggérés :\n",
    "\n",
    "Analyser les stratégies des meilleurs performeurs pour les partager avec l'équipe : outils utilisés, méthodes de communication, gestion des leads, etc.\n",
    "\n",
    "Former les commerciaux avec des performances faibles : Mettre en place des programmes de coaching et des outils pour améliorer leurs résultats.\n",
    "\n",
    "Répartition des leads : Équilibrer la qualité des leads attribués pour donner des chances égales à tous les commerciaux.\n",
    "\n",
    "Focus géographique ou sectoriel : Examiner si les secteurs ou régions attribués à certains commerciaux influencent leur performance.\n",
    "\n"
   ]
  },
  {
   "cell_type": "markdown",
   "metadata": {},
   "source": [
    "2.3 Analyse de la segmentation par secteur"
   ]
  },
  {
   "cell_type": "code",
   "execution_count": 55,
   "metadata": {},
   "outputs": [
    {
     "name": "stdout",
     "output_type": "stream",
     "text": [
      "sector\n",
      "software              4285554.27\n",
      "technolgy             4058060.84\n",
      "Inconnu               2419935.00\n",
      "retail                2353855.56\n",
      "medical               1564479.30\n",
      "finance               1492698.60\n",
      "telecommunications    1442328.95\n",
      "marketing             1181885.46\n",
      "entertainment          876968.17\n",
      "employment             520220.55\n",
      "services               421875.38\n",
      "Name: revenue, dtype: float64\n"
     ]
    },
    {
     "name": "stderr",
     "output_type": "stream",
     "text": [
      "C:\\Users\\fanti\\AppData\\Local\\Temp\\ipykernel_22588\\853997489.py:1: FutureWarning:\n",
      "\n",
      "The default of observed=False is deprecated and will be changed to True in a future version of pandas. Pass observed=False to retain current behavior or observed=True to adopt the future default and silence this warning.\n",
      "\n"
     ]
    }
   ],
   "source": [
    "revenue_by_sector= merged_data.groupby(\"sector\")[\"revenue\"].sum().sort_values(ascending=False)\n",
    "\n",
    "print(revenue_by_sector)"
   ]
  },
  {
   "cell_type": "code",
   "execution_count": 56,
   "metadata": {},
   "outputs": [
    {
     "data": {
      "application/vnd.plotly.v1+json": {
       "config": {
        "plotlyServerURL": "https://plot.ly"
       },
       "data": [
        {
         "alignmentgroup": "True",
         "hovertemplate": "variable=revenue<br>Secteur=%{x}<br>revenue=%{y}<extra></extra>",
         "legendgroup": "revenue",
         "marker": {
          "color": "#636efa",
          "pattern": {
           "shape": ""
          }
         },
         "name": "revenue",
         "offsetgroup": "revenue",
         "orientation": "v",
         "showlegend": true,
         "textposition": "auto",
         "type": "bar",
         "x": [
          "software",
          "technolgy",
          "Inconnu",
          "retail",
          "medical",
          "finance",
          "telecommunications",
          "marketing",
          "entertainment",
          "employment",
          "services"
         ],
         "xaxis": "x",
         "y": [
          4285554.2700000005,
          4058060.84,
          2419935,
          2353855.56,
          1564479.3,
          1492698.6,
          1442328.95,
          1181885.46,
          876968.1699999999,
          520220.55,
          421875.38
         ],
         "yaxis": "y"
        }
       ],
       "layout": {
        "barmode": "relative",
        "legend": {
         "title": {
          "text": "variable"
         },
         "tracegroupgap": 0
        },
        "template": {
         "data": {
          "bar": [
           {
            "error_x": {
             "color": "#2a3f5f"
            },
            "error_y": {
             "color": "#2a3f5f"
            },
            "marker": {
             "line": {
              "color": "#E5ECF6",
              "width": 0.5
             },
             "pattern": {
              "fillmode": "overlay",
              "size": 10,
              "solidity": 0.2
             }
            },
            "type": "bar"
           }
          ],
          "barpolar": [
           {
            "marker": {
             "line": {
              "color": "#E5ECF6",
              "width": 0.5
             },
             "pattern": {
              "fillmode": "overlay",
              "size": 10,
              "solidity": 0.2
             }
            },
            "type": "barpolar"
           }
          ],
          "carpet": [
           {
            "aaxis": {
             "endlinecolor": "#2a3f5f",
             "gridcolor": "white",
             "linecolor": "white",
             "minorgridcolor": "white",
             "startlinecolor": "#2a3f5f"
            },
            "baxis": {
             "endlinecolor": "#2a3f5f",
             "gridcolor": "white",
             "linecolor": "white",
             "minorgridcolor": "white",
             "startlinecolor": "#2a3f5f"
            },
            "type": "carpet"
           }
          ],
          "choropleth": [
           {
            "colorbar": {
             "outlinewidth": 0,
             "ticks": ""
            },
            "type": "choropleth"
           }
          ],
          "contour": [
           {
            "colorbar": {
             "outlinewidth": 0,
             "ticks": ""
            },
            "colorscale": [
             [
              0,
              "#0d0887"
             ],
             [
              0.1111111111111111,
              "#46039f"
             ],
             [
              0.2222222222222222,
              "#7201a8"
             ],
             [
              0.3333333333333333,
              "#9c179e"
             ],
             [
              0.4444444444444444,
              "#bd3786"
             ],
             [
              0.5555555555555556,
              "#d8576b"
             ],
             [
              0.6666666666666666,
              "#ed7953"
             ],
             [
              0.7777777777777778,
              "#fb9f3a"
             ],
             [
              0.8888888888888888,
              "#fdca26"
             ],
             [
              1,
              "#f0f921"
             ]
            ],
            "type": "contour"
           }
          ],
          "contourcarpet": [
           {
            "colorbar": {
             "outlinewidth": 0,
             "ticks": ""
            },
            "type": "contourcarpet"
           }
          ],
          "heatmap": [
           {
            "colorbar": {
             "outlinewidth": 0,
             "ticks": ""
            },
            "colorscale": [
             [
              0,
              "#0d0887"
             ],
             [
              0.1111111111111111,
              "#46039f"
             ],
             [
              0.2222222222222222,
              "#7201a8"
             ],
             [
              0.3333333333333333,
              "#9c179e"
             ],
             [
              0.4444444444444444,
              "#bd3786"
             ],
             [
              0.5555555555555556,
              "#d8576b"
             ],
             [
              0.6666666666666666,
              "#ed7953"
             ],
             [
              0.7777777777777778,
              "#fb9f3a"
             ],
             [
              0.8888888888888888,
              "#fdca26"
             ],
             [
              1,
              "#f0f921"
             ]
            ],
            "type": "heatmap"
           }
          ],
          "heatmapgl": [
           {
            "colorbar": {
             "outlinewidth": 0,
             "ticks": ""
            },
            "colorscale": [
             [
              0,
              "#0d0887"
             ],
             [
              0.1111111111111111,
              "#46039f"
             ],
             [
              0.2222222222222222,
              "#7201a8"
             ],
             [
              0.3333333333333333,
              "#9c179e"
             ],
             [
              0.4444444444444444,
              "#bd3786"
             ],
             [
              0.5555555555555556,
              "#d8576b"
             ],
             [
              0.6666666666666666,
              "#ed7953"
             ],
             [
              0.7777777777777778,
              "#fb9f3a"
             ],
             [
              0.8888888888888888,
              "#fdca26"
             ],
             [
              1,
              "#f0f921"
             ]
            ],
            "type": "heatmapgl"
           }
          ],
          "histogram": [
           {
            "marker": {
             "pattern": {
              "fillmode": "overlay",
              "size": 10,
              "solidity": 0.2
             }
            },
            "type": "histogram"
           }
          ],
          "histogram2d": [
           {
            "colorbar": {
             "outlinewidth": 0,
             "ticks": ""
            },
            "colorscale": [
             [
              0,
              "#0d0887"
             ],
             [
              0.1111111111111111,
              "#46039f"
             ],
             [
              0.2222222222222222,
              "#7201a8"
             ],
             [
              0.3333333333333333,
              "#9c179e"
             ],
             [
              0.4444444444444444,
              "#bd3786"
             ],
             [
              0.5555555555555556,
              "#d8576b"
             ],
             [
              0.6666666666666666,
              "#ed7953"
             ],
             [
              0.7777777777777778,
              "#fb9f3a"
             ],
             [
              0.8888888888888888,
              "#fdca26"
             ],
             [
              1,
              "#f0f921"
             ]
            ],
            "type": "histogram2d"
           }
          ],
          "histogram2dcontour": [
           {
            "colorbar": {
             "outlinewidth": 0,
             "ticks": ""
            },
            "colorscale": [
             [
              0,
              "#0d0887"
             ],
             [
              0.1111111111111111,
              "#46039f"
             ],
             [
              0.2222222222222222,
              "#7201a8"
             ],
             [
              0.3333333333333333,
              "#9c179e"
             ],
             [
              0.4444444444444444,
              "#bd3786"
             ],
             [
              0.5555555555555556,
              "#d8576b"
             ],
             [
              0.6666666666666666,
              "#ed7953"
             ],
             [
              0.7777777777777778,
              "#fb9f3a"
             ],
             [
              0.8888888888888888,
              "#fdca26"
             ],
             [
              1,
              "#f0f921"
             ]
            ],
            "type": "histogram2dcontour"
           }
          ],
          "mesh3d": [
           {
            "colorbar": {
             "outlinewidth": 0,
             "ticks": ""
            },
            "type": "mesh3d"
           }
          ],
          "parcoords": [
           {
            "line": {
             "colorbar": {
              "outlinewidth": 0,
              "ticks": ""
             }
            },
            "type": "parcoords"
           }
          ],
          "pie": [
           {
            "automargin": true,
            "type": "pie"
           }
          ],
          "scatter": [
           {
            "fillpattern": {
             "fillmode": "overlay",
             "size": 10,
             "solidity": 0.2
            },
            "type": "scatter"
           }
          ],
          "scatter3d": [
           {
            "line": {
             "colorbar": {
              "outlinewidth": 0,
              "ticks": ""
             }
            },
            "marker": {
             "colorbar": {
              "outlinewidth": 0,
              "ticks": ""
             }
            },
            "type": "scatter3d"
           }
          ],
          "scattercarpet": [
           {
            "marker": {
             "colorbar": {
              "outlinewidth": 0,
              "ticks": ""
             }
            },
            "type": "scattercarpet"
           }
          ],
          "scattergeo": [
           {
            "marker": {
             "colorbar": {
              "outlinewidth": 0,
              "ticks": ""
             }
            },
            "type": "scattergeo"
           }
          ],
          "scattergl": [
           {
            "marker": {
             "colorbar": {
              "outlinewidth": 0,
              "ticks": ""
             }
            },
            "type": "scattergl"
           }
          ],
          "scattermapbox": [
           {
            "marker": {
             "colorbar": {
              "outlinewidth": 0,
              "ticks": ""
             }
            },
            "type": "scattermapbox"
           }
          ],
          "scatterpolar": [
           {
            "marker": {
             "colorbar": {
              "outlinewidth": 0,
              "ticks": ""
             }
            },
            "type": "scatterpolar"
           }
          ],
          "scatterpolargl": [
           {
            "marker": {
             "colorbar": {
              "outlinewidth": 0,
              "ticks": ""
             }
            },
            "type": "scatterpolargl"
           }
          ],
          "scatterternary": [
           {
            "marker": {
             "colorbar": {
              "outlinewidth": 0,
              "ticks": ""
             }
            },
            "type": "scatterternary"
           }
          ],
          "surface": [
           {
            "colorbar": {
             "outlinewidth": 0,
             "ticks": ""
            },
            "colorscale": [
             [
              0,
              "#0d0887"
             ],
             [
              0.1111111111111111,
              "#46039f"
             ],
             [
              0.2222222222222222,
              "#7201a8"
             ],
             [
              0.3333333333333333,
              "#9c179e"
             ],
             [
              0.4444444444444444,
              "#bd3786"
             ],
             [
              0.5555555555555556,
              "#d8576b"
             ],
             [
              0.6666666666666666,
              "#ed7953"
             ],
             [
              0.7777777777777778,
              "#fb9f3a"
             ],
             [
              0.8888888888888888,
              "#fdca26"
             ],
             [
              1,
              "#f0f921"
             ]
            ],
            "type": "surface"
           }
          ],
          "table": [
           {
            "cells": {
             "fill": {
              "color": "#EBF0F8"
             },
             "line": {
              "color": "white"
             }
            },
            "header": {
             "fill": {
              "color": "#C8D4E3"
             },
             "line": {
              "color": "white"
             }
            },
            "type": "table"
           }
          ]
         },
         "layout": {
          "annotationdefaults": {
           "arrowcolor": "#2a3f5f",
           "arrowhead": 0,
           "arrowwidth": 1
          },
          "autotypenumbers": "strict",
          "coloraxis": {
           "colorbar": {
            "outlinewidth": 0,
            "ticks": ""
           }
          },
          "colorscale": {
           "diverging": [
            [
             0,
             "#8e0152"
            ],
            [
             0.1,
             "#c51b7d"
            ],
            [
             0.2,
             "#de77ae"
            ],
            [
             0.3,
             "#f1b6da"
            ],
            [
             0.4,
             "#fde0ef"
            ],
            [
             0.5,
             "#f7f7f7"
            ],
            [
             0.6,
             "#e6f5d0"
            ],
            [
             0.7,
             "#b8e186"
            ],
            [
             0.8,
             "#7fbc41"
            ],
            [
             0.9,
             "#4d9221"
            ],
            [
             1,
             "#276419"
            ]
           ],
           "sequential": [
            [
             0,
             "#0d0887"
            ],
            [
             0.1111111111111111,
             "#46039f"
            ],
            [
             0.2222222222222222,
             "#7201a8"
            ],
            [
             0.3333333333333333,
             "#9c179e"
            ],
            [
             0.4444444444444444,
             "#bd3786"
            ],
            [
             0.5555555555555556,
             "#d8576b"
            ],
            [
             0.6666666666666666,
             "#ed7953"
            ],
            [
             0.7777777777777778,
             "#fb9f3a"
            ],
            [
             0.8888888888888888,
             "#fdca26"
            ],
            [
             1,
             "#f0f921"
            ]
           ],
           "sequentialminus": [
            [
             0,
             "#0d0887"
            ],
            [
             0.1111111111111111,
             "#46039f"
            ],
            [
             0.2222222222222222,
             "#7201a8"
            ],
            [
             0.3333333333333333,
             "#9c179e"
            ],
            [
             0.4444444444444444,
             "#bd3786"
            ],
            [
             0.5555555555555556,
             "#d8576b"
            ],
            [
             0.6666666666666666,
             "#ed7953"
            ],
            [
             0.7777777777777778,
             "#fb9f3a"
            ],
            [
             0.8888888888888888,
             "#fdca26"
            ],
            [
             1,
             "#f0f921"
            ]
           ]
          },
          "colorway": [
           "#636efa",
           "#EF553B",
           "#00cc96",
           "#ab63fa",
           "#FFA15A",
           "#19d3f3",
           "#FF6692",
           "#B6E880",
           "#FF97FF",
           "#FECB52"
          ],
          "font": {
           "color": "#2a3f5f"
          },
          "geo": {
           "bgcolor": "white",
           "lakecolor": "white",
           "landcolor": "#E5ECF6",
           "showlakes": true,
           "showland": true,
           "subunitcolor": "white"
          },
          "hoverlabel": {
           "align": "left"
          },
          "hovermode": "closest",
          "mapbox": {
           "style": "light"
          },
          "paper_bgcolor": "white",
          "plot_bgcolor": "#E5ECF6",
          "polar": {
           "angularaxis": {
            "gridcolor": "white",
            "linecolor": "white",
            "ticks": ""
           },
           "bgcolor": "#E5ECF6",
           "radialaxis": {
            "gridcolor": "white",
            "linecolor": "white",
            "ticks": ""
           }
          },
          "scene": {
           "xaxis": {
            "backgroundcolor": "#E5ECF6",
            "gridcolor": "white",
            "gridwidth": 2,
            "linecolor": "white",
            "showbackground": true,
            "ticks": "",
            "zerolinecolor": "white"
           },
           "yaxis": {
            "backgroundcolor": "#E5ECF6",
            "gridcolor": "white",
            "gridwidth": 2,
            "linecolor": "white",
            "showbackground": true,
            "ticks": "",
            "zerolinecolor": "white"
           },
           "zaxis": {
            "backgroundcolor": "#E5ECF6",
            "gridcolor": "white",
            "gridwidth": 2,
            "linecolor": "white",
            "showbackground": true,
            "ticks": "",
            "zerolinecolor": "white"
           }
          },
          "shapedefaults": {
           "line": {
            "color": "#2a3f5f"
           }
          },
          "ternary": {
           "aaxis": {
            "gridcolor": "white",
            "linecolor": "white",
            "ticks": ""
           },
           "baxis": {
            "gridcolor": "white",
            "linecolor": "white",
            "ticks": ""
           },
           "bgcolor": "#E5ECF6",
           "caxis": {
            "gridcolor": "white",
            "linecolor": "white",
            "ticks": ""
           }
          },
          "title": {
           "x": 0.05
          },
          "xaxis": {
           "automargin": true,
           "gridcolor": "white",
           "linecolor": "white",
           "ticks": "",
           "title": {
            "standoff": 15
           },
           "zerolinecolor": "white",
           "zerolinewidth": 2
          },
          "yaxis": {
           "automargin": true,
           "gridcolor": "white",
           "linecolor": "white",
           "ticks": "",
           "title": {
            "standoff": 15
           },
           "zerolinecolor": "white",
           "zerolinewidth": 2
          }
         }
        },
        "title": {
         "text": "Revenus par secteur"
        },
        "xaxis": {
         "anchor": "y",
         "domain": [
          0,
          1
         ],
         "title": {
          "text": "Secteur"
         }
        },
        "yaxis": {
         "anchor": "x",
         "domain": [
          0,
          1
         ],
         "title": {
          "text": "revenue"
         }
        }
       }
      }
     },
     "metadata": {},
     "output_type": "display_data"
    }
   ],
   "source": [
    "fig=px.bar(revenue_by_sector,title='Revenus par secteur', labels={\"value\":'revenue','sector':'Secteur'})\n",
    "\n",
    "fig.show()"
   ]
  },
  {
   "cell_type": "markdown",
   "metadata": {},
   "source": [
    "2.4 Analyse du revenu par secteur \n",
    "\n",
    "\n",
    "Observation :\n",
    "Secteurs dominants :\n",
    "\n",
    "Les secteurs Software et Technology génèrent les revenus les plus élevés, dépassant les 4 millions d'unités monétaires chacun.\n",
    "Cela suggère que ces secteurs sont des marchés clés pour l'entreprise et contribuent de manière significative au chiffre d'affaires.\n",
    "Secteurs intermédiaires :\n",
    "\n",
    "Les secteurs Retail, Medical, Finance, et Telecommunications génèrent des revenus moyens, situés entre 2 et 3 millions d'unités.\n",
    "Ces secteurs offrent des opportunités de croissance, mais ne dominent pas encore le pipeline.\n",
    "Secteurs moins performants :\n",
    "\n",
    "Les secteurs Marketing, Entertainment, Employment, et Services ont les revenus les plus bas.\n",
    "Ces secteurs pourraient ne pas représenter des priorités stratégiques ou souffrent d’un manque d’opportunités exploitées.\n",
    "Catégorie \"Inconnu\" :\n",
    "\n",
    "La catégorie \"Inconnu\" génère un revenu important. Cela peut indiquer des données mal classées ou des clients pour lesquels le secteur n'a pas été renseigné.\n",
    "\n",
    "Interprétation :\n",
    "\n",
    "Focus stratégique :\n",
    "Le pipeline est clairement dominé par les secteurs technologiques. Il serait pertinent de continuer à investir dans ces secteurs tout en explorant des opportunités pour diversifier les sources de revenus.\n",
    "Opportunités d'amélioration :\n",
    "Les secteurs à revenus faibles (Marketing, Services, etc.) peuvent être analysés pour comprendre s’ils offrent un potentiel inexploité ou si des efforts doivent être réorientés ailleurs.\n",
    "Nettoyage des données :\n",
    "La catégorie \"Inconnu\" pourrait être examinée de près. Une classification correcte des clients dans les secteurs appropriés peut améliorer les analyses futures.\n",
    "\n",
    "\n",
    "Recommandations  suggéres:\n",
    "\n",
    "Renforcer les efforts dans les secteurs dominants :\n",
    "\n",
    "Continuer à cibler les clients des secteurs Software et Technology en leur offrant des solutions adaptées pour maintenir la position dominante.\n",
    "\n",
    "Analyser les secteurs moins performants :\n",
    "\n",
    "Identifier les causes des faibles performances dans les secteurs comme Services et Marketing. Est-ce un problème de marché ou de stratégie de vente ?\n",
    "\n",
    "Traiter la catégorie \"Inconnu\" :\n",
    "\n",
    "Travailler avec les équipes pour compléter les données manquantes et classifier correctement les clients non attribués à un secteur.\n",
    "\n",
    "Diversifier le pipeline de ventes :\n",
    "\n",
    "Bien que Software et Technology soient dominants, il est important de diversifier les secteurs cibles pour réduire les risques liés à la dépendance à quelques industries."
   ]
  },
  {
   "cell_type": "code",
   "execution_count": 57,
   "metadata": {},
   "outputs": [
    {
     "data": {
      "text/plain": [
       "['opportunity_id',\n",
       " 'sales_agent',\n",
       " 'product',\n",
       " 'account',\n",
       " 'deal_stage',\n",
       " 'engage_date',\n",
       " 'close_date',\n",
       " 'close_value',\n",
       " 'sector',\n",
       " 'year_established',\n",
       " 'revenue',\n",
       " 'employees',\n",
       " 'office_location',\n",
       " 'subsidiary_of',\n",
       " 'engage_day',\n",
       " 'engage_month',\n",
       " 'engage_year',\n",
       " 'engage_quarter',\n",
       " 'close_day',\n",
       " 'close_month',\n",
       " 'close_year',\n",
       " 'close_quarter',\n",
       " 'manager',\n",
       " 'regional_office',\n",
       " 'series',\n",
       " 'sales_price']"
      ]
     },
     "execution_count": 57,
     "metadata": {},
     "output_type": "execute_result"
    }
   ],
   "source": [
    "merged_data.columns.to_list()"
   ]
  },
  {
   "cell_type": "code",
   "execution_count": 58,
   "metadata": {},
   "outputs": [
    {
     "name": "stdout",
     "output_type": "stream",
     "text": [
      "opportunity_id              object\n",
      "sales_agent                 object\n",
      "product                     object\n",
      "account                     object\n",
      "deal_stage                category\n",
      "engage_date         datetime64[ns]\n",
      "close_date          datetime64[ns]\n",
      "close_value                float64\n",
      "sector                    category\n",
      "year_established             int32\n",
      "revenue                    float64\n",
      "employees                    int32\n",
      "office_location             object\n",
      "subsidiary_of               object\n",
      "engage_day                  object\n",
      "engage_month                object\n",
      "engage_year                  int32\n",
      "engage_quarter               int32\n",
      "close_day                   object\n",
      "close_month                 object\n",
      "close_year                   int32\n",
      "close_quarter                int32\n",
      "manager                     object\n",
      "regional_office           category\n",
      "series                      object\n",
      "sales_price                float64\n",
      "dtype: object\n"
     ]
    }
   ],
   "source": [
    "print(merged_data.dtypes)\n",
    "\n"
   ]
  },
  {
   "cell_type": "code",
   "execution_count": 59,
   "metadata": {},
   "outputs": [
    {
     "name": "stdout",
     "output_type": "stream",
     "text": [
      "  engage_date close_date\n",
      "0  2016-10-20 2017-03-01\n",
      "1  2016-10-25 2017-03-11\n",
      "2  2016-10-25 2017-03-07\n",
      "3  2016-10-25 2017-03-09\n",
      "4  2016-10-25 2017-03-02\n"
     ]
    }
   ],
   "source": [
    "print(merged_data[['engage_date', 'close_date']].head())"
   ]
  }
 ],
 "metadata": {
  "kernelspec": {
   "display_name": "env",
   "language": "python",
   "name": "python3"
  },
  "language_info": {
   "codemirror_mode": {
    "name": "ipython",
    "version": 3
   },
   "file_extension": ".py",
   "mimetype": "text/x-python",
   "name": "python",
   "nbconvert_exporter": "python",
   "pygments_lexer": "ipython3",
   "version": "3.12.6"
  }
 },
 "nbformat": 4,
 "nbformat_minor": 2
}
